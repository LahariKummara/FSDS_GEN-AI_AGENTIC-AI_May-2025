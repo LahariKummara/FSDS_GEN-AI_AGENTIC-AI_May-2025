{
 "cells": [
  {
   "cell_type": "markdown",
   "id": "9c463ed6-9d62-4ef1-bed9-a560229860b4",
   "metadata": {},
   "source": [
    "# python programming language"
   ]
  },
  {
   "cell_type": "code",
   "execution_count": 1,
   "id": "be572218-4385-4cb5-8444-67f1cfd85199",
   "metadata": {},
   "outputs": [
    {
     "data": {
      "text/plain": [
       "'3.12.4 | packaged by Anaconda, Inc. | (main, Jun 18 2024, 15:03:56) [MSC v.1929 64 bit (AMD64)]'"
      ]
     },
     "execution_count": 1,
     "metadata": {},
     "output_type": "execute_result"
    }
   ],
   "source": [
    "import sys\n",
    "sys.version"
   ]
  },
  {
   "cell_type": "code",
   "execution_count": 3,
   "id": "92e75950-4ec4-4727-972a-4619baf0cbe7",
   "metadata": {},
   "outputs": [
    {
     "data": {
      "text/plain": [
       "'welcome to python programming lanuage'"
      ]
     },
     "execution_count": 3,
     "metadata": {},
     "output_type": "execute_result"
    }
   ],
   "source": [
    "'welcome to python programming lanuage'"
   ]
  },
  {
   "cell_type": "code",
   "execution_count": 25,
   "id": "973d24bc-49f7-458d-92b0-4d3bb320540f",
   "metadata": {},
   "outputs": [
    {
     "data": {
      "text/plain": [
       "9"
      ]
     },
     "execution_count": 25,
     "metadata": {},
     "output_type": "execute_result"
    }
   ],
   "source": [
    "9\n"
   ]
  },
  {
   "cell_type": "code",
   "execution_count": 27,
   "id": "79751db4-5e73-4b2c-8267-2779c44a5b65",
   "metadata": {},
   "outputs": [
    {
     "data": {
      "text/plain": [
       "18"
      ]
     },
     "execution_count": 27,
     "metadata": {},
     "output_type": "execute_result"
    }
   ],
   "source": [
    "9+9"
   ]
  },
  {
   "cell_type": "code",
   "execution_count": 29,
   "id": "700a913e-59d1-4d32-bbef-cb3539a11305",
   "metadata": {},
   "outputs": [
    {
     "data": {
      "text/plain": [
       "-1"
      ]
     },
     "execution_count": 29,
     "metadata": {},
     "output_type": "execute_result"
    }
   ],
   "source": [
    "2-3"
   ]
  },
  {
   "cell_type": "code",
   "execution_count": 31,
   "id": "b9983897-dfaa-4111-9b46-2e45fa0d4ec7",
   "metadata": {},
   "outputs": [
    {
     "data": {
      "text/plain": [
       "4"
      ]
     },
     "execution_count": 31,
     "metadata": {},
     "output_type": "execute_result"
    }
   ],
   "source": [
    "5-1"
   ]
  },
  {
   "cell_type": "code",
   "execution_count": 33,
   "id": "0a3ab0b9-61da-4ef1-a998-f90e12f6cd78",
   "metadata": {},
   "outputs": [
    {
     "data": {
      "text/plain": [
       "5"
      ]
     },
     "execution_count": 33,
     "metadata": {},
     "output_type": "execute_result"
    }
   ],
   "source": [
    "9+9-(10+3)"
   ]
  },
  {
   "cell_type": "code",
   "execution_count": 39,
   "id": "38df19fb-3e04-47f0-8a0b-aa54e770fe3c",
   "metadata": {},
   "outputs": [
    {
     "data": {
      "text/plain": [
       "-16"
      ]
     },
     "execution_count": 39,
     "metadata": {},
     "output_type": "execute_result"
    }
   ],
   "source": [
    "9+9-(10*3)-4"
   ]
  },
  {
   "cell_type": "markdown",
   "id": "4a819fe9-e96b-43ea-aa73-6ca5079c43b1",
   "metadata": {},
   "source": [
    "# Numbers are called as Operand \n",
    "# +, -, *, %, are called as Operators\n",
    "# TYPES OF OPERATORS\n",
    " 1. Arithmetic Operator(+,-,*,/,%,%%,^,**)\n",
    " 2. Assignment Operator(=)\n",
    " 3. Relational Operator\n",
    " 4. Logical Operator(AND ,OR)\n",
    " 5. Unary Operator"
   ]
  },
  {
   "cell_type": "markdown",
   "id": "133352be-e8a8-47cc-bd20-dc88e038085e",
   "metadata": {},
   "source": [
    "# 1. Arithmetic Operator"
   ]
  },
  {
   "cell_type": "code",
   "execution_count": 41,
   "id": "d285e13f-82e6-48db-8946-53f54eced333",
   "metadata": {},
   "outputs": [
    {
     "data": {
      "text/plain": [
       "12"
      ]
     },
     "execution_count": 41,
     "metadata": {},
     "output_type": "execute_result"
    }
   ],
   "source": [
    "10+2 # Addition"
   ]
  },
  {
   "cell_type": "code",
   "execution_count": 44,
   "id": "4d2f6fbe-6634-46c1-a0c7-c45dde93f438",
   "metadata": {},
   "outputs": [
    {
     "data": {
      "text/plain": [
       "8"
      ]
     },
     "execution_count": 44,
     "metadata": {},
     "output_type": "execute_result"
    }
   ],
   "source": [
    "10-2 # Substraction"
   ]
  },
  {
   "cell_type": "code",
   "execution_count": 46,
   "id": "03a567ee-b7ef-4239-9d50-10cb5fae89d2",
   "metadata": {},
   "outputs": [
    {
     "data": {
      "text/plain": [
       "20"
      ]
     },
     "execution_count": 46,
     "metadata": {},
     "output_type": "execute_result"
    }
   ],
   "source": [
    "10*2 # Multiplication"
   ]
  },
  {
   "cell_type": "code",
   "execution_count": 48,
   "id": "cae98ca8-7dd8-497a-b67b-325b15b865b3",
   "metadata": {},
   "outputs": [
    {
     "data": {
      "text/plain": [
       "100"
      ]
     },
     "execution_count": 48,
     "metadata": {},
     "output_type": "execute_result"
    }
   ],
   "source": [
    "10**2 # Power"
   ]
  },
  {
   "cell_type": "code",
   "execution_count": 50,
   "id": "0d5dfa86-9a71-483f-b8c4-42e0b44a66e3",
   "metadata": {},
   "outputs": [
    {
     "data": {
      "text/plain": [
       "2.0"
      ]
     },
     "execution_count": 50,
     "metadata": {},
     "output_type": "execute_result"
    }
   ],
   "source": [
    "10/5 # Float Division"
   ]
  },
  {
   "cell_type": "code",
   "execution_count": 52,
   "id": "6394db13-86bd-4d15-949e-b5528264bce1",
   "metadata": {},
   "outputs": [
    {
     "data": {
      "text/plain": [
       "2"
      ]
     },
     "execution_count": 52,
     "metadata": {},
     "output_type": "execute_result"
    }
   ],
   "source": [
    "10//5 # Int Division"
   ]
  },
  {
   "cell_type": "code",
   "execution_count": 54,
   "id": "e39c48ac-dce7-4c7e-a993-a12935014c9b",
   "metadata": {},
   "outputs": [
    {
     "data": {
      "text/plain": [
       "0"
      ]
     },
     "execution_count": 54,
     "metadata": {},
     "output_type": "execute_result"
    }
   ],
   "source": [
    "10%2 # Modulus"
   ]
  },
  {
   "cell_type": "code",
   "execution_count": 58,
   "id": "6618ee95-fede-4b7e-a43e-c12de9f4dc4f",
   "metadata": {},
   "outputs": [
    {
     "data": {
      "text/plain": [
       "8"
      ]
     },
     "execution_count": 58,
     "metadata": {},
     "output_type": "execute_result"
    }
   ],
   "source": [
    "10^2"
   ]
  },
  {
   "cell_type": "markdown",
   "id": "01867670-bd1f-44cf-9176-7c722101246a",
   "metadata": {},
   "source": [
    "# 2. Assignment Operator"
   ]
  },
  {
   "cell_type": "code",
   "execution_count": 145,
   "id": "c4c8f13e-2db8-48bd-bb56-155b83cd2066",
   "metadata": {},
   "outputs": [
    {
     "data": {
      "text/plain": [
       "10"
      ]
     },
     "execution_count": 145,
     "metadata": {},
     "output_type": "execute_result"
    }
   ],
   "source": [
    "x=10 # Here 'x' is a Variable or Object or Identifier, '10' is a value \n",
    "x\n"
   ]
  },
  {
   "cell_type": "code",
   "execution_count": 147,
   "id": "6b408e44-3e05-4e6b-9b5d-9c6b636a7056",
   "metadata": {},
   "outputs": [
    {
     "data": {
      "text/plain": [
       "12"
      ]
     },
     "execution_count": 147,
     "metadata": {},
     "output_type": "execute_result"
    }
   ],
   "source": [
    "x+2\n"
   ]
  },
  {
   "cell_type": "code",
   "execution_count": 151,
   "id": "60a36505-7335-4af5-87ec-1f4761f2d6fe",
   "metadata": {},
   "outputs": [
    {
     "data": {
      "text/plain": [
       "14"
      ]
     },
     "execution_count": 151,
     "metadata": {},
     "output_type": "execute_result"
    }
   ],
   "source": [
    "x+=2\n",
    "x"
   ]
  },
  {
   "cell_type": "code",
   "execution_count": 157,
   "id": "96d46062-d671-487f-bb8a-0deb39324503",
   "metadata": {},
   "outputs": [
    {
     "data": {
      "text/plain": [
       "16"
      ]
     },
     "execution_count": 157,
     "metadata": {},
     "output_type": "execute_result"
    }
   ],
   "source": [
    "x+=2\n",
    "x"
   ]
  },
  {
   "cell_type": "code",
   "execution_count": 159,
   "id": "052652a8-3537-466c-afd2-01bd6bc38d37",
   "metadata": {},
   "outputs": [
    {
     "data": {
      "text/plain": [
       "14"
      ]
     },
     "execution_count": 159,
     "metadata": {},
     "output_type": "execute_result"
    }
   ],
   "source": [
    "x-=2\n",
    "x"
   ]
  },
  {
   "cell_type": "code",
   "execution_count": 161,
   "id": "9fa85ba0-0462-4170-836d-1e1b13b69a91",
   "metadata": {},
   "outputs": [
    {
     "data": {
      "text/plain": [
       "12"
      ]
     },
     "execution_count": 161,
     "metadata": {},
     "output_type": "execute_result"
    }
   ],
   "source": [
    "x-=2\n",
    "x"
   ]
  },
  {
   "cell_type": "code",
   "execution_count": 163,
   "id": "1fef46f9-4068-4007-bc54-ff772d729a83",
   "metadata": {},
   "outputs": [
    {
     "data": {
      "text/plain": [
       "24"
      ]
     },
     "execution_count": 163,
     "metadata": {},
     "output_type": "execute_result"
    }
   ],
   "source": [
    "x*=2\n",
    "x"
   ]
  },
  {
   "cell_type": "code",
   "execution_count": 165,
   "id": "cb8a13dd-f843-4eae-84e9-653d37307738",
   "metadata": {},
   "outputs": [
    {
     "data": {
      "text/plain": [
       "48"
      ]
     },
     "execution_count": 165,
     "metadata": {},
     "output_type": "execute_result"
    }
   ],
   "source": [
    "x*=2\n",
    "x"
   ]
  },
  {
   "cell_type": "code",
   "execution_count": 167,
   "id": "a74eabbf-4710-4e6a-8a4e-2b19d1fd7488",
   "metadata": {},
   "outputs": [
    {
     "data": {
      "text/plain": [
       "24.0"
      ]
     },
     "execution_count": 167,
     "metadata": {},
     "output_type": "execute_result"
    }
   ],
   "source": [
    "x/2"
   ]
  },
  {
   "cell_type": "markdown",
   "id": "96cb4ff0-a532-403e-9b37-b10b904f49a5",
   "metadata": {},
   "source": [
    "# 3. Unary  Operator"
   ]
  },
  {
   "cell_type": "code",
   "execution_count": 169,
   "id": "776870fa-b849-4d48-b9dd-c059d1ca497b",
   "metadata": {},
   "outputs": [
    {
     "data": {
      "text/plain": [
       "7"
      ]
     },
     "execution_count": 169,
     "metadata": {},
     "output_type": "execute_result"
    }
   ],
   "source": [
    "n=7\n",
    "n"
   ]
  },
  {
   "cell_type": "code",
   "execution_count": 171,
   "id": "e8d4b574-c30f-416a-bbfa-493e837c35cc",
   "metadata": {},
   "outputs": [
    {
     "data": {
      "text/plain": [
       "-7"
      ]
     },
     "execution_count": 171,
     "metadata": {},
     "output_type": "execute_result"
    }
   ],
   "source": [
    "m=-n\n",
    "m"
   ]
  },
  {
   "cell_type": "markdown",
   "id": "167b7d8c-8c89-4d13-93f3-556e06c4195a",
   "metadata": {},
   "source": [
    "## Python (Variable = Identifier = Object )"
   ]
  },
  {
   "cell_type": "code",
   "execution_count": 3,
   "id": "c1d18e81-6f21-4818-bc41-6df20013ec1d",
   "metadata": {},
   "outputs": [
    {
     "data": {
      "text/plain": [
       "2"
      ]
     },
     "execution_count": 3,
     "metadata": {},
     "output_type": "execute_result"
    }
   ],
   "source": [
    "a=2 # here 'a' is a variable, '2' is a value\n",
    "a"
   ]
  },
  {
   "cell_type": "code",
   "execution_count": 5,
   "id": "f5f8df50-67a2-45d5-9173-6f3f62c5d17d",
   "metadata": {},
   "outputs": [
    {
     "data": {
      "text/plain": [
       "140735474907608"
      ]
     },
     "execution_count": 5,
     "metadata": {},
     "output_type": "execute_result"
    }
   ],
   "source": [
    "id(a) # here 'id' gives the address or memory space of the 'a'"
   ]
  },
  {
   "cell_type": "code",
   "execution_count": 9,
   "id": "86d213ab-9de5-49e4-83dc-a6f7779ef43e",
   "metadata": {},
   "outputs": [
    {
     "ename": "SyntaxError",
     "evalue": "invalid decimal literal (1491644390.py, line 1)",
     "output_type": "error",
     "traceback": [
      "\u001b[1;36m  Cell \u001b[1;32mIn[9], line 1\u001b[1;36m\u001b[0m\n\u001b[1;33m    1a=3\u001b[0m\n\u001b[1;37m    ^\u001b[0m\n\u001b[1;31mSyntaxError\u001b[0m\u001b[1;31m:\u001b[0m invalid decimal literal\n"
     ]
    }
   ],
   "source": [
    "1a=3 # variable never start with the digit or value\n",
    "1a"
   ]
  },
  {
   "cell_type": "code",
   "execution_count": 11,
   "id": "c2d2bbe7-e857-4c39-b56e-4687f9799305",
   "metadata": {},
   "outputs": [
    {
     "data": {
      "text/plain": [
       "3"
      ]
     },
     "execution_count": 11,
     "metadata": {},
     "output_type": "execute_result"
    }
   ],
   "source": [
    "a1=3 # varaible can ends with the digit \n",
    "a1"
   ]
  },
  {
   "cell_type": "code",
   "execution_count": 13,
   "id": "b8e63a83-a564-410f-8262-a9ee75dc0941",
   "metadata": {},
   "outputs": [
    {
     "ename": "SyntaxError",
     "evalue": "invalid syntax (4044880046.py, line 1)",
     "output_type": "error",
     "traceback": [
      "\u001b[1;36m  Cell \u001b[1;32mIn[13], line 1\u001b[1;36m\u001b[0m\n\u001b[1;33m    ni$=34\u001b[0m\n\u001b[1;37m      ^\u001b[0m\n\u001b[1;31mSyntaxError\u001b[0m\u001b[1;31m:\u001b[0m invalid syntax\n"
     ]
    }
   ],
   "source": [
    "ni$=34 # special characters like '$', '@', '&' are not allowed in the variable \n",
    "ni$"
   ]
  },
  {
   "cell_type": "code",
   "execution_count": 15,
   "id": "fbcc5584-55e3-4c1c-89e7-d02ca4dcc34c",
   "metadata": {},
   "outputs": [
    {
     "data": {
      "text/plain": [
       "34"
      ]
     },
     "execution_count": 15,
     "metadata": {},
     "output_type": "execute_result"
    }
   ],
   "source": [
    "ni_=34 # except '_' ( _ is allowed )\n",
    "ni_"
   ]
  },
  {
   "cell_type": "code",
   "execution_count": 17,
   "id": "dae7688a-882d-427a-a651-e4e0c7293ac1",
   "metadata": {},
   "outputs": [
    {
     "ename": "NameError",
     "evalue": "name 'NIT' is not defined",
     "output_type": "error",
     "traceback": [
      "\u001b[1;31m---------------------------------------------------------------------------\u001b[0m",
      "\u001b[1;31mNameError\u001b[0m                                 Traceback (most recent call last)",
      "Cell \u001b[1;32mIn[17], line 2\u001b[0m\n\u001b[0;32m      1\u001b[0m nit\u001b[38;5;241m=\u001b[39m\u001b[38;5;124m'\u001b[39m\u001b[38;5;124mwelcome to the naresh IT\u001b[39m\u001b[38;5;124m'\u001b[39m\n\u001b[1;32m----> 2\u001b[0m NIT\n",
      "\u001b[1;31mNameError\u001b[0m: name 'NIT' is not defined"
     ]
    }
   ],
   "source": [
    "nit='welcome to the naresh IT' # variables are case senstive \n",
    "NIT "
   ]
  },
  {
   "cell_type": "code",
   "execution_count": 19,
   "id": "71322aa9-0fba-486a-98f7-df612b6d948f",
   "metadata": {},
   "outputs": [
    {
     "data": {
      "text/plain": [
       "'welcome to the Naresh IT'"
      ]
     },
     "execution_count": 19,
     "metadata": {},
     "output_type": "execute_result"
    }
   ],
   "source": [
    "nit='welcome to the Naresh IT'\n",
    "nit"
   ]
  },
  {
   "cell_type": "code",
   "execution_count": 23,
   "id": "078cd8cc-b2ee-402a-b5ad-fb2973ddf66c",
   "metadata": {},
   "outputs": [
    {
     "data": {
      "text/plain": [
       "'welcome to the Naresh IT'"
      ]
     },
     "execution_count": 23,
     "metadata": {},
     "output_type": "execute_result"
    }
   ],
   "source": [
    "nit1='welcome to the Naresh IT'\n",
    "nit1"
   ]
  },
  {
   "cell_type": "code",
   "execution_count": 177,
   "id": "7d353b49-6cc7-4c5c-946c-70b3207e363d",
   "metadata": {},
   "outputs": [
    {
     "data": {
      "text/plain": [
       "['False',\n",
       " 'None',\n",
       " 'True',\n",
       " 'and',\n",
       " 'as',\n",
       " 'assert',\n",
       " 'async',\n",
       " 'await',\n",
       " 'break',\n",
       " 'class',\n",
       " 'continue',\n",
       " 'def',\n",
       " 'del',\n",
       " 'elif',\n",
       " 'else',\n",
       " 'except',\n",
       " 'finally',\n",
       " 'for',\n",
       " 'from',\n",
       " 'global',\n",
       " 'if',\n",
       " 'import',\n",
       " 'in',\n",
       " 'is',\n",
       " 'lambda',\n",
       " 'nonlocal',\n",
       " 'not',\n",
       " 'or',\n",
       " 'pass',\n",
       " 'raise',\n",
       " 'return',\n",
       " 'try',\n",
       " 'while',\n",
       " 'with',\n",
       " 'yield']"
      ]
     },
     "execution_count": 177,
     "metadata": {},
     "output_type": "execute_result"
    }
   ],
   "source": [
    "import keyword\n",
    "keyword.kwlist"
   ]
  },
  {
   "cell_type": "code",
   "execution_count": 181,
   "id": "987b782d-2e42-4771-9287-3399ba3de30f",
   "metadata": {},
   "outputs": [
    {
     "data": {
      "text/plain": [
       "35"
      ]
     },
     "execution_count": 181,
     "metadata": {},
     "output_type": "execute_result"
    }
   ],
   "source": [
    "len(keyword.kwlist)"
   ]
  },
  {
   "cell_type": "code",
   "execution_count": 183,
   "id": "fea09b83-d6ca-430f-9db3-41759b50c17d",
   "metadata": {},
   "outputs": [
    {
     "ename": "SyntaxError",
     "evalue": "invalid syntax (1468122953.py, line 1)",
     "output_type": "error",
     "traceback": [
      "\u001b[1;36m  Cell \u001b[1;32mIn[183], line 1\u001b[1;36m\u001b[0m\n\u001b[1;33m    if=9\u001b[0m\n\u001b[1;37m      ^\u001b[0m\n\u001b[1;31mSyntaxError\u001b[0m\u001b[1;31m:\u001b[0m invalid syntax\n"
     ]
    }
   ],
   "source": [
    "if=9 # keywords never be declared as variable "
   ]
  },
  {
   "cell_type": "code",
   "execution_count": 203,
   "id": "80e43993-4451-4396-83aa-ce9f4ef248eb",
   "metadata": {},
   "outputs": [
    {
     "data": {
      "text/plain": [
       "9"
      ]
     },
     "execution_count": 203,
     "metadata": {},
     "output_type": "execute_result"
    }
   ],
   "source": [
    "IF=9\n",
    "IF"
   ]
  },
  {
   "cell_type": "code",
   "execution_count": 205,
   "id": "3e237980-f96c-45d1-aca3-61e6c99ad673",
   "metadata": {},
   "outputs": [
    {
     "ename": "SyntaxError",
     "evalue": "invalid syntax (2720576913.py, line 1)",
     "output_type": "error",
     "traceback": [
      "\u001b[1;36m  Cell \u001b[1;32mIn[205], line 1\u001b[1;36m\u001b[0m\n\u001b[1;33m    for=10\u001b[0m\n\u001b[1;37m       ^\u001b[0m\n\u001b[1;31mSyntaxError\u001b[0m\u001b[1;31m:\u001b[0m invalid syntax\n"
     ]
    }
   ],
   "source": [
    "for=10\n",
    "for"
   ]
  },
  {
   "cell_type": "code",
   "execution_count": 207,
   "id": "e393a776-681f-426c-aead-e5d062165f9f",
   "metadata": {},
   "outputs": [
    {
     "data": {
      "text/plain": [
       "10"
      ]
     },
     "execution_count": 207,
     "metadata": {},
     "output_type": "execute_result"
    }
   ],
   "source": [
    "FOR=10\n",
    "FOR"
   ]
  },
  {
   "cell_type": "code",
   "execution_count": 199,
   "id": "4c686fc6-ab04-4fcc-af80-da6dbf5ad80e",
   "metadata": {},
   "outputs": [
    {
     "ename": "SyntaxError",
     "evalue": "cannot assign to True (473287154.py, line 1)",
     "output_type": "error",
     "traceback": [
      "\u001b[1;36m  Cell \u001b[1;32mIn[199], line 1\u001b[1;36m\u001b[0m\n\u001b[1;33m    True=9\u001b[0m\n\u001b[1;37m    ^\u001b[0m\n\u001b[1;31mSyntaxError\u001b[0m\u001b[1;31m:\u001b[0m cannot assign to True\n"
     ]
    }
   ],
   "source": [
    "True=9"
   ]
  },
  {
   "cell_type": "code",
   "execution_count": 195,
   "id": "6800b927-04bd-49d2-9b50-976ab98d29a8",
   "metadata": {},
   "outputs": [
    {
     "data": {
      "text/plain": [
       "9"
      ]
     },
     "execution_count": 195,
     "metadata": {},
     "output_type": "execute_result"
    }
   ],
   "source": [
    "true=9\n",
    "true"
   ]
  },
  {
   "cell_type": "code",
   "execution_count": 209,
   "id": "c603911d-7af3-4140-94d6-ae5714f96f74",
   "metadata": {},
   "outputs": [
    {
     "data": {
      "text/plain": [
       "True"
      ]
     },
     "execution_count": 209,
     "metadata": {},
     "output_type": "execute_result"
    }
   ],
   "source": [
    "True"
   ]
  },
  {
   "cell_type": "code",
   "execution_count": 211,
   "id": "d916a437-7a3e-4f60-9d3e-86f61064832a",
   "metadata": {},
   "outputs": [
    {
     "data": {
      "text/plain": [
       "9"
      ]
     },
     "execution_count": 211,
     "metadata": {},
     "output_type": "execute_result"
    }
   ],
   "source": [
    "Def=9\n",
    "Def"
   ]
  },
  {
   "cell_type": "code",
   "execution_count": 213,
   "id": "cad9b3eb-3763-4baa-8b5a-c9d88cf58024",
   "metadata": {},
   "outputs": [
    {
     "data": {
      "text/plain": [
       "4"
      ]
     },
     "execution_count": 213,
     "metadata": {},
     "output_type": "execute_result"
    }
   ],
   "source": [
    "a=2       #  Here it executes only the 'c' variable \n",
    "b=3\n",
    "c=4\n",
    "a\n",
    "b\n",
    "c"
   ]
  },
  {
   "cell_type": "code",
   "execution_count": 215,
   "id": "ce9e5b77-ae54-4abd-95ae-bf1b7ee81c28",
   "metadata": {},
   "outputs": [
    {
     "name": "stdout",
     "output_type": "stream",
     "text": [
      "2\n",
      "3\n",
      "4\n"
     ]
    }
   ],
   "source": [
    "a=2            #  Using print statement it executes all the variables \n",
    "b=3            # if user has one variable (Print is not required)\n",
    "c=4            # if user has more than one variable(print is required)\n",
    "print(a)\n",
    "print(b)\n",
    "print(c)"
   ]
  },
  {
   "cell_type": "markdown",
   "id": "4d943c2e-8f90-438d-8c23-164d144d8159",
   "metadata": {},
   "source": [
    "# PYTHON DATATYPES\n",
    "    1. Integer DataType   # value without decimal\n",
    "    2. Float DataType     # value with decimal \n",
    "    3. String DataType    # value in quotes('',\"\",''' ''')\n",
    "    4. Boolean DataType   # True or False\n",
    "    5. Complex DataType   # a+bj"
   ]
  },
  {
   "cell_type": "markdown",
   "id": "ad0238da-ddda-46f9-98a1-b9854420368b",
   "metadata": {},
   "source": [
    "# 1. Integer DataType"
   ]
  },
  {
   "cell_type": "code",
   "execution_count": 217,
   "id": "4869cbe3-03a3-4875-a9ec-9162f345a009",
   "metadata": {},
   "outputs": [
    {
     "data": {
      "text/plain": [
       "90"
      ]
     },
     "execution_count": 217,
     "metadata": {},
     "output_type": "execute_result"
    }
   ],
   "source": [
    "i=90\n",
    "i"
   ]
  },
  {
   "cell_type": "code",
   "execution_count": 227,
   "id": "952dcf46-b9e6-4ecb-a8e8-77cef1ff4df1",
   "metadata": {},
   "outputs": [
    {
     "data": {
      "text/plain": [
       "int"
      ]
     },
     "execution_count": 227,
     "metadata": {},
     "output_type": "execute_result"
    }
   ],
   "source": [
    "type(i)"
   ]
  },
  {
   "cell_type": "code",
   "execution_count": 221,
   "id": "d9cc1b1a-08fe-4fc7-bd93-4c60812bd66d",
   "metadata": {},
   "outputs": [
    {
     "name": "stdout",
     "output_type": "stream",
     "text": [
      "90\n"
     ]
    }
   ],
   "source": [
    "print(i)"
   ]
  },
  {
   "cell_type": "code",
   "execution_count": 225,
   "id": "95fd093f-5ba7-4641-83de-d49b606f0fce",
   "metadata": {},
   "outputs": [
    {
     "name": "stdout",
     "output_type": "stream",
     "text": [
      "<class 'int'>\n"
     ]
    }
   ],
   "source": [
    "print(type(i))"
   ]
  },
  {
   "cell_type": "code",
   "execution_count": 237,
   "id": "67fa94e0-fef0-4fd1-927b-5d693f097787",
   "metadata": {},
   "outputs": [
    {
     "ename": "SyntaxError",
     "evalue": "invalid syntax. Maybe you meant '==' or ':=' instead of '='? (3356977419.py, line 1)",
     "output_type": "error",
     "traceback": [
      "\u001b[1;36m  Cell \u001b[1;32mIn[237], line 1\u001b[1;36m\u001b[0m\n\u001b[1;33m    i1=20,i2=30\u001b[0m\n\u001b[1;37m    ^\u001b[0m\n\u001b[1;31mSyntaxError\u001b[0m\u001b[1;31m:\u001b[0m invalid syntax. Maybe you meant '==' or ':=' instead of '='?\n"
     ]
    }
   ],
   "source": [
    "i1=20,i2=30\n",
    "print(i1)\n",
    "print(i2)"
   ]
  },
  {
   "cell_type": "code",
   "execution_count": 235,
   "id": "6c9ae203-092f-4824-8fd4-2d5d08d1b9d2",
   "metadata": {},
   "outputs": [
    {
     "name": "stdout",
     "output_type": "stream",
     "text": [
      "20\n",
      "30\n"
     ]
    }
   ],
   "source": [
    "i1,i2=20,30\n",
    "print(i1)\n",
    "print(i2)"
   ]
  },
  {
   "cell_type": "code",
   "execution_count": 239,
   "id": "41e41451-5871-4811-afcf-1be75c558e81",
   "metadata": {},
   "outputs": [
    {
     "data": {
      "text/plain": [
       "50"
      ]
     },
     "execution_count": 239,
     "metadata": {},
     "output_type": "execute_result"
    }
   ],
   "source": [
    "i1+i2"
   ]
  },
  {
   "cell_type": "code",
   "execution_count": 241,
   "id": "12e27f17-876a-4f1c-8e58-9423daf9d155",
   "metadata": {},
   "outputs": [
    {
     "data": {
      "text/plain": [
       "600"
      ]
     },
     "execution_count": 241,
     "metadata": {},
     "output_type": "execute_result"
    }
   ],
   "source": [
    "i1*i2"
   ]
  },
  {
   "cell_type": "code",
   "execution_count": 243,
   "id": "114d7300-c838-4855-a6fd-2e4550c64baf",
   "metadata": {},
   "outputs": [
    {
     "data": {
      "text/plain": [
       "-10"
      ]
     },
     "execution_count": 243,
     "metadata": {},
     "output_type": "execute_result"
    }
   ],
   "source": [
    "i1-i2"
   ]
  },
  {
   "cell_type": "markdown",
   "id": "2f80ce2a-5309-4a2a-84cb-5f3a53fb16f9",
   "metadata": {},
   "source": [
    "# 2. Float DataType"
   ]
  },
  {
   "cell_type": "code",
   "execution_count": 245,
   "id": "2b77dd49-f932-490d-a289-d36ca68cd9f5",
   "metadata": {},
   "outputs": [
    {
     "data": {
      "text/plain": [
       "2.3"
      ]
     },
     "execution_count": 245,
     "metadata": {},
     "output_type": "execute_result"
    }
   ],
   "source": [
    "i1=2.3\n",
    "i1"
   ]
  },
  {
   "cell_type": "code",
   "execution_count": 247,
   "id": "42ec08c2-1d13-4f02-96da-467df5bd18ea",
   "metadata": {},
   "outputs": [
    {
     "data": {
      "text/plain": [
       "9.0"
      ]
     },
     "execution_count": 247,
     "metadata": {},
     "output_type": "execute_result"
    }
   ],
   "source": [
    "i2=9.0\n",
    "i2"
   ]
  },
  {
   "cell_type": "code",
   "execution_count": 249,
   "id": "905e8a11-a697-4c7d-b2ca-8b9a5ea19ca3",
   "metadata": {},
   "outputs": [
    {
     "data": {
      "text/plain": [
       "11.3"
      ]
     },
     "execution_count": 249,
     "metadata": {},
     "output_type": "execute_result"
    }
   ],
   "source": [
    "i1+i2"
   ]
  },
  {
   "cell_type": "code",
   "execution_count": 251,
   "id": "1c6e5c3d-d456-4791-8826-4cb693dac694",
   "metadata": {},
   "outputs": [
    {
     "data": {
      "text/plain": [
       "float"
      ]
     },
     "execution_count": 251,
     "metadata": {},
     "output_type": "execute_result"
    }
   ],
   "source": [
    "type(i1)"
   ]
  },
  {
   "cell_type": "markdown",
   "id": "3a382121-eaee-43b3-a608-63b157776bb0",
   "metadata": {},
   "source": [
    "# 3. String DataType"
   ]
  },
  {
   "cell_type": "code",
   "execution_count": 255,
   "id": "7b5d1e1b-7ae2-4295-90b6-923ec04d8e05",
   "metadata": {},
   "outputs": [
    {
     "data": {
      "text/plain": [
       "'20'"
      ]
     },
     "execution_count": 255,
     "metadata": {},
     "output_type": "execute_result"
    }
   ],
   "source": [
    "a='20'\n",
    "a"
   ]
  },
  {
   "cell_type": "code",
   "execution_count": 257,
   "id": "50faad78-8621-4b65-9316-57121337ea0a",
   "metadata": {},
   "outputs": [
    {
     "data": {
      "text/plain": [
       "str"
      ]
     },
     "execution_count": 257,
     "metadata": {},
     "output_type": "execute_result"
    }
   ],
   "source": [
    "type(a)"
   ]
  },
  {
   "cell_type": "code",
   "execution_count": 259,
   "id": "c07622fe-f142-4c40-a5dc-2718f691ea3c",
   "metadata": {},
   "outputs": [
    {
     "data": {
      "text/plain": [
       "'50'"
      ]
     },
     "execution_count": 259,
     "metadata": {},
     "output_type": "execute_result"
    }
   ],
   "source": [
    "b='50'   # String with single line - Single and Double quotes are applicable\n",
    "b"
   ]
  },
  {
   "cell_type": "code",
   "execution_count": 261,
   "id": "7027aa2f-40c8-44e7-8555-c012bfa88534",
   "metadata": {},
   "outputs": [
    {
     "name": "stdout",
     "output_type": "stream",
     "text": [
      "20\n",
      "50\n"
     ]
    }
   ],
   "source": [
    "print(a)\n",
    "print(b)"
   ]
  },
  {
   "cell_type": "code",
   "execution_count": 265,
   "id": "7c4c0471-e21e-49ec-83fe-b77987c47736",
   "metadata": {},
   "outputs": [
    {
     "data": {
      "text/plain": [
       "' welcome to the Naresh I Technologies'"
      ]
     },
     "execution_count": 265,
     "metadata": {},
     "output_type": "execute_result"
    }
   ],
   "source": [
    "nit=\" welcome to the Naresh I Technologies\"\n",
    "nit"
   ]
  },
  {
   "cell_type": "code",
   "execution_count": 267,
   "id": "c5a78622-79b7-48c8-818c-9be6e948bad8",
   "metadata": {},
   "outputs": [
    {
     "name": "stdout",
     "output_type": "stream",
     "text": [
      " welcome to the Naresh I Technologies\n"
     ]
    }
   ],
   "source": [
    "print(nit)"
   ]
  },
  {
   "cell_type": "code",
   "execution_count": 269,
   "id": "6dad779c-4716-4d5a-8ea5-93e929f655a7",
   "metadata": {},
   "outputs": [
    {
     "data": {
      "text/plain": [
       "str"
      ]
     },
     "execution_count": 269,
     "metadata": {},
     "output_type": "execute_result"
    }
   ],
   "source": [
    "type(nit)"
   ]
  },
  {
   "cell_type": "code",
   "execution_count": 275,
   "id": "f774efef-67ba-45b4-8b35-727da6043181",
   "metadata": {},
   "outputs": [
    {
     "ename": "SyntaxError",
     "evalue": "unterminated string literal (detected at line 1) (915615578.py, line 1)",
     "output_type": "error",
     "traceback": [
      "\u001b[1;36m  Cell \u001b[1;32mIn[275], line 1\u001b[1;36m\u001b[0m\n\u001b[1;33m    nit1= 'Naresh IT\u001b[0m\n\u001b[1;37m          ^\u001b[0m\n\u001b[1;31mSyntaxError\u001b[0m\u001b[1;31m:\u001b[0m unterminated string literal (detected at line 1)\n"
     ]
    }
   ],
   "source": [
    "nit1= 'Naresh IT \n",
    "        will train a Full Stack DataScience in 6 months'\n",
    "nit1"
   ]
  },
  {
   "cell_type": "code",
   "execution_count": 273,
   "id": "920b642f-734e-4b7e-9dd9-501f9228cfb1",
   "metadata": {},
   "outputs": [
    {
     "data": {
      "text/plain": [
       "' Naresh IT \\n        will train a Full Stack DataScience in 6 months'"
      ]
     },
     "execution_count": 273,
     "metadata": {},
     "output_type": "execute_result"
    }
   ],
   "source": [
    "nit1= ''' Naresh IT \n",
    "        will train a Full Stack DataScience in 6 months'''\n",
    "nit1"
   ]
  },
  {
   "cell_type": "markdown",
   "id": "57c21fdb-1831-4c8d-b5bd-008bb737a284",
   "metadata": {},
   "source": [
    "# String Indexing \n",
    "   - Forward Indexing -- Left to Right\n",
    "   - Backward Indexing -- Right to Left"
   ]
  },
  {
   "cell_type": "code",
   "execution_count": 279,
   "id": "638da536-0e03-43ee-b99d-ebfb8c4276c2",
   "metadata": {},
   "outputs": [
    {
     "data": {
      "text/plain": [
       "'nareshit'"
      ]
     },
     "execution_count": 279,
     "metadata": {},
     "output_type": "execute_result"
    }
   ],
   "source": [
    "s='nareshit'\n",
    "s"
   ]
  },
  {
   "cell_type": "code",
   "execution_count": 283,
   "id": "582ae6b2-c07b-41af-958d-ab98f8cbf28e",
   "metadata": {},
   "outputs": [
    {
     "name": "stdout",
     "output_type": "stream",
     "text": [
      "n\n"
     ]
    }
   ],
   "source": [
    "print(s[0])"
   ]
  },
  {
   "cell_type": "code",
   "execution_count": 285,
   "id": "16b5882c-2be3-4f4f-a0f8-c8cdc41d399a",
   "metadata": {},
   "outputs": [
    {
     "name": "stdout",
     "output_type": "stream",
     "text": [
      "nar\n"
     ]
    }
   ],
   "source": [
    "print(s[0:3])"
   ]
  },
  {
   "cell_type": "markdown",
   "id": "f583d3b9-e13a-4c7a-b750-5f1faba84ca6",
   "metadata": {},
   "source": [
    "# 4. Boolean DataType"
   ]
  },
  {
   "cell_type": "code",
   "execution_count": 287,
   "id": "696bfe92-9711-4cd3-b8f5-0c35f42c233d",
   "metadata": {},
   "outputs": [
    {
     "data": {
      "text/plain": [
       "True"
      ]
     },
     "execution_count": 287,
     "metadata": {},
     "output_type": "execute_result"
    }
   ],
   "source": [
    "True"
   ]
  },
  {
   "cell_type": "code",
   "execution_count": 289,
   "id": "93013d86-cf87-4599-b4ae-4926c3581c1a",
   "metadata": {},
   "outputs": [
    {
     "data": {
      "text/plain": [
       "bool"
      ]
     },
     "execution_count": 289,
     "metadata": {},
     "output_type": "execute_result"
    }
   ],
   "source": [
    "type(True)"
   ]
  },
  {
   "cell_type": "code",
   "execution_count": 291,
   "id": "bc0661ab-7b59-450d-80bc-190c100a9eca",
   "metadata": {},
   "outputs": [
    {
     "data": {
      "text/plain": [
       "False"
      ]
     },
     "execution_count": 291,
     "metadata": {},
     "output_type": "execute_result"
    }
   ],
   "source": [
    "False"
   ]
  },
  {
   "cell_type": "code",
   "execution_count": 293,
   "id": "f1ad26f0-9903-460f-8518-9f7195919e47",
   "metadata": {},
   "outputs": [
    {
     "data": {
      "text/plain": [
       "bool"
      ]
     },
     "execution_count": 293,
     "metadata": {},
     "output_type": "execute_result"
    }
   ],
   "source": [
    "type(False)"
   ]
  },
  {
   "cell_type": "code",
   "execution_count": 299,
   "id": "7ca403d9-0778-4d03-b9b2-4a75f23d3688",
   "metadata": {},
   "outputs": [
    {
     "name": "stdout",
     "output_type": "stream",
     "text": [
      "True\n",
      "False\n"
     ]
    }
   ],
   "source": [
    "c=True\n",
    "c1=False\n",
    "print(c)\n",
    "print(c1)"
   ]
  },
  {
   "cell_type": "code",
   "execution_count": 301,
   "id": "62801a5e-db09-4149-92b5-aa4144d5a053",
   "metadata": {},
   "outputs": [
    {
     "data": {
      "text/plain": [
       "1"
      ]
     },
     "execution_count": 301,
     "metadata": {},
     "output_type": "execute_result"
    }
   ],
   "source": [
    "c+c1"
   ]
  },
  {
   "cell_type": "code",
   "execution_count": 303,
   "id": "7b82173e-151d-4318-a5f8-a9b76d14409d",
   "metadata": {},
   "outputs": [
    {
     "name": "stdout",
     "output_type": "stream",
     "text": [
      "True\n"
     ]
    }
   ],
   "source": [
    "print(c)"
   ]
  },
  {
   "cell_type": "code",
   "execution_count": 305,
   "id": "65e2a470-248c-40d8-ad04-459b7a1a7962",
   "metadata": {},
   "outputs": [
    {
     "data": {
      "text/plain": [
       "1"
      ]
     },
     "execution_count": 305,
     "metadata": {},
     "output_type": "execute_result"
    }
   ],
   "source": [
    "c-c1"
   ]
  },
  {
   "cell_type": "code",
   "execution_count": 307,
   "id": "850b2b8b-12c3-46bb-b041-adbd9ef852cf",
   "metadata": {},
   "outputs": [
    {
     "data": {
      "text/plain": [
       "0"
      ]
     },
     "execution_count": 307,
     "metadata": {},
     "output_type": "execute_result"
    }
   ],
   "source": [
    "c*c1"
   ]
  },
  {
   "cell_type": "code",
   "execution_count": 313,
   "id": "ea90b294-9833-40e0-915b-cf8014dc9856",
   "metadata": {},
   "outputs": [
    {
     "name": "stdout",
     "output_type": "stream",
     "text": [
      "1\n",
      "0\n",
      "0\n"
     ]
    }
   ],
   "source": [
    "print(c-c1)\n",
    "print(c*c1)\n",
    "print(c1%c)\n"
   ]
  },
  {
   "cell_type": "markdown",
   "id": "baa58f3f-0016-415f-bff3-83b84b992476",
   "metadata": {},
   "source": [
    "# 5. Complex DataType"
   ]
  },
  {
   "cell_type": "code",
   "execution_count": 321,
   "id": "9c551e93-6cc9-4411-8f9f-8a66cf69120d",
   "metadata": {},
   "outputs": [
    {
     "ename": "NameError",
     "evalue": "name 'bj' is not defined",
     "output_type": "error",
     "traceback": [
      "\u001b[1;31m---------------------------------------------------------------------------\u001b[0m",
      "\u001b[1;31mNameError\u001b[0m                                 Traceback (most recent call last)",
      "Cell \u001b[1;32mIn[321], line 1\u001b[0m\n\u001b[1;32m----> 1\u001b[0m a\u001b[38;5;241m+\u001b[39mbj\n",
      "\u001b[1;31mNameError\u001b[0m: name 'bj' is not defined"
     ]
    }
   ],
   "source": [
    "a+bj\n",
    "a - real part\n",
    "b - imaginary part\n",
    "j - square root of -1\n"
   ]
  },
  {
   "cell_type": "code",
   "execution_count": 325,
   "id": "fa6eaa18-84ca-4d33-a7bc-56f6d9b5b3c5",
   "metadata": {},
   "outputs": [
    {
     "data": {
      "text/plain": [
       "(1+2j)"
      ]
     },
     "execution_count": 325,
     "metadata": {},
     "output_type": "execute_result"
    }
   ],
   "source": [
    "d=1+2j \n",
    "d"
   ]
  },
  {
   "cell_type": "code",
   "execution_count": 327,
   "id": "86c3b717-9e76-46c3-900c-12b7931674e7",
   "metadata": {},
   "outputs": [
    {
     "ename": "SyntaxError",
     "evalue": "invalid decimal literal (3170808525.py, line 1)",
     "output_type": "error",
     "traceback": [
      "\u001b[1;36m  Cell \u001b[1;32mIn[327], line 1\u001b[1;36m\u001b[0m\n\u001b[1;33m    d1=1+2i # Only 'j'or 'J' is allowed\u001b[0m\n\u001b[1;37m         ^\u001b[0m\n\u001b[1;31mSyntaxError\u001b[0m\u001b[1;31m:\u001b[0m invalid decimal literal\n"
     ]
    }
   ],
   "source": [
    "d1=1+2i # Only 'j'or 'J' is allowed \n",
    "d1"
   ]
  },
  {
   "cell_type": "code",
   "execution_count": 329,
   "id": "134e1fdf-425a-4ea8-8fb5-21ecee42af36",
   "metadata": {},
   "outputs": [
    {
     "data": {
      "text/plain": [
       "complex"
      ]
     },
     "execution_count": 329,
     "metadata": {},
     "output_type": "execute_result"
    }
   ],
   "source": [
    "type(d)"
   ]
  },
  {
   "cell_type": "code",
   "execution_count": 331,
   "id": "bb850b07-e3cb-4b2f-9f16-d9bd1fef37bd",
   "metadata": {},
   "outputs": [
    {
     "data": {
      "text/plain": [
       "1.0"
      ]
     },
     "execution_count": 331,
     "metadata": {},
     "output_type": "execute_result"
    }
   ],
   "source": [
    "d.real"
   ]
  },
  {
   "cell_type": "code",
   "execution_count": 335,
   "id": "3d941399-ec37-49b4-aa98-4c77ef524aaf",
   "metadata": {},
   "outputs": [
    {
     "data": {
      "text/plain": [
       "2.0"
      ]
     },
     "execution_count": 335,
     "metadata": {},
     "output_type": "execute_result"
    }
   ],
   "source": [
    "d.imag"
   ]
  },
  {
   "cell_type": "code",
   "execution_count": 339,
   "id": "cae7090e-cd4b-4434-8921-b3b0ed6b93b9",
   "metadata": {},
   "outputs": [
    {
     "data": {
      "text/plain": [
       "(10+20j)"
      ]
     },
     "execution_count": 339,
     "metadata": {},
     "output_type": "execute_result"
    }
   ],
   "source": [
    "d1= 10+20j\n",
    "d1"
   ]
  },
  {
   "cell_type": "code",
   "execution_count": 341,
   "id": "6c07a794-a8e7-49a8-a4fc-38e4da812274",
   "metadata": {},
   "outputs": [
    {
     "name": "stdout",
     "output_type": "stream",
     "text": [
      "(1+2j)\n",
      "(10+20j)\n"
     ]
    }
   ],
   "source": [
    "print(d)\n",
    "print(d1)"
   ]
  },
  {
   "cell_type": "code",
   "execution_count": 343,
   "id": "f38805fb-2c2c-466b-9e3a-393a48e452b8",
   "metadata": {},
   "outputs": [
    {
     "data": {
      "text/plain": [
       "(11+22j)"
      ]
     },
     "execution_count": 343,
     "metadata": {},
     "output_type": "execute_result"
    }
   ],
   "source": [
    "d+d1"
   ]
  },
  {
   "cell_type": "markdown",
   "id": "a7689ef8-00b6-411c-8e01-bdd1acb3a787",
   "metadata": {},
   "source": [
    "# PYTHON TYPE CASTING OR TYPE CONVERSION\n",
    "# Other DataTypes to Integer TypeCasting "
   ]
  },
  {
   "cell_type": "code",
   "execution_count": 345,
   "id": "4c882323-0541-4469-983e-af356fcaff59",
   "metadata": {},
   "outputs": [
    {
     "data": {
      "text/plain": [
       "3"
      ]
     },
     "execution_count": 345,
     "metadata": {},
     "output_type": "execute_result"
    }
   ],
   "source": [
    "int(3.4) # Float to int"
   ]
  },
  {
   "cell_type": "code",
   "execution_count": 347,
   "id": "981a1c5a-ec52-4c1e-8d55-305e43b968fb",
   "metadata": {},
   "outputs": [
    {
     "ename": "TypeError",
     "evalue": "'float' object cannot be interpreted as an integer",
     "output_type": "error",
     "traceback": [
      "\u001b[1;31m---------------------------------------------------------------------------\u001b[0m",
      "\u001b[1;31mTypeError\u001b[0m                                 Traceback (most recent call last)",
      "Cell \u001b[1;32mIn[347], line 1\u001b[0m\n\u001b[1;32m----> 1\u001b[0m \u001b[38;5;28mint\u001b[39m(\u001b[38;5;241m3.4\u001b[39m,\u001b[38;5;241m2.9\u001b[39m)\n",
      "\u001b[1;31mTypeError\u001b[0m: 'float' object cannot be interpreted as an integer"
     ]
    }
   ],
   "source": [
    "int(3.4,2.9)"
   ]
  },
  {
   "cell_type": "code",
   "execution_count": 349,
   "id": "c3b89c23-29ad-485a-bf69-94a88860e650",
   "metadata": {},
   "outputs": [
    {
     "data": {
      "text/plain": [
       "1"
      ]
     },
     "execution_count": 349,
     "metadata": {},
     "output_type": "execute_result"
    }
   ],
   "source": [
    "int(True) # Boolean to Int"
   ]
  },
  {
   "cell_type": "code",
   "execution_count": 353,
   "id": "ea4591aa-59ee-47af-b2a0-ed04a91b9b70",
   "metadata": {},
   "outputs": [
    {
     "data": {
      "text/plain": [
       "0"
      ]
     },
     "execution_count": 353,
     "metadata": {},
     "output_type": "execute_result"
    }
   ],
   "source": [
    "int(False)"
   ]
  },
  {
   "cell_type": "code",
   "execution_count": 359,
   "id": "5b166ff8-deef-4304-88f0-cd5c5b56192f",
   "metadata": {},
   "outputs": [
    {
     "name": "stdout",
     "output_type": "stream",
     "text": [
      "4\n",
      "1\n",
      "20\n"
     ]
    }
   ],
   "source": [
    "print(int(4.8))\n",
    "print(int(True)) \n",
    "print(int('20')) # String to Int \n"
   ]
  },
  {
   "cell_type": "code",
   "execution_count": 373,
   "id": "42141f0b-293f-43af-9a0d-37c8b44507c5",
   "metadata": {},
   "outputs": [
    {
     "ename": "TypeError",
     "evalue": "int() argument must be a string, a bytes-like object or a real number, not 'complex'",
     "output_type": "error",
     "traceback": [
      "\u001b[1;31m---------------------------------------------------------------------------\u001b[0m",
      "\u001b[1;31mTypeError\u001b[0m                                 Traceback (most recent call last)",
      "Cell \u001b[1;32mIn[373], line 1\u001b[0m\n\u001b[1;32m----> 1\u001b[0m \u001b[38;5;28mint\u001b[39m(\u001b[38;5;241m1\u001b[39m\u001b[38;5;241m+\u001b[39m\u001b[38;5;241m2\u001b[39mj)\n",
      "\u001b[1;31mTypeError\u001b[0m: int() argument must be a string, a bytes-like object or a real number, not 'complex'"
     ]
    }
   ],
   "source": [
    "int(1+2j) # Complex is not allowed "
   ]
  },
  {
   "cell_type": "markdown",
   "id": "791ecf45-bea0-46e8-8f76-52156b964001",
   "metadata": {},
   "source": [
    "# Other DataTypes to Float "
   ]
  },
  {
   "cell_type": "code",
   "execution_count": 365,
   "id": "a9ce343b-d0df-4b0d-ade4-cfdfd7d4dc00",
   "metadata": {},
   "outputs": [
    {
     "data": {
      "text/plain": [
       "1.0"
      ]
     },
     "execution_count": 365,
     "metadata": {},
     "output_type": "execute_result"
    }
   ],
   "source": [
    "float(True)"
   ]
  },
  {
   "cell_type": "code",
   "execution_count": 367,
   "id": "e5d6e93c-a4db-4b1b-bf0e-1d5e5e5daa2f",
   "metadata": {},
   "outputs": [
    {
     "data": {
      "text/plain": [
       "24.0"
      ]
     },
     "execution_count": 367,
     "metadata": {},
     "output_type": "execute_result"
    }
   ],
   "source": [
    "float(24)"
   ]
  },
  {
   "cell_type": "code",
   "execution_count": 375,
   "id": "27df9706-f91e-4c52-a128-1fd0b0386e94",
   "metadata": {},
   "outputs": [
    {
     "ename": "TypeError",
     "evalue": "float expected at most 1 argument, got 2",
     "output_type": "error",
     "traceback": [
      "\u001b[1;31m---------------------------------------------------------------------------\u001b[0m",
      "\u001b[1;31mTypeError\u001b[0m                                 Traceback (most recent call last)",
      "Cell \u001b[1;32mIn[375], line 1\u001b[0m\n\u001b[1;32m----> 1\u001b[0m \u001b[38;5;28mfloat\u001b[39m(\u001b[38;5;241m20\u001b[39m,\u001b[38;5;241m30\u001b[39m)\n",
      "\u001b[1;31mTypeError\u001b[0m: float expected at most 1 argument, got 2"
     ]
    }
   ],
   "source": [
    "float(20,30) # two arguments are allowed\n"
   ]
  },
  {
   "cell_type": "code",
   "execution_count": 369,
   "id": "ee5a81c3-fe5e-4f80-ba45-a084bddf2cc2",
   "metadata": {},
   "outputs": [
    {
     "ename": "ValueError",
     "evalue": "could not convert string to float: 'ten'",
     "output_type": "error",
     "traceback": [
      "\u001b[1;31m---------------------------------------------------------------------------\u001b[0m",
      "\u001b[1;31mValueError\u001b[0m                                Traceback (most recent call last)",
      "Cell \u001b[1;32mIn[369], line 1\u001b[0m\n\u001b[1;32m----> 1\u001b[0m \u001b[38;5;28mfloat\u001b[39m(\u001b[38;5;124m'\u001b[39m\u001b[38;5;124mten\u001b[39m\u001b[38;5;124m'\u001b[39m)\n",
      "\u001b[1;31mValueError\u001b[0m: could not convert string to float: 'ten'"
     ]
    }
   ],
   "source": [
    "float('ten') # String with text is not allowed"
   ]
  },
  {
   "cell_type": "code",
   "execution_count": 371,
   "id": "537eb836-bd81-4f3f-b34b-5269e5b77a47",
   "metadata": {},
   "outputs": [
    {
     "data": {
      "text/plain": [
       "10.0"
      ]
     },
     "execution_count": 371,
     "metadata": {},
     "output_type": "execute_result"
    }
   ],
   "source": [
    "float('10')"
   ]
  },
  {
   "cell_type": "markdown",
   "id": "abc662fd-33ee-4606-867b-266f2830dbb5",
   "metadata": {},
   "source": [
    "# Other DataTypes to Complex\n"
   ]
  },
  {
   "cell_type": "code",
   "execution_count": 377,
   "id": "f7b59e2a-6578-4fb7-b511-b35f84d38613",
   "metadata": {},
   "outputs": [
    {
     "data": {
      "text/plain": [
       "(90+0j)"
      ]
     },
     "execution_count": 377,
     "metadata": {},
     "output_type": "execute_result"
    }
   ],
   "source": [
    "complex(90)"
   ]
  },
  {
   "cell_type": "code",
   "execution_count": 379,
   "id": "3b11c679-7d31-4162-9446-c0d1a2bbffa1",
   "metadata": {},
   "outputs": [
    {
     "data": {
      "text/plain": [
       "(80+67j)"
      ]
     },
     "execution_count": 379,
     "metadata": {},
     "output_type": "execute_result"
    }
   ],
   "source": [
    "complex(80,67)"
   ]
  },
  {
   "cell_type": "code",
   "execution_count": 381,
   "id": "4c529407-6197-4f60-805c-e87a5ca8d90d",
   "metadata": {},
   "outputs": [
    {
     "data": {
      "text/plain": [
       "(30+49.8j)"
      ]
     },
     "execution_count": 381,
     "metadata": {},
     "output_type": "execute_result"
    }
   ],
   "source": [
    "complex(30.0,49.8)"
   ]
  },
  {
   "cell_type": "code",
   "execution_count": 383,
   "id": "812aaae5-5591-43a6-871e-1a0ffcc883e0",
   "metadata": {},
   "outputs": [
    {
     "data": {
      "text/plain": [
       "(1+0j)"
      ]
     },
     "execution_count": 383,
     "metadata": {},
     "output_type": "execute_result"
    }
   ],
   "source": [
    "complex(True)"
   ]
  },
  {
   "cell_type": "code",
   "execution_count": 385,
   "id": "ac5e8c9c-9e1c-4427-9665-54de069ad401",
   "metadata": {},
   "outputs": [
    {
     "data": {
      "text/plain": [
       "0j"
      ]
     },
     "execution_count": 385,
     "metadata": {},
     "output_type": "execute_result"
    }
   ],
   "source": [
    "complex(False)"
   ]
  },
  {
   "cell_type": "code",
   "execution_count": 387,
   "id": "5693ed0f-cf84-44b1-bbe0-6c32ffb92309",
   "metadata": {},
   "outputs": [
    {
     "ename": "ValueError",
     "evalue": "complex() arg is a malformed string",
     "output_type": "error",
     "traceback": [
      "\u001b[1;31m---------------------------------------------------------------------------\u001b[0m",
      "\u001b[1;31mValueError\u001b[0m                                Traceback (most recent call last)",
      "Cell \u001b[1;32mIn[387], line 1\u001b[0m\n\u001b[1;32m----> 1\u001b[0m \u001b[38;5;28mcomplex\u001b[39m(\u001b[38;5;124m'\u001b[39m\u001b[38;5;124mten\u001b[39m\u001b[38;5;124m'\u001b[39m)\n",
      "\u001b[1;31mValueError\u001b[0m: complex() arg is a malformed string"
     ]
    }
   ],
   "source": [
    "complex('ten') # String with text is not allowed"
   ]
  },
  {
   "cell_type": "code",
   "execution_count": 389,
   "id": "5b2cb3f0-7b19-4945-88c3-fe8382f534cd",
   "metadata": {},
   "outputs": [
    {
     "data": {
      "text/plain": [
       "(48+0j)"
      ]
     },
     "execution_count": 389,
     "metadata": {},
     "output_type": "execute_result"
    }
   ],
   "source": [
    "complex('48')"
   ]
  },
  {
   "cell_type": "markdown",
   "id": "0e5c82a3-9de7-4bcb-a9d5-b0d569f1fcaf",
   "metadata": {},
   "source": [
    "# other DataTypes to Boolean "
   ]
  },
  {
   "cell_type": "code",
   "execution_count": 391,
   "id": "78da440e-54f1-4b03-8c49-77b2ab811c9d",
   "metadata": {},
   "outputs": [
    {
     "data": {
      "text/plain": [
       "True"
      ]
     },
     "execution_count": 391,
     "metadata": {},
     "output_type": "execute_result"
    }
   ],
   "source": [
    "bool(67)"
   ]
  },
  {
   "cell_type": "code",
   "execution_count": 393,
   "id": "6c9d44e5-8da9-4933-902d-8653d92a7bf6",
   "metadata": {},
   "outputs": [
    {
     "data": {
      "text/plain": [
       "True"
      ]
     },
     "execution_count": 393,
     "metadata": {},
     "output_type": "execute_result"
    }
   ],
   "source": [
    "bool(57.9)"
   ]
  },
  {
   "cell_type": "code",
   "execution_count": 395,
   "id": "f531ff34-d4e7-4395-98f8-3c8e905c2ed3",
   "metadata": {},
   "outputs": [
    {
     "data": {
      "text/plain": [
       "True"
      ]
     },
     "execution_count": 395,
     "metadata": {},
     "output_type": "execute_result"
    }
   ],
   "source": [
    "bool(True)"
   ]
  },
  {
   "cell_type": "code",
   "execution_count": 397,
   "id": "039f5a40-707b-42ae-9479-60c408d25328",
   "metadata": {},
   "outputs": [
    {
     "data": {
      "text/plain": [
       "False"
      ]
     },
     "execution_count": 397,
     "metadata": {},
     "output_type": "execute_result"
    }
   ],
   "source": [
    "bool(False)"
   ]
  },
  {
   "cell_type": "code",
   "execution_count": 399,
   "id": "0b94778c-f14d-40c9-baf2-2e3fc5d4e0b6",
   "metadata": {},
   "outputs": [
    {
     "data": {
      "text/plain": [
       "True"
      ]
     },
     "execution_count": 399,
     "metadata": {},
     "output_type": "execute_result"
    }
   ],
   "source": [
    "bool('ten')"
   ]
  },
  {
   "cell_type": "code",
   "execution_count": 401,
   "id": "635023c3-c4a4-4aad-a445-1ffea816f96c",
   "metadata": {},
   "outputs": [
    {
     "data": {
      "text/plain": [
       "True"
      ]
     },
     "execution_count": 401,
     "metadata": {},
     "output_type": "execute_result"
    }
   ],
   "source": [
    "bool('10')"
   ]
  },
  {
   "cell_type": "code",
   "execution_count": 403,
   "id": "63c9e746-d182-4a5f-808c-725c611e410a",
   "metadata": {},
   "outputs": [
    {
     "data": {
      "text/plain": [
       "True"
      ]
     },
     "execution_count": 403,
     "metadata": {},
     "output_type": "execute_result"
    }
   ],
   "source": [
    "bool(2+9j)"
   ]
  },
  {
   "cell_type": "code",
   "execution_count": 405,
   "id": "371b9674-884f-4656-bfb8-0e403b9ef3bb",
   "metadata": {},
   "outputs": [
    {
     "data": {
      "text/plain": [
       "False"
      ]
     },
     "execution_count": 405,
     "metadata": {},
     "output_type": "execute_result"
    }
   ],
   "source": [
    "bool(0+0j)"
   ]
  },
  {
   "cell_type": "code",
   "execution_count": 407,
   "id": "f80caa4c-41c6-49c0-95f6-5ea1876ebc1e",
   "metadata": {},
   "outputs": [
    {
     "data": {
      "text/plain": [
       "True"
      ]
     },
     "execution_count": 407,
     "metadata": {},
     "output_type": "execute_result"
    }
   ],
   "source": [
    "bool(_)"
   ]
  },
  {
   "cell_type": "code",
   "execution_count": 409,
   "id": "5231dbde-d613-47ce-acee-824d4664db40",
   "metadata": {},
   "outputs": [
    {
     "data": {
      "text/plain": [
       "False"
      ]
     },
     "execution_count": 409,
     "metadata": {},
     "output_type": "execute_result"
    }
   ],
   "source": [
    "bool()"
   ]
  },
  {
   "cell_type": "markdown",
   "id": "e7841a45-5e0d-475f-bc6c-34024c78f63d",
   "metadata": {},
   "source": [
    "# String Indexing & Slicing, Advanced Slicing "
   ]
  },
  {
   "cell_type": "code",
   "execution_count": 411,
   "id": "b7b3dff9-82ce-4c56-b960-da68d075874b",
   "metadata": {},
   "outputs": [
    {
     "ename": "SyntaxError",
     "evalue": "invalid decimal literal (3915147511.py, line 1)",
     "output_type": "error",
     "traceback": [
      "\u001b[1;36m  Cell \u001b[1;32mIn[411], line 1\u001b[1;36m\u001b[0m\n\u001b[1;33m    8s='hello Python'\u001b[0m\n\u001b[1;37m    ^\u001b[0m\n\u001b[1;31mSyntaxError\u001b[0m\u001b[1;31m:\u001b[0m invalid decimal literal\n"
     ]
    }
   ],
   "source": [
    "8s='hello Python'"
   ]
  },
  {
   "cell_type": "code",
   "execution_count": 415,
   "id": "516b8fe9-7118-4eab-806b-def131c679f8",
   "metadata": {},
   "outputs": [
    {
     "data": {
      "text/plain": [
       "'hello python'"
      ]
     },
     "execution_count": 415,
     "metadata": {},
     "output_type": "execute_result"
    }
   ],
   "source": [
    "s8='hello python'\n",
    "s8"
   ]
  },
  {
   "cell_type": "code",
   "execution_count": 419,
   "id": "6cad3084-b25e-4697-9bd6-7e0b69919809",
   "metadata": {},
   "outputs": [
    {
     "data": {
      "text/plain": [
       "'hello python'"
      ]
     },
     "execution_count": 419,
     "metadata": {},
     "output_type": "execute_result"
    }
   ],
   "source": [
    "s8[:]"
   ]
  },
  {
   "cell_type": "code",
   "execution_count": 423,
   "id": "51c83085-40cd-41c4-b1a7-965f3282f24b",
   "metadata": {},
   "outputs": [
    {
     "name": "stdout",
     "output_type": "stream",
     "text": [
      "h\n",
      "e\n",
      "l\n",
      "l\n",
      "o\n",
      " \n",
      "p\n",
      "y\n",
      "t\n",
      "h\n",
      "o\n",
      "n\n"
     ]
    }
   ],
   "source": [
    "for i in s8:\n",
    "    print(i)\n"
   ]
  },
  {
   "cell_type": "code",
   "execution_count": 425,
   "id": "565efa71-3e7f-43e8-938c-a79cfea7ad64",
   "metadata": {},
   "outputs": [
    {
     "data": {
      "text/plain": [
       "'n'"
      ]
     },
     "execution_count": 425,
     "metadata": {},
     "output_type": "execute_result"
    }
   ],
   "source": [
    "s8[-1]"
   ]
  },
  {
   "cell_type": "code",
   "execution_count": 427,
   "id": "2bb0aa73-01ce-4225-bf37-d50fcd12e903",
   "metadata": {},
   "outputs": [
    {
     "data": {
      "text/plain": [
       "'llo pyt'"
      ]
     },
     "execution_count": 427,
     "metadata": {},
     "output_type": "execute_result"
    }
   ],
   "source": [
    "s8[2:9]"
   ]
  },
  {
   "cell_type": "code",
   "execution_count": 429,
   "id": "3ba8beb8-d6bf-47dc-9fde-ff4067ea83b0",
   "metadata": {},
   "outputs": [
    {
     "data": {
      "text/plain": [
       "'nohtyp olleh'"
      ]
     },
     "execution_count": 429,
     "metadata": {},
     "output_type": "execute_result"
    }
   ],
   "source": [
    "s8[::-1]"
   ]
  },
  {
   "cell_type": "code",
   "execution_count": 431,
   "id": "f6a76246-408a-4200-82d7-3c64a29838cf",
   "metadata": {},
   "outputs": [
    {
     "data": {
      "text/plain": [
       "'hello python'"
      ]
     },
     "execution_count": 431,
     "metadata": {},
     "output_type": "execute_result"
    }
   ],
   "source": [
    "s8[::]"
   ]
  },
  {
   "cell_type": "code",
   "execution_count": 421,
   "id": "e5d22156-f1b7-432e-aa0c-70c19ee9a3d6",
   "metadata": {},
   "outputs": [
    {
     "data": {
      "text/plain": [
       "'h'"
      ]
     },
     "execution_count": 421,
     "metadata": {},
     "output_type": "execute_result"
    }
   ],
   "source": [
    "s8[0:4:5]"
   ]
  },
  {
   "cell_type": "code",
   "execution_count": 433,
   "id": "68247e0d-1ecb-42f6-946e-12ac17a74bd6",
   "metadata": {},
   "outputs": [
    {
     "data": {
      "text/plain": [
       "'nhy le'"
      ]
     },
     "execution_count": 433,
     "metadata": {},
     "output_type": "execute_result"
    }
   ],
   "source": [
    "s8[::-2]"
   ]
  },
  {
   "cell_type": "code",
   "execution_count": 449,
   "id": "60b92305-18f7-4e2f-aac4-9962a79c19f5",
   "metadata": {},
   "outputs": [
    {
     "name": "stdout",
     "output_type": "stream",
     "text": [
      "the addition of num1 20 and num2 45=65\n"
     ]
    }
   ],
   "source": [
    "num1= 20\n",
    "num2=45\n",
    "add=num1+num2\n",
    "print('the addition of num1 {} and num2 {}={}'.format(num1,num2,add))"
   ]
  },
  {
   "cell_type": "code",
   "execution_count": null,
   "id": "fb33c853-c02e-4b81-aa91-67801535a59a",
   "metadata": {},
   "outputs": [],
   "source": []
  }
 ],
 "metadata": {
  "kernelspec": {
   "display_name": "Python 3 (ipykernel)",
   "language": "python",
   "name": "python3"
  },
  "language_info": {
   "codemirror_mode": {
    "name": "ipython",
    "version": 3
   },
   "file_extension": ".py",
   "mimetype": "text/x-python",
   "name": "python",
   "nbconvert_exporter": "python",
   "pygments_lexer": "ipython3",
   "version": "3.12.4"
  }
 },
 "nbformat": 4,
 "nbformat_minor": 5
}
