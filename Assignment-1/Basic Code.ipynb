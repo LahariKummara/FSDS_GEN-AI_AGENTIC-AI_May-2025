{
 "cells": [
  {
   "cell_type": "markdown",
   "id": "acea44b7-c47a-4e11-91f1-4cba18098040",
   "metadata": {},
   "source": [
    "# Introduction\n"
   ]
  },
  {
   "cell_type": "code",
   "execution_count": 4,
   "id": "b754a7d0-cb76-404e-be09-cf479ddeda18",
   "metadata": {},
   "outputs": [
    {
     "name": "stdout",
     "output_type": "stream",
     "text": [
      "5\n",
      "1\n",
      "6\n",
      "1.5\n",
      "9\n",
      "1\n",
      "1\n"
     ]
    }
   ],
   "source": [
    "print(3 + 2)    # Addition(+)\n",
    "print(3 - 2)    # Substraction(-)\n",
    "print(3 * 2)    # Multiplication(*)\n",
    "print(3 / 2)    # Float Division(/)\n",
    "print(3 ** 2)   # Exponential(**)\n",
    "print(3 % 2)    # Modulus(%)\n",
    "print(3 // 2)   # Int Division(//)"
   ]
  },
  {
   "cell_type": "markdown",
   "id": "2540ccea-92fe-416e-b13c-c61623831c6b",
   "metadata": {},
   "source": [
    "# Checking data types"
   ]
  },
  {
   "cell_type": "code",
   "execution_count": 7,
   "id": "06f962ce-01cc-488d-9977-6a355ac708fe",
   "metadata": {},
   "outputs": [
    {
     "name": "stdout",
     "output_type": "stream",
     "text": [
      "<class 'int'>\n",
      "<class 'float'>\n",
      "<class 'str'>\n",
      "<class 'bool'>\n",
      "<class 'complex'>\n",
      "type[1, 2, 3]\n",
      "<class 'set'>\n",
      "<class 'set'>\n",
      "<class 'tuple'>\n",
      "<class 'bool'>\n",
      "<class 'bool'>\n"
     ]
    }
   ],
   "source": [
    "print(type(10))                          # Int\n",
    "print(type(3.14))                        # Float\n",
    "print(type('hii'))                       # String\n",
    "print(type(True))                        # Boolean\n",
    "print(type(2+4j))                        # Complex\n",
    "print(type[1,2,3])                       # List\n",
    "print(type({'name','age','address'}))    # Dictionary\n",
    "print(type({9.3,3.14,8.4}))              # Set\n",
    "print(type((9.5,7.2,6.1)))               # Tuple\n",
    "print(type(4 == 4))                      # Bool\n",
    "print(type(4 >= 4))                      # Bool"
   ]
  },
  {
   "cell_type": "code",
   "execution_count": null,
   "id": "2cff9a2c-7ae0-4d71-b352-79aab3766e6b",
   "metadata": {},
   "outputs": [],
   "source": []
  }
 ],
 "metadata": {
  "kernelspec": {
   "display_name": "Python 3 (ipykernel)",
   "language": "python",
   "name": "python3"
  },
  "language_info": {
   "codemirror_mode": {
    "name": "ipython",
    "version": 3
   },
   "file_extension": ".py",
   "mimetype": "text/x-python",
   "name": "python",
   "nbconvert_exporter": "python",
   "pygments_lexer": "ipython3",
   "version": "3.12.4"
  }
 },
 "nbformat": 4,
 "nbformat_minor": 5
}
