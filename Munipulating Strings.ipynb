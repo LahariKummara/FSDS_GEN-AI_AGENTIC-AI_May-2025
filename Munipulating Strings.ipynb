{
 "cells": [
  {
   "cell_type": "markdown",
   "id": "6915cebe-a2f6-4761-938f-dd962636425b",
   "metadata": {},
   "source": [
    "# Manipulating Strings"
   ]
  },
  {
   "cell_type": "markdown",
   "id": "54173ce3-cfda-4d6f-bf09-a3e7367bc7f8",
   "metadata": {},
   "source": [
    "## Escape Characaters\n",
    "\n",
    "\n",
    "An escape character is created by typing a backslash '\\' followed by the character we want to insert ."
   ]
  },
  {
   "cell_type": "raw",
   "id": "ca55ab2c-9e06-49d8-8c16-6f07d840442e",
   "metadata": {},
   "source": [
    "Escape character                                          print as\n",
    " \n",
    "'\\''                                                     single quote\n",
    "'\\\"'                                                     Double quote\n",
    "'\\t'                                                     Tab\n",
    "'\\n'                                                     Newline(line break)\n",
    "'\\\\'                                                     Backslash\n",
    "'\\b'                                                     backspace\n",
    "'\\ooo'                                                   Octal value\n",
    "'\\r'                                                     Carriage Return\n"
   ]
  },
  {
   "cell_type": "code",
   "execution_count": 5,
   "id": "df5fdcdd-681a-4308-b8db-9a815efba6ca",
   "metadata": {},
   "outputs": [
    {
     "name": "stdout",
     "output_type": "stream",
     "text": [
      "Hello there!\n",
      "How are you?\n",
      "I'm doing fine.\n"
     ]
    }
   ],
   "source": [
    "print(\"Hello there!\\nHow are you?\\nI\\'m doing fine.\")"
   ]
  },
  {
   "cell_type": "markdown",
   "id": "b0eacba5-aa67-4919-af58-84c14f3ad1e0",
   "metadata": {},
   "source": [
    "# Raw Strings\n",
    "\n",
    "A raw string entirely ignores all escape characters and prints any backslash that appears in the string ."
   ]
  },
  {
   "cell_type": "code",
   "execution_count": 12,
   "id": "ccef18d6-3231-46f7-ae1a-1b5a0b1e3a26",
   "metadata": {},
   "outputs": [
    {
     "name": "stdout",
     "output_type": "stream",
     "text": [
      "hello there!\\nHow are you?\\nI\\'m doing fine\n"
     ]
    }
   ],
   "source": [
    "print(r\"hello there!\\nHow are you?\\nI\\'m doing fine\")"
   ]
  },
  {
   "cell_type": "markdown",
   "id": "6680d32e-0846-4ae9-a43e-6386b272df76",
   "metadata": {},
   "source": [
    "# Multiline Strings"
   ]
  },
  {
   "cell_type": "code",
   "execution_count": 17,
   "id": "a8118604-b9f5-4699-94f1-fda935bd7130",
   "metadata": {},
   "outputs": [
    {
     "name": "stdout",
     "output_type": "stream",
     "text": [
      "Dear Mam,\n",
      "\n",
      "    Hello\n",
      "    How are You \n",
      "\n",
      "    sincerly,\n",
      "    Rosy\n"
     ]
    }
   ],
   "source": [
    "print(\n",
    "    \"\"\"Dear Mam,\n",
    "\n",
    "    Hello\n",
    "    How are You \n",
    "\n",
    "    sincerly,\n",
    "    Rosy\"\"\"\n",
    ")"
   ]
  },
  {
   "cell_type": "markdown",
   "id": "64d9767c-e581-4843-aec5-689af03e6b2b",
   "metadata": {},
   "source": [
    "# Indexing and Slicing Strings"
   ]
  },
  {
   "cell_type": "raw",
   "id": "bda5fed1-90b6-4703-83ab-c8af1880b541",
   "metadata": {},
   "source": [
    " H  e  l  l  o     w  o  r  l  d   ! \n",
    " 0  1  2  3  4  5  6  7  8  9  10  11"
   ]
  },
  {
   "cell_type": "markdown",
   "id": "c31faa13-42af-4784-9c0c-8ff040ae9305",
   "metadata": {},
   "source": [
    "# Indexing"
   ]
  },
  {
   "cell_type": "code",
   "execution_count": 8,
   "id": "01ebd679-52e8-45da-b66f-b9a15e3cf3f2",
   "metadata": {},
   "outputs": [
    {
     "data": {
      "text/plain": [
       "'H'"
      ]
     },
     "execution_count": 8,
     "metadata": {},
     "output_type": "execute_result"
    }
   ],
   "source": [
    "spam='Hello World!'\n",
    "spam[0]"
   ]
  },
  {
   "cell_type": "code",
   "execution_count": 10,
   "id": "eaf9bf17-6f12-4d54-943d-112874686950",
   "metadata": {},
   "outputs": [
    {
     "data": {
      "text/plain": [
       "'o'"
      ]
     },
     "execution_count": 10,
     "metadata": {},
     "output_type": "execute_result"
    }
   ],
   "source": [
    "spam[4]"
   ]
  },
  {
   "cell_type": "code",
   "execution_count": 12,
   "id": "2a3bae0c-7145-490a-97c7-d94fead62af5",
   "metadata": {},
   "outputs": [
    {
     "data": {
      "text/plain": [
       "'!'"
      ]
     },
     "execution_count": 12,
     "metadata": {},
     "output_type": "execute_result"
    }
   ],
   "source": [
    "spam[-1]"
   ]
  },
  {
   "cell_type": "markdown",
   "id": "f4f1beb6-de70-4600-a559-22b9944477b5",
   "metadata": {},
   "source": [
    "# Slicing "
   ]
  },
  {
   "cell_type": "code",
   "execution_count": 15,
   "id": "11d5fc75-c02c-40d4-b312-36fb59be3f26",
   "metadata": {},
   "outputs": [],
   "source": [
    "spam='Hello World!'\n"
   ]
  },
  {
   "cell_type": "code",
   "execution_count": 17,
   "id": "0b422c22-8fda-4bcf-90cf-4cf4a8cf615c",
   "metadata": {},
   "outputs": [
    {
     "data": {
      "text/plain": [
       "'He'"
      ]
     },
     "execution_count": 17,
     "metadata": {},
     "output_type": "execute_result"
    }
   ],
   "source": [
    "spam[0:2]"
   ]
  },
  {
   "cell_type": "code",
   "execution_count": 19,
   "id": "ac05aca3-a853-4e9e-9093-8fbebeda002b",
   "metadata": {},
   "outputs": [
    {
     "data": {
      "text/plain": [
       "'llo'"
      ]
     },
     "execution_count": 19,
     "metadata": {},
     "output_type": "execute_result"
    }
   ],
   "source": [
    "spam[2:5]"
   ]
  },
  {
   "cell_type": "code",
   "execution_count": 21,
   "id": "8ff73417-2b97-4b42-95d1-ddb192b2e2d4",
   "metadata": {},
   "outputs": [
    {
     "data": {
      "text/plain": [
       "'Hello'"
      ]
     },
     "execution_count": 21,
     "metadata": {},
     "output_type": "execute_result"
    }
   ],
   "source": [
    "spam[:5]"
   ]
  },
  {
   "cell_type": "code",
   "execution_count": 27,
   "id": "4c13f92b-e27d-40f8-bc23-7ff149ff7c32",
   "metadata": {},
   "outputs": [
    {
     "data": {
      "text/plain": [
       "'World'"
      ]
     },
     "execution_count": 27,
     "metadata": {},
     "output_type": "execute_result"
    }
   ],
   "source": [
    "spam[6:-1]"
   ]
  },
  {
   "cell_type": "code",
   "execution_count": 29,
   "id": "7ff7af35-03ea-42ca-a3a4-4817b3c2e8f7",
   "metadata": {},
   "outputs": [
    {
     "data": {
      "text/plain": [
       "'Hello World'"
      ]
     },
     "execution_count": 29,
     "metadata": {},
     "output_type": "execute_result"
    }
   ],
   "source": [
    "spam[:-1]"
   ]
  },
  {
   "cell_type": "code",
   "execution_count": 31,
   "id": "50e6e07a-515e-4126-b327-97b382dd75fc",
   "metadata": {},
   "outputs": [
    {
     "data": {
      "text/plain": [
       "'!dlroW olleH'"
      ]
     },
     "execution_count": 31,
     "metadata": {},
     "output_type": "execute_result"
    }
   ],
   "source": [
    "spam[::-1]"
   ]
  },
  {
   "cell_type": "code",
   "execution_count": 35,
   "id": "bf0e7132-c336-41c8-95b6-8a556aefd39e",
   "metadata": {},
   "outputs": [
    {
     "data": {
      "text/plain": [
       "'Hello'"
      ]
     },
     "execution_count": 35,
     "metadata": {},
     "output_type": "execute_result"
    }
   ],
   "source": [
    "fizz=spam[0:5]\n",
    "fizz"
   ]
  },
  {
   "cell_type": "markdown",
   "id": "fa6a30b0-c359-4777-bcd3-830b71979e83",
   "metadata": {},
   "source": [
    "# The in and not in opertors"
   ]
  },
  {
   "cell_type": "code",
   "execution_count": 38,
   "id": "4e3b8427-66e7-43a5-9f44-6bf57f03ab09",
   "metadata": {},
   "outputs": [
    {
     "data": {
      "text/plain": [
       "True"
      ]
     },
     "execution_count": 38,
     "metadata": {},
     "output_type": "execute_result"
    }
   ],
   "source": [
    "'Hello' in 'Hello world!'"
   ]
  },
  {
   "cell_type": "code",
   "execution_count": 40,
   "id": "e26f1367-af63-4927-b8b7-fce268670fdc",
   "metadata": {},
   "outputs": [
    {
     "data": {
      "text/plain": [
       "False"
      ]
     },
     "execution_count": 40,
     "metadata": {},
     "output_type": "execute_result"
    }
   ],
   "source": [
    "'hello' in 'Hello world!'"
   ]
  },
  {
   "cell_type": "code",
   "execution_count": 42,
   "id": "240cd478-cc3a-412f-a057-22d20a51841f",
   "metadata": {},
   "outputs": [
    {
     "data": {
      "text/plain": [
       "True"
      ]
     },
     "execution_count": 42,
     "metadata": {},
     "output_type": "execute_result"
    }
   ],
   "source": [
    "'' in spam"
   ]
  },
  {
   "cell_type": "code",
   "execution_count": 44,
   "id": "bfb2f6d4-d048-43c1-82af-8bfee0e0ac49",
   "metadata": {},
   "outputs": [
    {
     "data": {
      "text/plain": [
       "False"
      ]
     },
     "execution_count": 44,
     "metadata": {},
     "output_type": "execute_result"
    }
   ],
   "source": [
    "'cats' not in 'cats and dogs'"
   ]
  },
  {
   "cell_type": "markdown",
   "id": "283a308e-3f2f-4f38-9aa0-e14a44c9eb0b",
   "metadata": {},
   "source": [
    "# Upper() ,lower() and title()\n",
    "\n",
    "Transforms a string to upper,lower and title case:"
   ]
  },
  {
   "cell_type": "code",
   "execution_count": 48,
   "id": "82d17cff-2384-4df9-9772-828649f5fc8a",
   "metadata": {},
   "outputs": [
    {
     "data": {
      "text/plain": [
       "'HELLO WORLD!'"
      ]
     },
     "execution_count": 48,
     "metadata": {},
     "output_type": "execute_result"
    }
   ],
   "source": [
    "greet='Hello world!'\n",
    "greet.upper()"
   ]
  },
  {
   "cell_type": "code",
   "execution_count": 50,
   "id": "2bbfba80-10f0-4b91-aafc-4b01aaa9c38a",
   "metadata": {},
   "outputs": [
    {
     "data": {
      "text/plain": [
       "'hello world!'"
      ]
     },
     "execution_count": 50,
     "metadata": {},
     "output_type": "execute_result"
    }
   ],
   "source": [
    "greet.lower()"
   ]
  },
  {
   "cell_type": "code",
   "execution_count": 52,
   "id": "20f1e964-a83e-440d-b316-15052088b0e0",
   "metadata": {},
   "outputs": [
    {
     "data": {
      "text/plain": [
       "'Hello World!'"
      ]
     },
     "execution_count": 52,
     "metadata": {},
     "output_type": "execute_result"
    }
   ],
   "source": [
    "greet.title()"
   ]
  },
  {
   "cell_type": "markdown",
   "id": "a4d99683-482a-4425-a0a1-1af9ef7e1b26",
   "metadata": {},
   "source": [
    "# isupper()and islower() methods\n",
    "\n",
    "Returns 'True' or 'False' after evaluating if a string is in upper or lower case:"
   ]
  },
  {
   "cell_type": "code",
   "execution_count": 56,
   "id": "5a289d9d-d551-4b38-ba74-da427295945c",
   "metadata": {},
   "outputs": [],
   "source": [
    "spam='Hello world!'"
   ]
  },
  {
   "cell_type": "code",
   "execution_count": 60,
   "id": "d8c62575-2379-4f18-aba8-3775685a3c43",
   "metadata": {},
   "outputs": [
    {
     "data": {
      "text/plain": [
       "False"
      ]
     },
     "execution_count": 60,
     "metadata": {},
     "output_type": "execute_result"
    }
   ],
   "source": [
    "spam.isupper()"
   ]
  },
  {
   "cell_type": "code",
   "execution_count": 62,
   "id": "a702b018-3f3e-401a-85dc-20d3476f0bba",
   "metadata": {},
   "outputs": [
    {
     "data": {
      "text/plain": [
       "False"
      ]
     },
     "execution_count": 62,
     "metadata": {},
     "output_type": "execute_result"
    }
   ],
   "source": [
    "spam.islower()"
   ]
  },
  {
   "cell_type": "code",
   "execution_count": 66,
   "id": "f0e2f7e2-7f4b-4e3c-9843-f5d9545a7712",
   "metadata": {},
   "outputs": [
    {
     "data": {
      "text/plain": [
       "False"
      ]
     },
     "execution_count": 66,
     "metadata": {},
     "output_type": "execute_result"
    }
   ],
   "source": [
    "'HELlO'.isupper()"
   ]
  },
  {
   "cell_type": "code",
   "execution_count": 68,
   "id": "9bbdd46c-2266-444f-bbca-8badcda04476",
   "metadata": {},
   "outputs": [
    {
     "data": {
      "text/plain": [
       "True"
      ]
     },
     "execution_count": 68,
     "metadata": {},
     "output_type": "execute_result"
    }
   ],
   "source": [
    "'abcd123'.islower()"
   ]
  },
  {
   "cell_type": "code",
   "execution_count": 70,
   "id": "8f748757-9488-4737-acc1-b4c5b97c734f",
   "metadata": {},
   "outputs": [
    {
     "data": {
      "text/plain": [
       "False"
      ]
     },
     "execution_count": 70,
     "metadata": {},
     "output_type": "execute_result"
    }
   ],
   "source": [
    "'1234'.islower()"
   ]
  },
  {
   "cell_type": "code",
   "execution_count": 72,
   "id": "9c37e051-15e9-41ae-b214-e23e2a0579d6",
   "metadata": {},
   "outputs": [
    {
     "data": {
      "text/plain": [
       "False"
      ]
     },
     "execution_count": 72,
     "metadata": {},
     "output_type": "execute_result"
    }
   ],
   "source": [
    "'1234'.isupper()"
   ]
  },
  {
   "cell_type": "markdown",
   "id": "cf0fb62e-82f3-4d4a-a874-72135888ac9f",
   "metadata": {},
   "source": [
    "# The isX string methods"
   ]
  },
  {
   "cell_type": "raw",
   "id": "c680cc9b-a140-42a1-8a3d-8505d2dfb103",
   "metadata": {},
   "source": [
    "Method           Description\n",
    "\n",
    "isalpha()        returns 'True' if the string consists only of letters.\n",
    "isalnum()        returns 'True' if the string consists only of letters and numbers.\n",
    "isdecimal()      returns 'True' if the string consists only of numbers\n",
    "isspace()        returns 'True' if the string consists only of spaces,tabs,and new                    lines.\n",
    "istitle()        returns 'True' if the string consists only of words that begin with                  an uppercase letter followed by only lowercase characters."
   ]
  },
  {
   "cell_type": "markdown",
   "id": "05d5151b-2599-4447-b6ac-edfb4259f5e2",
   "metadata": {},
   "source": [
    "# startswith() and endswith()"
   ]
  },
  {
   "cell_type": "code",
   "execution_count": 77,
   "id": "0e8c3ff5-f1d5-4b21-952d-182f48d5cf21",
   "metadata": {},
   "outputs": [
    {
     "data": {
      "text/plain": [
       "True"
      ]
     },
     "execution_count": 77,
     "metadata": {},
     "output_type": "execute_result"
    }
   ],
   "source": [
    "'Hello world!'.startswith('Hello')"
   ]
  },
  {
   "cell_type": "code",
   "execution_count": 79,
   "id": "820a7754-c853-4678-89b5-0becccb6c55c",
   "metadata": {},
   "outputs": [
    {
     "data": {
      "text/plain": [
       "True"
      ]
     },
     "execution_count": 79,
     "metadata": {},
     "output_type": "execute_result"
    }
   ],
   "source": [
    "'Hello world!'.endswith('world!')"
   ]
  },
  {
   "cell_type": "code",
   "execution_count": 81,
   "id": "4232df6c-5be3-479b-ac56-97dca74413df",
   "metadata": {},
   "outputs": [
    {
     "data": {
      "text/plain": [
       "False"
      ]
     },
     "execution_count": 81,
     "metadata": {},
     "output_type": "execute_result"
    }
   ],
   "source": [
    "'abc123'.startswith('abcdef')"
   ]
  },
  {
   "cell_type": "code",
   "execution_count": 83,
   "id": "762fa7f6-0fa6-4414-8d19-d00e7937b862",
   "metadata": {},
   "outputs": [
    {
     "data": {
      "text/plain": [
       "False"
      ]
     },
     "execution_count": 83,
     "metadata": {},
     "output_type": "execute_result"
    }
   ],
   "source": [
    "'abc123'.endswith('12')"
   ]
  },
  {
   "cell_type": "code",
   "execution_count": 85,
   "id": "b3cc2a5d-57b5-42fe-aa29-da14461cff2a",
   "metadata": {},
   "outputs": [
    {
     "data": {
      "text/plain": [
       "True"
      ]
     },
     "execution_count": 85,
     "metadata": {},
     "output_type": "execute_result"
    }
   ],
   "source": [
    "'Hello world!'.startswith('Hello world!')"
   ]
  },
  {
   "cell_type": "code",
   "execution_count": 89,
   "id": "76886806-ccca-4f34-a2e3-7e07b5738dd6",
   "metadata": {},
   "outputs": [
    {
     "data": {
      "text/plain": [
       "True"
      ]
     },
     "execution_count": 89,
     "metadata": {},
     "output_type": "execute_result"
    }
   ],
   "source": [
    "'Hello world!'.endswith('Hello world!')"
   ]
  },
  {
   "cell_type": "markdown",
   "id": "df15da37-0163-460b-86a5-078155d34794",
   "metadata": {},
   "source": [
    "# join() and split()"
   ]
  },
  {
   "cell_type": "markdown",
   "id": "243c392b-ac1f-4f62-b2d4-99870f683147",
   "metadata": {},
   "source": [
    "## join()"
   ]
  },
  {
   "cell_type": "markdown",
   "id": "2f3353c1-a18e-4c84-afc8-4282f019b39e",
   "metadata": {},
   "source": [
    "The 'join()' method takes all the items in an iterable,like a list,dictionary,tuple,set,and joins them into a string. We can also specify a separator."
   ]
  },
  {
   "cell_type": "code",
   "execution_count": 96,
   "id": "524fdfba-4eda-40df-99b1-55e85af68762",
   "metadata": {},
   "outputs": [
    {
     "data": {
      "text/plain": [
       "'MynameisHoney'"
      ]
     },
     "execution_count": 96,
     "metadata": {},
     "output_type": "execute_result"
    }
   ],
   "source": [
    "''.join(['My', 'name', 'is', 'Honey'])"
   ]
  },
  {
   "cell_type": "code",
   "execution_count": 98,
   "id": "0a8480b9-f49e-4ee2-9918-54d170c4194f",
   "metadata": {},
   "outputs": [
    {
     "data": {
      "text/plain": [
       "'My, name, is, Honey'"
      ]
     },
     "execution_count": 98,
     "metadata": {},
     "output_type": "execute_result"
    }
   ],
   "source": [
    "', '.join(['My', 'name', 'is', 'Honey'])"
   ]
  },
  {
   "cell_type": "code",
   "execution_count": 100,
   "id": "b4dfb38f-7c19-42c2-b12d-f57d1a48dc0d",
   "metadata": {},
   "outputs": [
    {
     "data": {
      "text/plain": [
       "'My name is Honey'"
      ]
     },
     "execution_count": 100,
     "metadata": {},
     "output_type": "execute_result"
    }
   ],
   "source": [
    "' '.join(['My', 'name', 'is', 'Honey'])"
   ]
  },
  {
   "cell_type": "code",
   "execution_count": 102,
   "id": "8fa75abb-500e-4a22-8201-6f92dcced0fd",
   "metadata": {},
   "outputs": [
    {
     "data": {
      "text/plain": [
       "'MyABCnameABCisABCHoney'"
      ]
     },
     "execution_count": 102,
     "metadata": {},
     "output_type": "execute_result"
    }
   ],
   "source": [
    "'ABC'.join(['My', 'name', 'is', 'Honey'])"
   ]
  },
  {
   "cell_type": "markdown",
   "id": "a35f9e53-7f80-4149-b810-ce5b06b67ebe",
   "metadata": {},
   "source": [
    "## split()"
   ]
  },
  {
   "cell_type": "markdown",
   "id": "c99b7c7d-bbc0-4959-9697-bcd074b0d977",
   "metadata": {},
   "source": [
    "The 'split()' method splits a 'string' into a 'list'. By default ,it will use whitespace to separate the items, but you can also set another character of choice."
   ]
  },
  {
   "cell_type": "code",
   "execution_count": 108,
   "id": "ecd44dac-803b-41a6-9fc5-bd5896f4fdc0",
   "metadata": {},
   "outputs": [
    {
     "data": {
      "text/plain": [
       "['My', 'name', 'is', 'Honey']"
      ]
     },
     "execution_count": 108,
     "metadata": {},
     "output_type": "execute_result"
    }
   ],
   "source": [
    "'My name is Honey'.split()"
   ]
  },
  {
   "cell_type": "code",
   "execution_count": 112,
   "id": "fcae1d3a-cb4e-4dda-bd0e-618fc10336ad",
   "metadata": {},
   "outputs": [
    {
     "data": {
      "text/plain": [
       "['My', 'name', 'is', 'Honey']"
      ]
     },
     "execution_count": 112,
     "metadata": {},
     "output_type": "execute_result"
    }
   ],
   "source": [
    "'MyABCnameABCisABCHoney'.split('ABC')"
   ]
  },
  {
   "cell_type": "code",
   "execution_count": 114,
   "id": "54edd0eb-738a-4568-af81-906e852240e5",
   "metadata": {},
   "outputs": [
    {
     "data": {
      "text/plain": [
       "['My na', 'e is Honey']"
      ]
     },
     "execution_count": 114,
     "metadata": {},
     "output_type": "execute_result"
    }
   ],
   "source": [
    "'My name is Honey'.split('m')"
   ]
  },
  {
   "cell_type": "code",
   "execution_count": 116,
   "id": "6f0aa79b-eb1c-4931-b2a8-0ea9dc23b972",
   "metadata": {},
   "outputs": [
    {
     "data": {
      "text/plain": [
       "['My', 'name', 'is', 'Honey']"
      ]
     },
     "execution_count": 116,
     "metadata": {},
     "output_type": "execute_result"
    }
   ],
   "source": [
    "'My name is Honey'.split()"
   ]
  },
  {
   "cell_type": "code",
   "execution_count": 120,
   "id": "9b58a6de-588b-4c40-9b69-98f1e9a429e1",
   "metadata": {},
   "outputs": [
    {
     "data": {
      "text/plain": [
       "['', 'My', 'name', 'is', 'Honey']"
      ]
     },
     "execution_count": 120,
     "metadata": {},
     "output_type": "execute_result"
    }
   ],
   "source": [
    "' My name is Honey'.split(' ')"
   ]
  },
  {
   "cell_type": "markdown",
   "id": "391aaf47-c695-47ae-a86f-ab3e56e1e821",
   "metadata": {},
   "source": [
    "# Justifying text with rjust(), ljust(),and center()"
   ]
  },
  {
   "cell_type": "code",
   "execution_count": 125,
   "id": "8b7686b7-5eef-4f01-89ea-af2a14d8e13e",
   "metadata": {},
   "outputs": [
    {
     "data": {
      "text/plain": [
       "'     Hello'"
      ]
     },
     "execution_count": 125,
     "metadata": {},
     "output_type": "execute_result"
    }
   ],
   "source": [
    "'Hello'.rjust(10)"
   ]
  },
  {
   "cell_type": "code",
   "execution_count": 129,
   "id": "a8548c03-1b1c-40df-b19c-63ecad985d36",
   "metadata": {},
   "outputs": [
    {
     "data": {
      "text/plain": [
       "'               hello'"
      ]
     },
     "execution_count": 129,
     "metadata": {},
     "output_type": "execute_result"
    }
   ],
   "source": [
    "'hello'.rjust(20)"
   ]
  },
  {
   "cell_type": "code",
   "execution_count": 131,
   "id": "27084bb6-4b64-4849-8c71-3804b89de434",
   "metadata": {},
   "outputs": [
    {
     "data": {
      "text/plain": [
       "'         Hello world'"
      ]
     },
     "execution_count": 131,
     "metadata": {},
     "output_type": "execute_result"
    }
   ],
   "source": [
    "'Hello world'.rjust(20)"
   ]
  },
  {
   "cell_type": "code",
   "execution_count": 133,
   "id": "4de71d25-0622-41c7-b7db-bb80c2f43668",
   "metadata": {},
   "outputs": [
    {
     "ename": "TypeError",
     "evalue": "ljust expected at least 1 argument, got 0",
     "output_type": "error",
     "traceback": [
      "\u001b[1;31m---------------------------------------------------------------------------\u001b[0m",
      "\u001b[1;31mTypeError\u001b[0m                                 Traceback (most recent call last)",
      "Cell \u001b[1;32mIn[133], line 1\u001b[0m\n\u001b[1;32m----> 1\u001b[0m \u001b[38;5;124m'\u001b[39m\u001b[38;5;124mHello\u001b[39m\u001b[38;5;124m'\u001b[39m\u001b[38;5;241m.\u001b[39mljust()\n",
      "\u001b[1;31mTypeError\u001b[0m: ljust expected at least 1 argument, got 0"
     ]
    }
   ],
   "source": [
    "'Hello'.ljust()"
   ]
  },
  {
   "cell_type": "code",
   "execution_count": 135,
   "id": "956a90cb-be0e-40d6-93f0-2af275f3a653",
   "metadata": {},
   "outputs": [
    {
     "data": {
      "text/plain": [
       "'Hello     '"
      ]
     },
     "execution_count": 135,
     "metadata": {},
     "output_type": "execute_result"
    }
   ],
   "source": [
    "'Hello'.ljust(10)"
   ]
  },
  {
   "cell_type": "code",
   "execution_count": 137,
   "id": "578a5ae5-9116-4beb-bec2-d97dbe9cb4f5",
   "metadata": {},
   "outputs": [
    {
     "data": {
      "text/plain": [
       "'  Hello   '"
      ]
     },
     "execution_count": 137,
     "metadata": {},
     "output_type": "execute_result"
    }
   ],
   "source": [
    "'Hello'.center(10)"
   ]
  },
  {
   "cell_type": "markdown",
   "id": "892aa583-5b63-4b36-9ec3-c6e547e01e04",
   "metadata": {},
   "source": [
    "An optional second argument to 'rjust()' and 'ljust()' will specify a fill character apart from a space character:"
   ]
  },
  {
   "cell_type": "code",
   "execution_count": 140,
   "id": "660e75b8-33e5-4fae-99a1-4d6d5a04821c",
   "metadata": {},
   "outputs": [
    {
     "data": {
      "text/plain": [
       "'***************Hello'"
      ]
     },
     "execution_count": 140,
     "metadata": {},
     "output_type": "execute_result"
    }
   ],
   "source": [
    "'Hello'.rjust(20, '*')"
   ]
  },
  {
   "cell_type": "code",
   "execution_count": 146,
   "id": "190336fd-25d8-4ba1-bd87-57bc9b8348a8",
   "metadata": {},
   "outputs": [
    {
     "data": {
      "text/plain": [
       "'Hello-----'"
      ]
     },
     "execution_count": 146,
     "metadata": {},
     "output_type": "execute_result"
    }
   ],
   "source": [
    "'Hello'.ljust(10, '-')"
   ]
  },
  {
   "cell_type": "code",
   "execution_count": 148,
   "id": "5b67e5c9-890d-493b-a000-50420bfad34e",
   "metadata": {},
   "outputs": [
    {
     "data": {
      "text/plain": [
       "'=======Hello========'"
      ]
     },
     "execution_count": 148,
     "metadata": {},
     "output_type": "execute_result"
    }
   ],
   "source": [
    "'Hello'.center(20,'=')"
   ]
  },
  {
   "cell_type": "markdown",
   "id": "ea85592c-e47e-43aa-8d0e-5eb825914c61",
   "metadata": {},
   "source": [
    "# Removing whitespac with strip() ,rstrip() and lstrip()"
   ]
  },
  {
   "cell_type": "code",
   "execution_count": 151,
   "id": "3814b7bb-5729-4e65-8f1c-58a84050ffeb",
   "metadata": {},
   "outputs": [],
   "source": [
    "spam='    Hello world    '"
   ]
  },
  {
   "cell_type": "code",
   "execution_count": 153,
   "id": "b650711f-100e-41c8-b67b-8eb72a1783ed",
   "metadata": {},
   "outputs": [
    {
     "data": {
      "text/plain": [
       "'Hello world'"
      ]
     },
     "execution_count": 153,
     "metadata": {},
     "output_type": "execute_result"
    }
   ],
   "source": [
    "spam.strip()"
   ]
  },
  {
   "cell_type": "code",
   "execution_count": 155,
   "id": "ac9012ee-0c78-43aa-90f8-f839cbf4c93d",
   "metadata": {},
   "outputs": [
    {
     "data": {
      "text/plain": [
       "'Hello world    '"
      ]
     },
     "execution_count": 155,
     "metadata": {},
     "output_type": "execute_result"
    }
   ],
   "source": [
    "spam.lstrip()"
   ]
  },
  {
   "cell_type": "code",
   "execution_count": 157,
   "id": "d60065ce-69fd-4f3b-b801-3c70ccaa6c07",
   "metadata": {},
   "outputs": [
    {
     "data": {
      "text/plain": [
       "'    Hello world'"
      ]
     },
     "execution_count": 157,
     "metadata": {},
     "output_type": "execute_result"
    }
   ],
   "source": [
    "spam.rstrip()"
   ]
  },
  {
   "cell_type": "code",
   "execution_count": 177,
   "id": "63b10e5a-c9cd-4241-9965-c4436c3e02e4",
   "metadata": {},
   "outputs": [],
   "source": [
    "spam= 'SpamSpamBaconSpamEggsSpamSpam'"
   ]
  },
  {
   "cell_type": "code",
   "execution_count": 181,
   "id": "ef3cfa3c-be82-4e72-b16e-47abe64b478b",
   "metadata": {},
   "outputs": [
    {
     "data": {
      "text/plain": [
       "'BaconSpamEggs'"
      ]
     },
     "execution_count": 181,
     "metadata": {},
     "output_type": "execute_result"
    }
   ],
   "source": [
    "spam.strip('ampS')"
   ]
  },
  {
   "cell_type": "markdown",
   "id": "197cb271-c4fd-4433-ba0f-be02574e84d7",
   "metadata": {},
   "source": [
    "# The Count Method"
   ]
  },
  {
   "cell_type": "markdown",
   "id": "0d6de98e-cee8-46a4-a1b5-28b3cdd799ec",
   "metadata": {},
   "source": [
    "Counts the number of occurrences of a given character or substring in the string it is applied to.Can be optionally provided start and end index."
   ]
  },
  {
   "cell_type": "code",
   "execution_count": 208,
   "id": "7491fd37-b111-42a3-b9f1-f8beea180f41",
   "metadata": {},
   "outputs": [],
   "source": [
    "sentence='one sheep two sheep three sheep four'\n"
   ]
  },
  {
   "cell_type": "code",
   "execution_count": 210,
   "id": "72642ab3-d1be-4f04-8e89-314e320fda66",
   "metadata": {},
   "outputs": [
    {
     "data": {
      "text/plain": [
       "3"
      ]
     },
     "execution_count": 210,
     "metadata": {},
     "output_type": "execute_result"
    }
   ],
   "source": [
    "sentence.count('sheep')"
   ]
  },
  {
   "cell_type": "code",
   "execution_count": 212,
   "id": "0a107a16-93e2-4852-be5b-c3f2eb96cb24",
   "metadata": {},
   "outputs": [
    {
     "data": {
      "text/plain": [
       "9"
      ]
     },
     "execution_count": 212,
     "metadata": {},
     "output_type": "execute_result"
    }
   ],
   "source": [
    "sentence.count('e')"
   ]
  },
  {
   "cell_type": "code",
   "execution_count": 214,
   "id": "6a92d2f6-e040-4755-b787-b556c8809bf5",
   "metadata": {},
   "outputs": [
    {
     "data": {
      "text/plain": [
       "8"
      ]
     },
     "execution_count": 214,
     "metadata": {},
     "output_type": "execute_result"
    }
   ],
   "source": [
    "sentence.count('e', 6)"
   ]
  },
  {
   "cell_type": "markdown",
   "id": "9e352dcb-312b-445c-ada6-cfe054b3cbbd",
   "metadata": {},
   "source": [
    "returns count of 'e' after 'one sh' i.e 6 chars since beginning of string"
   ]
  },
  {
   "cell_type": "code",
   "execution_count": 219,
   "id": "ea003a53-5582-4dd0-97f9-aa022a023b7b",
   "metadata": {},
   "outputs": [
    {
     "data": {
      "text/plain": [
       "7"
      ]
     },
     "execution_count": 219,
     "metadata": {},
     "output_type": "execute_result"
    }
   ],
   "source": [
    "sentence.count('e',7)"
   ]
  },
  {
   "cell_type": "markdown",
   "id": "1691f1c5-850b-44bf-ad0a-c4fa39d33f5b",
   "metadata": {},
   "source": [
    "# Replace Method"
   ]
  },
  {
   "cell_type": "markdown",
   "id": "9f4ad47d-41e3-479d-bc4b-d6687700de14",
   "metadata": {},
   "source": [
    "Replaces all occurences of a given substring with another substring.Can be optionally provided a third argument to limit the number of replacements. Returns a new string."
   ]
  },
  {
   "cell_type": "code",
   "execution_count": 223,
   "id": "e26aeadd-ba67-4d3c-8c01-3989b1aa09a7",
   "metadata": {},
   "outputs": [],
   "source": [
    "text=\"Hello world!\""
   ]
  },
  {
   "cell_type": "code",
   "execution_count": 225,
   "id": "7389a24a-2873-4872-b155-430823bd9abe",
   "metadata": {},
   "outputs": [
    {
     "data": {
      "text/plain": [
       "'Hello plant!'"
      ]
     },
     "execution_count": 225,
     "metadata": {},
     "output_type": "execute_result"
    }
   ],
   "source": [
    "text.replace(\"world\",\"plant\")"
   ]
  },
  {
   "cell_type": "code",
   "execution_count": 231,
   "id": "174f7ee3-d874-4f73-88a5-527284266852",
   "metadata": {},
   "outputs": [],
   "source": [
    "fruits='apple,banana,orange'"
   ]
  },
  {
   "cell_type": "code",
   "execution_count": 235,
   "id": "aadfe9f1-a432-4bea-82cf-bf5575964c2d",
   "metadata": {},
   "outputs": [
    {
     "data": {
      "text/plain": [
       "'cherry,banana,orange'"
      ]
     },
     "execution_count": 235,
     "metadata": {},
     "output_type": "execute_result"
    }
   ],
   "source": [
    "fruits.replace('apple','cherry',1)"
   ]
  },
  {
   "cell_type": "code",
   "execution_count": 237,
   "id": "077d5d92-8882-42af-9a69-f9db03038d86",
   "metadata": {},
   "outputs": [],
   "source": [
    "sentence='I like mangoes,mangoes are my favourite fruit'"
   ]
  },
  {
   "cell_type": "code",
   "execution_count": 239,
   "id": "ad53f153-a853-4564-a68e-f13f166446be",
   "metadata": {},
   "outputs": [
    {
     "data": {
      "text/plain": [
       "'I like apples,apples are my favourite fruit'"
      ]
     },
     "execution_count": 239,
     "metadata": {},
     "output_type": "execute_result"
    }
   ],
   "source": [
    "sentence.replace('mangoes','apples')"
   ]
  },
  {
   "cell_type": "code",
   "execution_count": null,
   "id": "32808c1f-2dfe-4873-8dc6-ac1d5ad36b5b",
   "metadata": {},
   "outputs": [],
   "source": []
  }
 ],
 "metadata": {
  "kernelspec": {
   "display_name": "Python 3 (ipykernel)",
   "language": "python",
   "name": "python3"
  },
  "language_info": {
   "codemirror_mode": {
    "name": "ipython",
    "version": 3
   },
   "file_extension": ".py",
   "mimetype": "text/x-python",
   "name": "python",
   "nbconvert_exporter": "python",
   "pygments_lexer": "ipython3",
   "version": "3.12.4"
  }
 },
 "nbformat": 4,
 "nbformat_minor": 5
}
