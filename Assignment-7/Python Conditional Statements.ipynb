{
 "cells": [
  {
   "cell_type": "raw",
   "id": "ae738473-0ebe-4317-bd8b-d6d026833e1d",
   "metadata": {},
   "source": [
    "- if\n",
    "- if else\n",
    "- if elif else\n",
    "- nested if"
   ]
  },
  {
   "cell_type": "code",
   "execution_count": 7,
   "id": "dd877623-f3cc-4da9-b528-385f409faffd",
   "metadata": {},
   "outputs": [
    {
     "name": "stdout",
     "output_type": "stream",
     "text": [
      "Data Science\n"
     ]
    }
   ],
   "source": [
    "if True: # Indentation is always 4 Spaces\n",
    "    print('Data Science')"
   ]
  },
  {
   "cell_type": "code",
   "execution_count": 9,
   "id": "19cb7496-bab8-4b3c-b737-576d07896763",
   "metadata": {},
   "outputs": [
    {
     "name": "stdout",
     "output_type": "stream",
     "text": [
      "Machine Learning\n"
     ]
    }
   ],
   "source": [
    "if False:\n",
    "    print('Data Science')\n",
    "print('Machine Learning')"
   ]
  },
  {
   "cell_type": "code",
   "execution_count": 11,
   "id": "0cc678cd-458e-4edb-9de2-ea98605fc5af",
   "metadata": {},
   "outputs": [
    {
     "name": "stdout",
     "output_type": "stream",
     "text": [
      "Data Science\n",
      "Machine Learning\n"
     ]
    }
   ],
   "source": [
    "if True:\n",
    "    print('Data Science')\n",
    "print('Machine Learning')"
   ]
  },
  {
   "cell_type": "code",
   "execution_count": 13,
   "id": "bc7a6d5a-dc41-4128-9f04-3b1ad38764e5",
   "metadata": {},
   "outputs": [
    {
     "name": "stdout",
     "output_type": "stream",
     "text": [
      "Even Number\n"
     ]
    }
   ],
   "source": [
    "# Code-1: Write a program to find the number is even or odd ?\n",
    "\n",
    "x=4\n",
    "r=x%2\n",
    "                     # if condition\n",
    "if r==0:\n",
    "    print('Even Number')"
   ]
  },
  {
   "cell_type": "code",
   "execution_count": 15,
   "id": "e9c41e3f-0b2f-4482-add9-e5f82de2fd0a",
   "metadata": {},
   "outputs": [
    {
     "name": "stdout",
     "output_type": "stream",
     "text": [
      "Odd Number\n"
     ]
    }
   ],
   "source": [
    "x=5\n",
    "r=x%2\n",
    "\n",
    "if r==0:\n",
    "    print('Even Number')\n",
    "print('Odd Number')"
   ]
  },
  {
   "cell_type": "code",
   "execution_count": 17,
   "id": "42311267-56ca-4d35-8da1-b5b1ef5dd487",
   "metadata": {},
   "outputs": [
    {
     "name": "stdout",
     "output_type": "stream",
     "text": [
      "Even Number\n",
      "Odd Number\n"
     ]
    }
   ],
   "source": [
    "x=8\n",
    "r=x%2\n",
    "\n",
    "if r==0:\n",
    "    print('Even Number')\n",
    "print('Odd Number')\n",
    "    "
   ]
  },
  {
   "cell_type": "code",
   "execution_count": 1,
   "id": "10b9e0bb-ef2f-4bcb-b2e3-b7cb46c6cc50",
   "metadata": {},
   "outputs": [
    {
     "name": "stdout",
     "output_type": "stream",
     "text": [
      "Even Number\n"
     ]
    }
   ],
   "source": [
    "x=12\n",
    "r=x%2\n",
    "\n",
    "if r==0:\n",
    "    print('Even Number')\n",
    "if r==1:\n",
    "    print('Odd Number')"
   ]
  },
  {
   "cell_type": "code",
   "execution_count": 3,
   "id": "cfb2c45f-10f3-4733-8691-9220bfe98568",
   "metadata": {},
   "outputs": [
    {
     "name": "stdout",
     "output_type": "stream",
     "text": [
      "Odd Number\n"
     ]
    }
   ],
   "source": [
    "x=19\n",
    "r=x%2\n",
    "\n",
    "if r==0:\n",
    "    print('Even Number')\n",
    "if r!=0:\n",
    "    print('Odd Number')"
   ]
  },
  {
   "cell_type": "code",
   "execution_count": 9,
   "id": "0b822f14-c32f-4c49-9ec2-4a8ab277c027",
   "metadata": {},
   "outputs": [
    {
     "name": "stdout",
     "output_type": "stream",
     "text": [
      "Odd Number\n"
     ]
    }
   ],
   "source": [
    "x=3\n",
    "r=x%2\n",
    "\n",
    "if r==0:\n",
    "    print('Even Number')\n",
    "    if x>5:\n",
    "        print('Greater Number')\n",
    "else:\n",
    "    print('Odd Number')\n",
    "    "
   ]
  },
  {
   "cell_type": "code",
   "execution_count": 11,
   "id": "6282b4a9-1f01-4bda-a80f-ad9aabafebd3",
   "metadata": {},
   "outputs": [
    {
     "name": "stdout",
     "output_type": "stream",
     "text": [
      "Even Number\n"
     ]
    }
   ],
   "source": [
    "x=4\n",
    "r=x%2                        # if else condition\n",
    "\n",
    "if r==0:\n",
    "    print('Even Number')\n",
    "    if x>5:\n",
    "        print('greater number')\n",
    "else:\n",
    "    print('Odd Number')\n"
   ]
  },
  {
   "cell_type": "code",
   "execution_count": 15,
   "id": "18466651-df22-41f0-be79-075acd934561",
   "metadata": {},
   "outputs": [
    {
     "name": "stdout",
     "output_type": "stream",
     "text": [
      "Even Number\n",
      "greater number\n"
     ]
    }
   ],
   "source": [
    "x=8\n",
    "r=x%2\n",
    "\n",
    "if r==0:\n",
    "    print('Even Number')\n",
    "    if x>5:                                      # nested if condition\n",
    "        print('greater number')                    \n",
    "    else:\n",
    "        print('smaller number')\n",
    "else:\n",
    "    print('Odd number')"
   ]
  },
  {
   "cell_type": "code",
   "execution_count": 21,
   "id": "16ca050a-4602-4fc6-92a3-c98273c58404",
   "metadata": {},
   "outputs": [
    {
     "name": "stdout",
     "output_type": "stream",
     "text": [
      "number not found\n"
     ]
    }
   ],
   "source": [
    "x=9\n",
    "                              # if elif else condition\n",
    "if r==1:\n",
    "    print('one')\n",
    "elif r==2:\n",
    "    print('three')\n",
    "elif r==3:\n",
    "    print('four')\n",
    "\n",
    "else:\n",
    "    print('number not found')\n",
    "    \n",
    "    "
   ]
  },
  {
   "cell_type": "code",
   "execution_count": null,
   "id": "8ee05025-d50e-4b7a-972e-36df056bcee1",
   "metadata": {},
   "outputs": [],
   "source": []
  }
 ],
 "metadata": {
  "kernelspec": {
   "display_name": "Python 3 (ipykernel)",
   "language": "python",
   "name": "python3"
  },
  "language_info": {
   "codemirror_mode": {
    "name": "ipython",
    "version": 3
   },
   "file_extension": ".py",
   "mimetype": "text/x-python",
   "name": "python",
   "nbconvert_exporter": "python",
   "pygments_lexer": "ipython3",
   "version": "3.12.4"
  }
 },
 "nbformat": 4,
 "nbformat_minor": 5
}
