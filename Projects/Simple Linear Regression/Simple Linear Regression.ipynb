import numpy as np
import pandas as pd
import matplotlib.pyplot as plt


# step-1: Import Employee Salary Data using Pandas
dataset=pd.read_csv(r'C:\Users\LAHARI\Downloads\Salary_Data.csv')

# step-2: Identifing the independent and dependent variables from a dataset
# Independent Variable
X=dataset.iloc[:,:-1]
# Dependent Variable
Y=dataset.iloc[:,-1]

# Step-3: Check the missing values in dataset
print("Missing value in Employee dataset: ", dataset.isnull().sum())


# Step-4: Split the dataset into X_train,X_test,Y_train,Y_test
from sklearn.model_selection import train_test_split
X_train,X_test,Y_train,Y_test=train_test_split(X,Y,train_size=0.80,random_state=0)

# Step-5: Apply Simple Linear Regression model
from sklearn.linear_model import LinearRegression
regressor=LinearRegression()
regressor.fit(X_train,Y_train)
      

# Predict salaries for test data
Y_predict=regressor.predict(X_test)


# Create dataframe for comparison
df=pd.DataFrame({'Actual':Y_test,'predict': Y_predict})
print(df)


# Make Plotting
plt.scatter(X_test,Y_test,color='red')
plt.plot(X_train,regressor.predict(X_train),color='blue')
plt.xlabel('Years of Experience')
plt.ylabel('Salary')
plt.title('Simple Linear Regression: Salary vs Experience')
plt.show()


# Predict salary for candidate with 12 years of experience
m_slope=regressor.coef_
c_intercept=regressor.intercept_
# y=mx+c
y_12=(m_slope*12)+c_intercept
print("predicted salary for 12 years of experience:",y_12[0])