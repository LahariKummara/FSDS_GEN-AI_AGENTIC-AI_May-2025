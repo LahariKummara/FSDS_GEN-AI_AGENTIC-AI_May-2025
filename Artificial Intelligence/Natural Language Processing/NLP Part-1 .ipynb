{
 "cells": [
  {
   "cell_type": "markdown",
   "id": "f805dcfc-f992-4841-b39d-01ccea52f82e",
   "metadata": {},
   "source": [
    "# **Introduction to NLP (Natural Language Processing)**\n",
    "\n",
    "**What is NLP?**\n",
    "                       \n",
    "Natural Language Processing (**NLP**) is a branch of **Artificial Intelligence** that helps computers understand, interpret, and respond to human language.  \n",
    "It acts like a bridge between **human communication** and **computer understanding**.\n",
    "\n",
    "**How it works:**\n",
    "    \n",
    "NLP tries to mimic how the **human brain processes language** by:\n",
    "\n",
    "1. Breaking down language into smaller parts (words, sentences, paragraphs).\n",
    "2. Understanding meaning using grammar, syntax, and semantics.\n",
    "3. Using context to respond or take action.\n",
    "\n",
    "**Common NLP Applications**\n",
    "- Voice assistants (Alexa, Siri, Google Assistant)\n",
    "- Spell checkers (Google Docs, MS Word)\n",
    "- Chatbots (customer service, bookings)\n",
    "- Translation (Google Translate, DeepL)\n",
    "- Information extraction (search engines)\n",
    "- Keyword search (Google, Amazon search)\n",
    "- Making appointments, buying items, etc.\n",
    "\n",
    "**Two Main Parts of NLP**\n",
    "    \n",
    "1. **NLU** – Natural Language Understanding  \n",
    "   - The computer reads text/speech and understands its meaning.  \n",
    "   - Examples: Tokenization, POS tagging, Named Entity Recognition.\n",
    "\n",
    "2. **NLG** – Natural Language Generation  \n",
    "   - The computer generates natural-sounding text or speech.  \n",
    "   - Examples: Chatbot replies, text summarization, machine translation.\n",
    "\n",
    "**Libraries we will use:**\n",
    "    \n",
    "- **NLTK** (Natural Language Toolkit) → main library for basic NLP tasks in Python.\n",
    "- **spaCy** → fast, industrial NLP processing.\n",
    "- **Gensim** → topic modeling, word embeddings.\n",
    "- **Stanford NLP (Stanza)** → advanced linguistic analysis.\n",
    "\n"
   ]
  },
  {
   "cell_type": "markdown",
   "id": "1f82043a-cdf8-4992-a334-80856d78abfa",
   "metadata": {},
   "source": [
    "**Hierarchy of Text in NLP**\n",
    "\n",
    "1. **Token (word)** → smallest unit of text.  \n",
    "2. **Sentence** → collection of tokens that form a complete thought.  \n",
    "3. **Paragraph** → collection of sentences about the same topic.  \n",
    "4. **Document** → collection of paragraphs (article, book chapter, etc.).  \n",
    "5. **Corpus** → large collection of documents used for analysis or training.\n"
   ]
  },
  {
   "cell_type": "markdown",
   "id": "bcf83c70-3df2-4585-bbf9-578e44bda97c",
   "metadata": {},
   "source": [
    "# Let's See NLP in Action\n",
    "\n",
    "Before diving deep into theory, let's see a **practical demo** of how NLP starts working.\n",
    "\n",
    "We’ll:\n",
    "\n",
    "1. Import the **NLTK** library (main tool for basic NLP in Python).\n",
    "2. Download the built-in language processing resources.\n",
    "3. Load a sample **text document** about AI.\n",
    "4. Use NLTK to break it down into smaller parts (tokens).\n",
    "\n",
    "This will help us understand what’s really happening inside an NLP pipeline before going into detailed concepts.\n"
   ]
  },
  {
   "cell_type": "markdown",
   "id": "85f02752-da12-4fd0-b83c-115ae2d884fe",
   "metadata": {},
   "source": [
    "## **Import NLTK Library**\n",
    "\n",
    "- We import nltk for NLP tasks.\n",
    "- nltk.download() opens a GUI to install required resources like tokenizers.\n",
    "- The AI variable stores our example text."
   ]
  },
  {
   "cell_type": "code",
   "execution_count": 1,
   "id": "2680237b-2365-4cb0-bde3-549054cb8805",
   "metadata": {},
   "outputs": [],
   "source": [
    "# Step 1: Import NLTK and download resource\n",
    "import os\n",
    "import nltk"
   ]
  },
  {
   "cell_type": "code",
   "execution_count": null,
   "id": "85776ed0-85fc-4e3f-9e61-bb99621a5c8b",
   "metadata": {},
   "outputs": [],
   "source": [
    "# Opens the NLTK downloader window (you can download punkt,stopwords,etc.)\n",
    "#nltk.download()"
   ]
  },
  {
   "cell_type": "code",
   "execution_count": 2,
   "id": "72fad76d-a654-4eb1-8452-dc9154c9aa52",
   "metadata": {},
   "outputs": [],
   "source": [
    "# Example AI text (Document)\n",
    "AI = '''Artificial Intelligence refers to the intelligence of machines. This is in contrast to the natural intelligence of\n",
    "humans and animals. With Artificial Intelligence, machines perform functions such as learning, planning, reasoning and\n",
    "problem-solving. Most noteworthy, Artificial Intelligence is the simulation of human intelligence by machines.\n",
    "It is probably the fastest-growing development in the World of technology and innovation. Furthermore, many experts believe\n",
    "AI could solve major challenges and crisis situations.'''"
   ]
  },
  {
   "cell_type": "markdown",
   "id": "f8b95b7b-4995-445f-aab5-ef9049fedff8",
   "metadata": {},
   "source": [
    "**Tokenization – The First Step in NLP**\n",
    "\n",
    "Before a machine can understand text, it must **break it into parts**:\n",
    "\n",
    "- **Word Tokenization** → Splitting text into words (tokens).\n",
    "- **Sentence Tokenization** → Splitting text into sentences.\n",
    "\n",
    "These tokens are the building blocks for every other NLP task.\n"
   ]
  },
  {
   "cell_type": "markdown",
   "id": "452aabbf-f429-4253-83b0-abc6250cda8f",
   "metadata": {},
   "source": [
    "# **Tokenization**\n",
    "## **Word Tokenization**\n",
    "\n",
    "**Definition:** word_tokenize() splits text into words and punctuation.\n",
    "  - Each piece is called a token.\n",
    "  - Tokens include words like \"Artificial\", \"Intelligence\" and punctuation like \".\".\n",
    "\n",
    "**When to use:** Any NLP pipeline as the first step."
   ]
  },
  {
   "cell_type": "code",
   "execution_count": 3,
   "id": "320998ce-7833-4587-b5da-df7e1eee609e",
   "metadata": {},
   "outputs": [
    {
     "name": "stdout",
     "output_type": "stream",
     "text": [
      "Tokens: ['Artificial', 'Intelligence', 'refers', 'to', 'the', 'intelligence', 'of', 'machines', '.', 'This', 'is', 'in', 'contrast', 'to', 'the', 'natural', 'intelligence', 'of', 'humans', 'and', 'animals', '.', 'With', 'Artificial', 'Intelligence', ',', 'machines', 'perform', 'functions', 'such', 'as', 'learning', ',', 'planning', ',', 'reasoning', 'and', 'problem-solving', '.', 'Most', 'noteworthy', ',', 'Artificial', 'Intelligence', 'is', 'the', 'simulation', 'of', 'human', 'intelligence', 'by', 'machines', '.', 'It', 'is', 'probably', 'the', 'fastest-growing', 'development', 'in', 'the', 'World', 'of', 'technology', 'and', 'innovation', '.', 'Furthermore', ',', 'many', 'experts', 'believe', 'AI', 'could', 'solve', 'major', 'challenges', 'and', 'crisis', 'situations', '.']\n",
      "Number of tokens: 81\n"
     ]
    }
   ],
   "source": [
    "# Step 2: Word Tokenization\n",
    "from nltk.tokenize import word_tokenize\n",
    "\n",
    "AI_tokens = word_tokenize(AI)\n",
    "print(\"Tokens:\", AI_tokens)\n",
    "print(\"Number of tokens:\", len(AI_tokens))"
   ]
  },
  {
   "cell_type": "markdown",
   "id": "9efe3738-2bd2-4d02-a822-83bba41a4ce4",
   "metadata": {},
   "source": [
    "## **Sentence Tokenization**\n",
    "\n",
    "**Definition:** sent_tokenize() splits text into sentences.\n",
    "  - It uses punctuation and grammar rules to decide sentence boundaries.\n",
    "  - Now the machine can identify complete sentences.\n",
    "\n",
    "**When to use:** Summarization,dialogue systems"
   ]
  },
  {
   "cell_type": "code",
   "execution_count": 8,
   "id": "3c6e5ba4-7889-473a-b20e-0819aeb2e2f3",
   "metadata": {},
   "outputs": [
    {
     "name": "stdout",
     "output_type": "stream",
     "text": [
      "Sentence: ['Artificial Intelligence refers to the intelligence of machines.', 'This is in contrast to the natural intelligence of\\nhumans and animals.', 'With Artificial Intelligence, machines perform functions such as learning, planning, reasoning and\\nproblem-solving.', 'Most noteworthy, Artificial Intelligence is the simulation of human intelligence by machines.', 'It is probably the fastest-growing development in the World of technology and innovation.', 'Furthermore, many experts believe\\nAI could solve major challenges and crisis situations.']\n",
      "Number of sentences: 6\n"
     ]
    }
   ],
   "source": [
    "# step 3: Sentence Tokenization\n",
    "from nltk.tokenize import sent_tokenize\n",
    "\n",
    "AI_sent = sent_tokenize(AI)\n",
    "print('Sentence:', AI_sent)\n",
    "print('Number of sentences:', len(AI_sent))"
   ]
  },
  {
   "cell_type": "markdown",
   "id": "5d7e44b6-334a-4999-9e16-b3473ccf9458",
   "metadata": {},
   "source": [
    "## **Paragraph Tokenization**\n",
    "\n",
    "**Definition:** blankline_tokenize() splits text into paragraphs based on blank lines.\n",
    "  - This is helpful when working with larger documents.\n",
    "\n",
    "**When to use:** Document-level Analysis."
   ]
  },
  {
   "cell_type": "code",
   "execution_count": 11,
   "id": "7dab852f-3901-4a08-8a9e-34e2b2deaf5d",
   "metadata": {},
   "outputs": [
    {
     "name": "stdout",
     "output_type": "stream",
     "text": [
      "Paragraphs: ['Artificial Intelligence refers to the intelligence of machines. This is in contrast to the natural intelligence of\\nhumans and animals. With Artificial Intelligence, machines perform functions such as learning, planning, reasoning and\\nproblem-solving. Most noteworthy, Artificial Intelligence is the simulation of human intelligence by machines.\\nIt is probably the fastest-growing development in the World of technology and innovation. Furthermore, many experts believe\\nAI could solve major challenges and crisis situations.']\n",
      "Number of paragraphs: 1\n"
     ]
    }
   ],
   "source": [
    "# step 4: Paragraph Tokenization\n",
    "from nltk.tokenize import blankline_tokenize\n",
    "\n",
    "AI_blank = blankline_tokenize(AI)\n",
    "print('Paragraphs:', AI_blank)\n",
    "print('Number of paragraphs:', len(AI_blank))"
   ]
  },
  {
   "cell_type": "markdown",
   "id": "0a13fb7c-3203-4a7b-8f85-98ba4ca697ef",
   "metadata": {},
   "source": [
    "## **Whitespace Tokenization**\n",
    "\n",
    "**Definition:** Splits text based on whitespace (spaces,tabs,newlines)Without removing punctuation.\n",
    "\n",
    "  - Useful when punctuation should be preserved as part of the tokens.\n",
    "  - Faster but less precise than other tokenizers.\n",
    "\n",
    "**When to use:** Emails, URL's Structured text."
   ]
  },
  {
   "cell_type": "code",
   "execution_count": 40,
   "id": "dd1a4a89-757b-4048-9e68-83597efa27eb",
   "metadata": {},
   "outputs": [
    {
     "name": "stdout",
     "output_type": "stream",
     "text": [
      "['Artificial', 'Intelligence', 'refers', 'to', 'the', 'intelligence', 'of', 'machines.', 'This', 'is', 'in', 'contrast', 'to', 'the', 'natural', 'intelligence', 'of', 'humans', 'and', 'animals.', 'With', 'Artificial', 'Intelligence,', 'machines', 'perform', 'functions', 'such', 'as', 'learning,', 'planning,', 'reasoning', 'and', 'problem-solving.', 'Most', 'noteworthy,', 'Artificial', 'Intelligence', 'is', 'the', 'simulation', 'of', 'human', 'intelligence', 'by', 'machines.', 'It', 'is', 'probably', 'the', 'fastest-growing', 'development', 'in', 'the', 'World', 'of', 'technology', 'and', 'innovation.', 'Furthermore,', 'many', 'experts', 'believe', 'AI', 'could', 'solve', 'major', 'challenges', 'and', 'crisis', 'situations.']\n",
      "70\n"
     ]
    }
   ],
   "source": [
    "from nltk.tokenize import WhitespaceTokenizer\n",
    "\n",
    "tokenizer = WhitespaceTokenizer()\n",
    "AI_White = tokenizer.tokenize(AI)\n",
    "print(AI_White)\n",
    "print(len(AI_White)) # count of tokens"
   ]
  },
  {
   "cell_type": "markdown",
   "id": "a5f4d5c4-4cb1-4be8-979e-310d9b2e2ff1",
   "metadata": {},
   "source": [
    "## **WordPunct Tokenization**\n",
    "\n",
    "**Definition:** Splits words and punctuation into separate tokens\n",
    "\n",
    "  - Numbers,punctuation marks,and words are treated individually.\n",
    "\n",
    "**When to use:** Emotions,Hashtags,Code Parsing."
   ]
  },
  {
   "cell_type": "code",
   "execution_count": 43,
   "id": "919aeff9-ed17-4a2a-a7a8-039ae43ba388",
   "metadata": {},
   "outputs": [
    {
     "data": {
      "text/plain": [
       "'Good apple cost $3.88 in Hyderabad. Please buy two of them.Thanks.'"
      ]
     },
     "execution_count": 43,
     "metadata": {},
     "output_type": "execute_result"
    }
   ],
   "source": [
    "from nltk.tokenize import wordpunct_tokenize\n",
    "\n",
    "s = 'Good apple cost $3.88 in Hyderabad. Please buy two of them.Thanks.'\n",
    "s"
   ]
  },
  {
   "cell_type": "code",
   "execution_count": 45,
   "id": "d92f6c6f-2d0e-4e2d-9796-cebfd423aa69",
   "metadata": {},
   "outputs": [
    {
     "name": "stdout",
     "output_type": "stream",
     "text": [
      "['Good', 'apple', 'cost', '$', '3', '.', '88', 'in', 'Hyderabad', '.', 'Please', 'buy', 'two', 'of', 'them', '.', 'Thanks', '.']\n"
     ]
    }
   ],
   "source": [
    "print(wordpunct_tokenize(s))"
   ]
  },
  {
   "cell_type": "code",
   "execution_count": 47,
   "id": "ef024616-6925-4500-bb6e-d27584de4abf",
   "metadata": {},
   "outputs": [
    {
     "name": "stdout",
     "output_type": "stream",
     "text": [
      "['Artificial', 'Intelligence', 'refers', 'to', 'the', 'intelligence', 'of', 'machines', '.', 'This', 'is', 'in', 'contrast', 'to', 'the', 'natural', 'intelligence', 'of', 'humans', 'and', 'animals', '.', 'With', 'Artificial', 'Intelligence', ',', 'machines', 'perform', 'functions', 'such', 'as', 'learning', ',', 'planning', ',', 'reasoning', 'and', 'problem', '-', 'solving', '.', 'Most', 'noteworthy', ',', 'Artificial', 'Intelligence', 'is', 'the', 'simulation', 'of', 'human', 'intelligence', 'by', 'machines', '.', 'It', 'is', 'probably', 'the', 'fastest', '-', 'growing', 'development', 'in', 'the', 'World', 'of', 'technology', 'and', 'innovation', '.', 'Furthermore', ',', 'many', 'experts', 'believe', 'AI', 'could', 'solve', 'major', 'challenges', 'and', 'crisis', 'situations', '.']\n",
      "85\n"
     ]
    }
   ],
   "source": [
    "w_p = wordpunct_tokenize(AI)\n",
    "print(w_p)\n",
    "print(len(w_p))"
   ]
  },
  {
   "cell_type": "markdown",
   "id": "05aab0d0-360e-4413-a5e5-2e33614dab66",
   "metadata": {},
   "source": [
    "## **N-grams**\n",
    "\n",
    "**Definition:** Sequences of n consecutive tokens\n",
    "  - Bi-gram: 2-word sequence.\n",
    "  - Tri-gram: 3-word sequence.\n",
    "  - N-gram: Any n-word sequence(n>3).\n",
    "\n",
    "**When to use:** Text Prediction, Context Analysis."
   ]
  },
  {
   "cell_type": "code",
   "execution_count": 50,
   "id": "7224a7a3-fc65-4711-8f6c-2896f9d7e21a",
   "metadata": {},
   "outputs": [
    {
     "data": {
      "text/plain": [
       "'We are learner of AI from 4th May 2025 till now'"
      ]
     },
     "execution_count": 50,
     "metadata": {},
     "output_type": "execute_result"
    }
   ],
   "source": [
    "from nltk.util import bigrams,trigrams,ngrams\n",
    "\n",
    "string = 'We are learner of AI from 4th May 2025 till now'\n",
    "string"
   ]
  },
  {
   "cell_type": "code",
   "execution_count": 52,
   "id": "41557c70-6664-4ca8-ba8b-4ea708a87d2d",
   "metadata": {},
   "outputs": [
    {
     "name": "stdout",
     "output_type": "stream",
     "text": [
      "['We', 'are', 'learner', 'of', 'AI', 'from', '4th', 'May', '2025', 'till', 'now']\n",
      "11\n"
     ]
    }
   ],
   "source": [
    "quotes_tokens = nltk.word_tokenize(string)\n",
    "\n",
    "print(quotes_tokens)\n",
    "print(len(quotes_tokens))"
   ]
  },
  {
   "cell_type": "markdown",
   "id": "b3265d5c-e286-4ed4-9dc9-a5942c69afb6",
   "metadata": {},
   "source": [
    "### Bi-grams"
   ]
  },
  {
   "cell_type": "code",
   "execution_count": 55,
   "id": "86cf9c88-11d3-422d-b42e-6c8718abb2c6",
   "metadata": {},
   "outputs": [
    {
     "name": "stdout",
     "output_type": "stream",
     "text": [
      "[('We', 'are'), ('are', 'learner'), ('learner', 'of'), ('of', 'AI'), ('AI', 'from'), ('from', '4th'), ('4th', 'May'), ('May', '2025'), ('2025', 'till'), ('till', 'now')]\n"
     ]
    }
   ],
   "source": [
    "quotes_tokens_bi = list(nltk.bigrams(quotes_tokens))\n",
    "print(quotes_tokens_bi)"
   ]
  },
  {
   "cell_type": "markdown",
   "id": "ee19d170-e83d-49e3-a950-6f2ef095dabd",
   "metadata": {},
   "source": [
    "### Tri-grams"
   ]
  },
  {
   "cell_type": "code",
   "execution_count": 58,
   "id": "01e6af65-04fa-4e9c-8b76-6844d1603650",
   "metadata": {},
   "outputs": [
    {
     "name": "stdout",
     "output_type": "stream",
     "text": [
      "[('We', 'are', 'learner'), ('are', 'learner', 'of'), ('learner', 'of', 'AI'), ('of', 'AI', 'from'), ('AI', 'from', '4th'), ('from', '4th', 'May'), ('4th', 'May', '2025'), ('May', '2025', 'till'), ('2025', 'till', 'now')]\n"
     ]
    }
   ],
   "source": [
    "quotes_tokens_tri = list(nltk.trigrams(quotes_tokens))\n",
    "print(quotes_tokens_tri)"
   ]
  },
  {
   "cell_type": "markdown",
   "id": "4a4338fa-56b8-4d58-9f55-82555d160350",
   "metadata": {},
   "source": [
    "### N-grams (n=8)"
   ]
  },
  {
   "cell_type": "code",
   "execution_count": 61,
   "id": "ca9a9f02-5efa-4cb6-ad0b-4624e01895c5",
   "metadata": {},
   "outputs": [
    {
     "name": "stdout",
     "output_type": "stream",
     "text": [
      "[('We', 'are', 'learner', 'of', 'AI', 'from', '4th', 'May'), ('are', 'learner', 'of', 'AI', 'from', '4th', 'May', '2025'), ('learner', 'of', 'AI', 'from', '4th', 'May', '2025', 'till'), ('of', 'AI', 'from', '4th', 'May', '2025', 'till', 'now')]\n"
     ]
    }
   ],
   "source": [
    "quotes_tokens_n = list(nltk.ngrams(quotes_tokens, 8))\n",
    "print(quotes_tokens_n)"
   ]
  },
  {
   "cell_type": "markdown",
   "id": "37a6c3eb-0820-4c67-9f92-7db0a12ffe80",
   "metadata": {},
   "source": [
    "## **Stemming**\n",
    "\n",
    "**Definition:** Reduces words to their root form,often by chopping off suffixes.\n",
    "Types:\n",
    "  - **Porter Stemmer** - Basic and widely used, but may not handle all words well.\n",
    "  - **Lancaster Stemmer** - More aggressive, sometimes over-stems words.\n",
    "  - **Snowball Stemmer** - Advanced, supports multiple languages.\n",
    "\n",
    "**When to use:** Fast processing, search engines."
   ]
  },
  {
   "cell_type": "code",
   "execution_count": 64,
   "id": "003604ef-a2c9-4f4c-84e6-dc94336518f9",
   "metadata": {},
   "outputs": [
    {
     "data": {
      "text/plain": [
       "['given', 'give', 'giving', 'gave', 'thinking', 'loving', 'maximum', 'gaved']"
      ]
     },
     "execution_count": 64,
     "metadata": {},
     "output_type": "execute_result"
    }
   ],
   "source": [
    "from nltk.stem import PorterStemmer,LancasterStemmer, SnowballStemmer\n",
    "\n",
    "words_to_stem = ['given','give','giving','gave','thinking','loving','maximum','gaved']\n",
    "words_to_stem"
   ]
  },
  {
   "cell_type": "markdown",
   "id": "3486055c-2765-45ec-929e-b7e52be1fd99",
   "metadata": {},
   "source": [
    "### Porter Stemmer"
   ]
  },
  {
   "cell_type": "code",
   "execution_count": 70,
   "id": "6dc5a66f-e7a2-4005-8510-52c8d0790871",
   "metadata": {},
   "outputs": [
    {
     "name": "stdout",
     "output_type": "stream",
     "text": [
      "given : given\n",
      "give : give\n",
      "giving : give\n",
      "gave : gave\n",
      "thinking : think\n",
      "loving : love\n",
      "maximum : maximum\n",
      "gaved : gave\n"
     ]
    }
   ],
   "source": [
    "pst = PorterStemmer()\n",
    "for word in words_to_stem:\n",
    "    print(word + ' : ' + pst.stem(word))"
   ]
  },
  {
   "cell_type": "markdown",
   "id": "5ebba322-dc7c-4211-a1fc-297f0ee84472",
   "metadata": {},
   "source": [
    "### Lancaster Stemmer"
   ]
  },
  {
   "cell_type": "code",
   "execution_count": 73,
   "id": "1513509c-f740-41dd-99c5-4882dae8e8f9",
   "metadata": {},
   "outputs": [
    {
     "name": "stdout",
     "output_type": "stream",
     "text": [
      "given : giv\n",
      "give : giv\n",
      "giving : giv\n",
      "gave : gav\n",
      "thinking : think\n",
      "loving : lov\n",
      "maximum : maxim\n",
      "gaved : gav\n"
     ]
    }
   ],
   "source": [
    "lst = LancasterStemmer()\n",
    "for word in words_to_stem:\n",
    "    print(word + ' : ' + lst.stem(word))"
   ]
  },
  {
   "cell_type": "markdown",
   "id": "1a46ae24-2271-4f0f-81a6-7c4c58761c5e",
   "metadata": {},
   "source": [
    "### Snowball Stemmer(English)"
   ]
  },
  {
   "cell_type": "code",
   "execution_count": 76,
   "id": "c6fa6d28-5c27-498c-b2ac-f58f1515ee4e",
   "metadata": {},
   "outputs": [
    {
     "name": "stdout",
     "output_type": "stream",
     "text": [
      "given : given\n",
      "give : give\n",
      "giving : give\n",
      "gave : gave\n",
      "thinking : think\n",
      "loving : love\n",
      "maximum : maximum\n",
      "gaved : gave\n"
     ]
    }
   ],
   "source": [
    "sbst = SnowballStemmer('english')\n",
    "for word in words_to_stem:\n",
    "    print(word + ' : ' + sbst.stem(word))"
   ]
  },
  {
   "cell_type": "code",
   "execution_count": 78,
   "id": "76e1ccfc-a534-485a-9fa3-d410b3a4a07f",
   "metadata": {},
   "outputs": [
    {
     "name": "stdout",
     "output_type": "stream",
     "text": [
      "samstag\n"
     ]
    }
   ],
   "source": [
    "# Snowball Stemmer(German)\n",
    "stemmer = SnowballStemmer('german')\n",
    "print(stemmer.stem('samstag'))"
   ]
  },
  {
   "cell_type": "markdown",
   "id": "ac8ecd27-639f-44f7-a9c0-a4f5c866b37d",
   "metadata": {},
   "source": [
    "## **Lemmatization**\n",
    "\n",
    "  - **Definition:** Reduces words to their dictionary(lemma) form,considering meaning and grammar.\n",
    "\n",
    "  - More accurate than stemming because it uses vocabulary and morphological analysis.\n",
    "  - **When to use:** Accurate text analysis(sentiment, topic modeling)\n"
   ]
  },
  {
   "cell_type": "code",
   "execution_count": 81,
   "id": "955c47b3-b8c8-408e-8279-e10e4cafeaeb",
   "metadata": {},
   "outputs": [
    {
     "name": "stdout",
     "output_type": "stream",
     "text": [
      "given : given\n",
      "give : give\n",
      "giving : giving\n",
      "gave : gave\n",
      "thinking : thinking\n",
      "loving : loving\n",
      "maximum : maximum\n",
      "gaved : gaved\n"
     ]
    }
   ],
   "source": [
    "from nltk.stem import WordNetLemmatizer\n",
    "\n",
    "word_lem = WordNetLemmatizer()\n",
    "for word in words_to_stem:\n",
    "    print(word + ' : ' + word_lem.lemmatize(word))"
   ]
  },
  {
   "cell_type": "markdown",
   "id": "df189926-818c-4be8-8ca8-aea81c08cabe",
   "metadata": {},
   "source": [
    "## **Stopwords**\n",
    "\n",
    "  - **Definition:** Commonly used words (e.g., 'the','is','in') that are often removed in NLP tasks.\n",
    "\n",
    "  - Removing stopwords helps focus on meaningful content.\n",
    "  - **When to use:** Text Classification, Clustering(if stopwords are not importatnt).\n",
    "    "
   ]
  },
  {
   "cell_type": "code",
   "execution_count": 99,
   "id": "46336756-c9ba-44ff-b913-0b62efbdd5e2",
   "metadata": {},
   "outputs": [
    {
     "data": {
      "text/plain": [
       "['a',\n",
       " 'about',\n",
       " 'above',\n",
       " 'after',\n",
       " 'again',\n",
       " 'against',\n",
       " 'ain',\n",
       " 'all',\n",
       " 'am',\n",
       " 'an',\n",
       " 'and',\n",
       " 'any',\n",
       " 'are',\n",
       " 'aren',\n",
       " \"aren't\",\n",
       " 'as',\n",
       " 'at',\n",
       " 'be',\n",
       " 'because',\n",
       " 'been',\n",
       " 'before',\n",
       " 'being',\n",
       " 'below',\n",
       " 'between',\n",
       " 'both',\n",
       " 'but',\n",
       " 'by',\n",
       " 'can',\n",
       " 'couldn',\n",
       " \"couldn't\",\n",
       " 'd',\n",
       " 'did',\n",
       " 'didn',\n",
       " \"didn't\",\n",
       " 'do',\n",
       " 'does',\n",
       " 'doesn',\n",
       " \"doesn't\",\n",
       " 'doing',\n",
       " 'don',\n",
       " \"don't\",\n",
       " 'down',\n",
       " 'during',\n",
       " 'each',\n",
       " 'few',\n",
       " 'for',\n",
       " 'from',\n",
       " 'further',\n",
       " 'had',\n",
       " 'hadn',\n",
       " \"hadn't\",\n",
       " 'has',\n",
       " 'hasn',\n",
       " \"hasn't\",\n",
       " 'have',\n",
       " 'haven',\n",
       " \"haven't\",\n",
       " 'having',\n",
       " 'he',\n",
       " \"he'd\",\n",
       " \"he'll\",\n",
       " 'her',\n",
       " 'here',\n",
       " 'hers',\n",
       " 'herself',\n",
       " \"he's\",\n",
       " 'him',\n",
       " 'himself',\n",
       " 'his',\n",
       " 'how',\n",
       " 'i',\n",
       " \"i'd\",\n",
       " 'if',\n",
       " \"i'll\",\n",
       " \"i'm\",\n",
       " 'in',\n",
       " 'into',\n",
       " 'is',\n",
       " 'isn',\n",
       " \"isn't\",\n",
       " 'it',\n",
       " \"it'd\",\n",
       " \"it'll\",\n",
       " \"it's\",\n",
       " 'its',\n",
       " 'itself',\n",
       " \"i've\",\n",
       " 'just',\n",
       " 'll',\n",
       " 'm',\n",
       " 'ma',\n",
       " 'me',\n",
       " 'mightn',\n",
       " \"mightn't\",\n",
       " 'more',\n",
       " 'most',\n",
       " 'mustn',\n",
       " \"mustn't\",\n",
       " 'my',\n",
       " 'myself',\n",
       " 'needn',\n",
       " \"needn't\",\n",
       " 'no',\n",
       " 'nor',\n",
       " 'not',\n",
       " 'now',\n",
       " 'o',\n",
       " 'of',\n",
       " 'off',\n",
       " 'on',\n",
       " 'once',\n",
       " 'only',\n",
       " 'or',\n",
       " 'other',\n",
       " 'our',\n",
       " 'ours',\n",
       " 'ourselves',\n",
       " 'out',\n",
       " 'over',\n",
       " 'own',\n",
       " 're',\n",
       " 's',\n",
       " 'same',\n",
       " 'shan',\n",
       " \"shan't\",\n",
       " 'she',\n",
       " \"she'd\",\n",
       " \"she'll\",\n",
       " \"she's\",\n",
       " 'should',\n",
       " 'shouldn',\n",
       " \"shouldn't\",\n",
       " \"should've\",\n",
       " 'so',\n",
       " 'some',\n",
       " 'such',\n",
       " 't',\n",
       " 'than',\n",
       " 'that',\n",
       " \"that'll\",\n",
       " 'the',\n",
       " 'their',\n",
       " 'theirs',\n",
       " 'them',\n",
       " 'themselves',\n",
       " 'then',\n",
       " 'there',\n",
       " 'these',\n",
       " 'they',\n",
       " \"they'd\",\n",
       " \"they'll\",\n",
       " \"they're\",\n",
       " \"they've\",\n",
       " 'this',\n",
       " 'those',\n",
       " 'through',\n",
       " 'to',\n",
       " 'too',\n",
       " 'under',\n",
       " 'until',\n",
       " 'up',\n",
       " 've',\n",
       " 'very',\n",
       " 'was',\n",
       " 'wasn',\n",
       " \"wasn't\",\n",
       " 'we',\n",
       " \"we'd\",\n",
       " \"we'll\",\n",
       " \"we're\",\n",
       " 'were',\n",
       " 'weren',\n",
       " \"weren't\",\n",
       " \"we've\",\n",
       " 'what',\n",
       " 'when',\n",
       " 'where',\n",
       " 'which',\n",
       " 'while',\n",
       " 'who',\n",
       " 'whom',\n",
       " 'why',\n",
       " 'will',\n",
       " 'with',\n",
       " 'won',\n",
       " \"won't\",\n",
       " 'wouldn',\n",
       " \"wouldn't\",\n",
       " 'y',\n",
       " 'you',\n",
       " \"you'd\",\n",
       " \"you'll\",\n",
       " 'your',\n",
       " \"you're\",\n",
       " 'yours',\n",
       " 'yourself',\n",
       " 'yourselves',\n",
       " \"you've\"]"
      ]
     },
     "execution_count": 99,
     "metadata": {},
     "output_type": "execute_result"
    }
   ],
   "source": [
    "from nltk.corpus import stopwords\n",
    "\n",
    "stopwords.words('english')"
   ]
  },
  {
   "cell_type": "code",
   "execution_count": 103,
   "id": "bf5e54d0-d1dc-456e-950f-5ca46ab722dc",
   "metadata": {},
   "outputs": [
    {
     "data": {
      "text/plain": [
       "198"
      ]
     },
     "execution_count": 103,
     "metadata": {},
     "output_type": "execute_result"
    }
   ],
   "source": [
    "len(stopwords.words('english'))"
   ]
  },
  {
   "cell_type": "code",
   "execution_count": 88,
   "id": "df833331-672a-4a58-9a67-94e395ba0bd1",
   "metadata": {},
   "outputs": [
    {
     "name": "stdout",
     "output_type": "stream",
     "text": [
      "Stopwords length for French is 157\n",
      "Stopwords length for German is 232\n",
      "Stopwords length for Chinese is 841\n"
     ]
    }
   ],
   "source": [
    "from nltk.corpus import stopwords\n",
    "\n",
    "print(\"Stopwords length for French is\", len(stopwords.words('french')))\n",
    "print(\"Stopwords length for German is\", len(stopwords.words('german')))\n",
    "print(\"Stopwords length for Chinese is\", len(stopwords.words('chinese')))"
   ]
  },
  {
   "cell_type": "markdown",
   "id": "ff55fef5-5e8f-495a-af1d-106d9e0e4803",
   "metadata": {},
   "source": [
    "## **POS Tagging**\n",
    "\n",
    "- **Definition:** Assigns grammatical labels(noun,verb,adjective, etc.) to each token in a sentence.\n",
    "- **When to use:** Syntax analysis, NER,grammar correction.\n"
   ]
  },
  {
   "cell_type": "code",
   "execution_count": 91,
   "id": "42e29cee-b4be-49b8-9d56-943ef0b7b159",
   "metadata": {},
   "outputs": [
    {
     "name": "stdout",
     "output_type": "stream",
     "text": [
      "[('The', 'DT'), ('quick', 'JJ'), ('brown', 'NN'), ('fox', 'NN'), ('jumps', 'VBZ'), ('over', 'IN'), ('the', 'DT'), ('lazy', 'JJ'), ('dog', 'NN')]\n"
     ]
    }
   ],
   "source": [
    "import nltk\n",
    "from nltk.tokenize import word_tokenize\n",
    "\n",
    "sentence = 'The quick brown fox jumps over the lazy dog'\n",
    "tokens = word_tokenize(sentence)\n",
    "pos_tags = nltk.pos_tag(tokens)\n",
    "\n",
    "print(pos_tags)"
   ]
  },
  {
   "cell_type": "markdown",
   "id": "3a3b7807-48ad-465b-a56f-236d7755c54b",
   "metadata": {},
   "source": [
    "## **Named Entity Recognition**\n",
    "\n",
    "- **Definition:** Identifies and classifies entities in text(people,places,organizations,dates,etc.)\n",
    "- **When to use:** Information extraction, knowledge graphs.\n",
    "\n"
   ]
  },
  {
   "cell_type": "code",
   "execution_count": 105,
   "id": "8b73c865-0bdd-4bf6-9756-0e8b73881b6b",
   "metadata": {},
   "outputs": [
    {
     "data": {
      "text/plain": [
       "['The', 'US', 'president', 'stays', 'in', 'WhiteHouse']"
      ]
     },
     "execution_count": 105,
     "metadata": {},
     "output_type": "execute_result"
    }
   ],
   "source": [
    "from nltk import ne_chunk\n",
    "\n",
    "ne_sent = 'The US president stays in WhiteHouse'\n",
    "ne_tokens = word_tokenize(ne_sent)\n",
    "ne_tokens"
   ]
  },
  {
   "cell_type": "code",
   "execution_count": 107,
   "id": "9b62e7fb-c100-4c22-8e91-bf7d3446a3af",
   "metadata": {},
   "outputs": [
    {
     "data": {
      "text/plain": [
       "[('The', 'DT'),\n",
       " ('US', 'NNP'),\n",
       " ('president', 'NN'),\n",
       " ('stays', 'NNS'),\n",
       " ('in', 'IN'),\n",
       " ('WhiteHouse', 'NNP')]"
      ]
     },
     "execution_count": 107,
     "metadata": {},
     "output_type": "execute_result"
    }
   ],
   "source": [
    "ne_tags = nltk.pos_tag(ne_tokens)\n",
    "ne_tags"
   ]
  },
  {
   "cell_type": "code",
   "execution_count": 111,
   "id": "cfbbd3a0-648f-47c1-ba86-c3afbacbc2cf",
   "metadata": {},
   "outputs": [
    {
     "name": "stdout",
     "output_type": "stream",
     "text": [
      "(S\n",
      "  The/DT\n",
      "  (GSP US/NNP)\n",
      "  president/NN\n",
      "  stays/NNS\n",
      "  in/IN\n",
      "  (ORGANIZATION WhiteHouse/NNP))\n"
     ]
    }
   ],
   "source": [
    "ne_NER = ne_chunk(ne_tags)\n",
    "print(ne_NER)"
   ]
  },
  {
   "cell_type": "code",
   "execution_count": 113,
   "id": "f333fdd4-16b9-45df-93d9-d99838b47daf",
   "metadata": {},
   "outputs": [
    {
     "data": {
      "text/plain": [
       "[('the', 'DT'),\n",
       " ('big', 'JJ'),\n",
       " ('cat', 'NN'),\n",
       " ('ate', 'VBD'),\n",
       " ('the', 'DT'),\n",
       " ('little', 'JJ'),\n",
       " ('mouse', 'NN'),\n",
       " ('who', 'WP'),\n",
       " ('was', 'VBD'),\n",
       " ('after', 'IN'),\n",
       " ('fresh', 'JJ'),\n",
       " ('cheese', 'NN')]"
      ]
     },
     "execution_count": 113,
     "metadata": {},
     "output_type": "execute_result"
    }
   ],
   "source": [
    "new = 'the big cat ate the little mouse who was after fresh cheese'\n",
    "new_tokens = nltk.pos_tag(word_tokenize(new))\n",
    "new_tokens\n"
   ]
  },
  {
   "cell_type": "markdown",
   "id": "742e714a-e748-4faf-8db6-751ac82d13a0",
   "metadata": {},
   "source": [
    "## **Syntax in NLP**\n",
    "\n",
    "**Definition:** The set of rules ,principles,and processes that govern the structure of sentences in a language.\n",
    "\n",
    "**Example Rule:** In English, a simple sentence follows Subject → Verb → Object.\n",
    "\n",
    "**Example:** 'She (S) eats (V) apples(O).'\n",
    "\n",
    "**In NLP:** Syntax parsing helps a machine understand how words relate to each other grammatically, which is important for translation,question answering, and information extraction\n",
    "\n",
    "**Summary**\n",
    "\n",
    "- NLP = making computers understand & work with human language.\n",
    "- We learned about **NLU**\n",
    "  - Word Tokenization → machine knows individual words.\n",
    "  - Sentence Tokenization → machine knows sentence boundaries.\n",
    "  - Paragraph Tokenization → machine knows text structure\n",
    "  - WhiteSpace Tokenization and Wordpunct Tokenization for Flexible token splitting\n",
    "  - Explored n-grams for sequence-based analysis.\n",
    "  - Compared Porter,Lancaster,and Snowball stemmers.\n",
    "  - Understood Lemmatization for accurate root forms.\n",
    "  - Reviewed stopwords in multiple languages.\n",
    "  - Applied POS tagging to identify grammatical roles of words.\n",
    "  - Performed Named Entity Recognition (NER) to detect people, places, and organizations.\n",
    "  - Discussed syntax as the set of rules and principles that define sentence structure in NLP.\n",
    "   "
   ]
  },
  {
   "cell_type": "markdown",
   "id": "87ee225b-1678-4d78-a482-ac24a8bf9136",
   "metadata": {},
   "source": [
    "# **NLG**\n",
    "**Definition:** Natural Language Generation is the process of creating human like text from structured ot unstructured data.\n",
    "\n",
    "**Applications:**\n",
    " - Chatbots & Virtual Assistants\n",
    " - Automated Report Writing\n",
    " - Summarization\n",
    " - Story Generation"
   ]
  },
  {
   "cell_type": "markdown",
   "id": "4487dae8-5bb3-43a2-8683-a083268e6c19",
   "metadata": {},
   "source": [
    "## WordCloud - Visualizing Words\n",
    "\n",
    "A **WordCloud** is a visual representation of text where the size of each word reflects its frequency or importance."
   ]
  },
  {
   "cell_type": "code",
   "execution_count": 119,
   "id": "8a03c69a-f138-448a-abe3-9a0c0d0a39f3",
   "metadata": {},
   "outputs": [
    {
     "name": "stdout",
     "output_type": "stream",
     "text": [
      "Collecting wordcloud\n",
      "  Downloading wordcloud-1.9.4-cp312-cp312-win_amd64.whl.metadata (3.5 kB)\n",
      "Requirement already satisfied: numpy>=1.6.1 in c:\\users\\lahari\\anaconda3\\lib\\site-packages (from wordcloud) (1.26.4)\n",
      "Requirement already satisfied: pillow in c:\\users\\lahari\\anaconda3\\lib\\site-packages (from wordcloud) (10.3.0)\n",
      "Requirement already satisfied: matplotlib in c:\\users\\lahari\\anaconda3\\lib\\site-packages (from wordcloud) (3.8.4)\n",
      "Requirement already satisfied: contourpy>=1.0.1 in c:\\users\\lahari\\anaconda3\\lib\\site-packages (from matplotlib->wordcloud) (1.2.0)\n",
      "Requirement already satisfied: cycler>=0.10 in c:\\users\\lahari\\anaconda3\\lib\\site-packages (from matplotlib->wordcloud) (0.11.0)\n",
      "Requirement already satisfied: fonttools>=4.22.0 in c:\\users\\lahari\\anaconda3\\lib\\site-packages (from matplotlib->wordcloud) (4.51.0)\n",
      "Requirement already satisfied: kiwisolver>=1.3.1 in c:\\users\\lahari\\anaconda3\\lib\\site-packages (from matplotlib->wordcloud) (1.4.4)\n",
      "Requirement already satisfied: packaging>=20.0 in c:\\users\\lahari\\anaconda3\\lib\\site-packages (from matplotlib->wordcloud) (23.2)\n",
      "Requirement already satisfied: pyparsing>=2.3.1 in c:\\users\\lahari\\anaconda3\\lib\\site-packages (from matplotlib->wordcloud) (3.0.9)\n",
      "Requirement already satisfied: python-dateutil>=2.7 in c:\\users\\lahari\\anaconda3\\lib\\site-packages (from matplotlib->wordcloud) (2.9.0.post0)\n",
      "Requirement already satisfied: six>=1.5 in c:\\users\\lahari\\anaconda3\\lib\\site-packages (from python-dateutil>=2.7->matplotlib->wordcloud) (1.16.0)\n",
      "Downloading wordcloud-1.9.4-cp312-cp312-win_amd64.whl (301 kB)\n",
      "   ---------------------------------------- 0.0/301.2 kB ? eta -:--:--\n",
      "   ---------------------------------------- 0.0/301.2 kB ? eta -:--:--\n",
      "   ---------------------------------------- 0.0/301.2 kB ? eta -:--:--\n",
      "   ---------------------------------------- 0.0/301.2 kB ? eta -:--:--\n",
      "   ---------------------------------------- 0.0/301.2 kB ? eta -:--:--\n",
      "   ---- ----------------------------------- 30.7/301.2 kB ? eta -:--:--\n",
      "   ---- ----------------------------------- 30.7/301.2 kB ? eta -:--:--\n",
      "   ----- --------------------------------- 41.0/301.2 kB 326.8 kB/s eta 0:00:01\n",
      "   ------- ------------------------------- 61.4/301.2 kB 363.1 kB/s eta 0:00:01\n",
      "   --------- ----------------------------- 71.7/301.2 kB 357.2 kB/s eta 0:00:01\n",
      "   ----------- --------------------------- 92.2/301.2 kB 374.1 kB/s eta 0:00:01\n",
      "   --------------- ---------------------- 122.9/301.2 kB 423.5 kB/s eta 0:00:01\n",
      "   ------------------- ------------------ 153.6/301.2 kB 437.1 kB/s eta 0:00:01\n",
      "   ------------------------ ------------- 194.6/301.2 kB 491.5 kB/s eta 0:00:01\n",
      "   ------------------------- ------------ 204.8/301.2 kB 478.0 kB/s eta 0:00:01\n",
      "   ------------------------- ------------ 204.8/301.2 kB 478.0 kB/s eta 0:00:01\n",
      "   ------------------------- ------------ 204.8/301.2 kB 478.0 kB/s eta 0:00:01\n",
      "   ---------------------------- --------- 225.3/301.2 kB 382.0 kB/s eta 0:00:01\n",
      "   -------------------------------- ----- 256.0/301.2 kB 425.2 kB/s eta 0:00:01\n",
      "   -------------------------------------- 301.2/301.2 kB 453.9 kB/s eta 0:00:00\n",
      "Installing collected packages: wordcloud\n",
      "Successfully installed wordcloud-1.9.4\n"
     ]
    }
   ],
   "source": [
    "!pip install wordcloud"
   ]
  },
  {
   "cell_type": "code",
   "execution_count": 121,
   "id": "5df20767-1f33-438b-b905-8a1590ad554b",
   "metadata": {},
   "outputs": [],
   "source": [
    "# Import required libraries\n",
    "import nltk\n",
    "import matplotlib.pyplot as plt\n",
    "from wordcloud import WordCloud"
   ]
  },
  {
   "cell_type": "code",
   "execution_count": 129,
   "id": "34667322-f205-4a82-832f-15b757d8f995",
   "metadata": {},
   "outputs": [
    {
     "data": {
      "text/plain": [
       "'Python Python Python Matplotlib Matplotlib Seaborn Network Plot Violin Chart Pandas Datascience Wordcloud Spider Radar Parallel Alpha Color Brewer Density Scatter Barplot Boxplot Violinplot Treemap Stacked Area Chart Visualization Donut Pie Time-Series Wordcloud Sankey Bubble'"
      ]
     },
     "execution_count": 129,
     "metadata": {},
     "output_type": "execute_result"
    }
   ],
   "source": [
    "#Sample text\n",
    "text = (\"Python Python Python Matplotlib Matplotlib Seaborn Network Plot Violin Chart \"\n",
    "    \"Pandas Datascience Wordcloud Spider Radar Parallel Alpha Color Brewer Density \"\n",
    "    \"Scatter Barplot Boxplot Violinplot Treemap Stacked Area Chart Visualization \"\n",
    "    \"Donut Pie Time-Series Wordcloud Sankey Bubble\"\n",
    ")\n",
    "text"
   ]
  },
  {
   "cell_type": "code",
   "execution_count": 125,
   "id": "30f3dfe2-fc26-43b7-865e-710e1dcfb847",
   "metadata": {},
   "outputs": [],
   "source": [
    "# Create WordCloud\n",
    "wordcloud = WordCloud(\n",
    "    width = 420,\n",
    "    height = 200,\n",
    "    margin = 2,\n",
    "    background_color = 'black',\n",
    "    colormap = 'Accent',\n",
    "    mode = 'RGBA'\n",
    ").generate(text)"
   ]
  },
  {
   "cell_type": "code",
   "execution_count": 127,
   "id": "68d745b0-a9c9-4448-9f5a-e4ce3540f057",
   "metadata": {},
   "outputs": [
    {
     "data": {
      "image/png": "[encoded data removed]",
      "text/plain": [
       "<Figure size 640x480 with 1 Axes>"
      ]
     },
     "metadata": {},
     "output_type": "display_data"
    }
   ],
   "source": [
    "# Plot WordCloud\n",
    "plt.imshow(wordcloud, interpolation = 'quadric')\n",
    "plt.axis('off') # Remove axis\n",
    "plt.margins(x=0,y=0) # Remove margins\n",
    "plt.show()"
   ]
  },
  {
   "cell_type": "code",
   "execution_count": null,
   "id": "a9a5c5b8-07a3-47d4-bac5-e144fe890e1d",
   "metadata": {},
   "outputs": [],
   "source": []
  }
 ],
 "metadata": {
  "kernelspec": {
   "display_name": "Python 3 (ipykernel)",
   "language": "python",
   "name": "python3"
  },
  "language_info": {
   "codemirror_mode": {
    "name": "ipython",
    "version": 3
   },
   "file_extension": ".py",
   "mimetype": "text/x-python",
   "name": "python",
   "nbconvert_exporter": "python",
   "pygments_lexer": "ipython3",
   "version": "3.12.4"
  }
 },
 "nbformat": 4,
 "nbformat_minor": 5
}
