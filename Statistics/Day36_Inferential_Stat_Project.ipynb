{
 "cells": [
  {
   "cell_type": "markdown",
   "id": "9cd2434d",
   "metadata": {},
   "source": [
    "**Descriptive & Inferential Statistics on Sales Dataset**\n",
    "\n",
    "Today, we are working on a project that demonstrates both descriptive and inferential statistics using a simulated sales dataset. The aim is to explore how statistical methods can be applied to understand real-world business data and make informed decisions.\n",
    "\n",
    "We'll start by generating synthetic data representing product sales across categories like Electronics, Clothing, Home, and Sports. Using descriptive statistics, we'll analyze central tendency, dispersion, and group-level summaries. Next, we'll apply inferential techniques such as confidence intervals and hypothesis testing to make predictions and validate assumptions about the population from which our sample is drawn.\n",
    "\n",
    "Finally, we'll visualize our findings through histograms, boxplots, and bar charts to communicate insights clearly and effectively."
   ]
  },
  {
   "cell_type": "markdown",
   "id": "4fee7dd8",
   "metadata": {},
   "source": [
    "# Import Required Libraries\n",
    "\n",
    "- pandas for data handling\n",
    "\n",
    "- numpy for numeric operations\n",
    "\n",
    "- matplotlib & seaborn for data visualization\n",
    "\n",
    "- scipy.stats for inferential statistics like confidence intervals and hypothesis testing\n",
    "\n"
   ]
  },
  {
   "cell_type": "code",
   "execution_count": 1,
   "id": "9bfbaca3",
   "metadata": {},
   "outputs": [],
   "source": [
    "import pandas as pd\n",
    "import numpy as np\n",
    "import matplotlib.pyplot as plt\n",
    "import seaborn as sns\n",
    "import scipy.stats as stats"
   ]
  },
  {
   "cell_type": "markdown",
   "id": "f9806972",
   "metadata": {},
   "source": [
    "# Create a Synthetic Dataset\n",
    "We simulate real-world product sales using the Poisson distribution (often used for count-based data like number of sales). Each product has a category, date of sale, and units sold."
   ]
  },
  {
   "cell_type": "code",
   "execution_count": 2,
   "id": "20a82109",
   "metadata": {},
   "outputs": [],
   "source": [
    "# Set the random seed for reproducibility\n",
    "np.random.seed(42)"
   ]
  },
  {
   "cell_type": "code",
   "execution_count": 3,
   "id": "a83cac61",
   "metadata": {},
   "outputs": [],
   "source": [
    "# Create a synthetic dataset\n",
    "data = {\n",
    "    'product_id': range(1, 21),\n",
    "    'product_name': [f'Product {i}' for i in range(1, 21)],\n",
    "    'category': np.random.choice(['Electronics', 'Clothing', 'Home', 'Sports'], 20),\n",
    "    'units_sold': np.random.poisson(lam=20, size=20),  # Poisson distribution\n",
    "    'sale_date': pd.date_range(start='2023-01-01', periods=20, freq='D')\n",
    "}\n",
    "\n",
    "sales_data = pd.DataFrame(data)"
   ]
  },
  {
   "cell_type": "code",
   "execution_count": 4,
   "id": "79152f67",
   "metadata": {},
   "outputs": [],
   "source": [
    "# Save the dataset as a CSV (optional)\n",
    "sales_data.to_csv('sales_data.csv', index=False)"
   ]
  },
  {
   "cell_type": "code",
   "execution_count": 5,
   "id": "0dd91c98",
   "metadata": {},
   "outputs": [
    {
     "data": {
      "text/html": [
       "<div>\n",
       "<style scoped>\n",
       "    .dataframe tbody tr th:only-of-type {\n",
       "        vertical-align: middle;\n",
       "    }\n",
       "\n",
       "    .dataframe tbody tr th {\n",
       "        vertical-align: top;\n",
       "    }\n",
       "\n",
       "    .dataframe thead th {\n",
       "        text-align: right;\n",
       "    }\n",
       "</style>\n",
       "<table border=\"1\" class=\"dataframe\">\n",
       "  <thead>\n",
       "    <tr style=\"text-align: right;\">\n",
       "      <th></th>\n",
       "      <th>product_id</th>\n",
       "      <th>product_name</th>\n",
       "      <th>category</th>\n",
       "      <th>units_sold</th>\n",
       "      <th>sale_date</th>\n",
       "    </tr>\n",
       "  </thead>\n",
       "  <tbody>\n",
       "    <tr>\n",
       "      <th>0</th>\n",
       "      <td>1</td>\n",
       "      <td>Product 1</td>\n",
       "      <td>Home</td>\n",
       "      <td>25</td>\n",
       "      <td>2023-01-01</td>\n",
       "    </tr>\n",
       "    <tr>\n",
       "      <th>1</th>\n",
       "      <td>2</td>\n",
       "      <td>Product 2</td>\n",
       "      <td>Sports</td>\n",
       "      <td>15</td>\n",
       "      <td>2023-01-02</td>\n",
       "    </tr>\n",
       "    <tr>\n",
       "      <th>2</th>\n",
       "      <td>3</td>\n",
       "      <td>Product 3</td>\n",
       "      <td>Electronics</td>\n",
       "      <td>17</td>\n",
       "      <td>2023-01-03</td>\n",
       "    </tr>\n",
       "    <tr>\n",
       "      <th>3</th>\n",
       "      <td>4</td>\n",
       "      <td>Product 4</td>\n",
       "      <td>Home</td>\n",
       "      <td>19</td>\n",
       "      <td>2023-01-04</td>\n",
       "    </tr>\n",
       "    <tr>\n",
       "      <th>4</th>\n",
       "      <td>5</td>\n",
       "      <td>Product 5</td>\n",
       "      <td>Home</td>\n",
       "      <td>21</td>\n",
       "      <td>2023-01-05</td>\n",
       "    </tr>\n",
       "  </tbody>\n",
       "</table>\n",
       "</div>"
      ],
      "text/plain": [
       "   product_id product_name     category  units_sold  sale_date\n",
       "0           1    Product 1         Home          25 2023-01-01\n",
       "1           2    Product 2       Sports          15 2023-01-02\n",
       "2           3    Product 3  Electronics          17 2023-01-03\n",
       "3           4    Product 4         Home          19 2023-01-04\n",
       "4           5    Product 5         Home          21 2023-01-05"
      ]
     },
     "execution_count": 5,
     "metadata": {},
     "output_type": "execute_result"
    }
   ],
   "source": [
    "# Display dataset\n",
    "sales_data.head()"
   ]
  },
  {
   "cell_type": "markdown",
   "id": "fec629f3",
   "metadata": {},
   "source": [
    "# Descriptive Statistics\n",
    "Descriptive statistics help summarize the data:\n",
    "\n",
    "- Mean: average sales\n",
    "\n",
    "- Median: middle value\n",
    "\n",
    "- Mode: most frequent value\n",
    "\n",
    "- Variance/Std Dev: how spread out the data is\n",
    "\n",
    "We also calculate category-wise total, average, and standard deviation of units sold.\n",
    "\n"
   ]
  },
  {
   "cell_type": "code",
   "execution_count": 6,
   "id": "5f18e917",
   "metadata": {},
   "outputs": [
    {
     "data": {
      "text/plain": [
       "count    20.000000\n",
       "mean     18.800000\n",
       "std       3.302312\n",
       "min      13.000000\n",
       "25%      17.000000\n",
       "50%      18.500000\n",
       "75%      21.000000\n",
       "max      25.000000\n",
       "Name: units_sold, dtype: float64"
      ]
     },
     "execution_count": 6,
     "metadata": {},
     "output_type": "execute_result"
    }
   ],
   "source": [
    "# Descriptive statistics\n",
    "descriptive_stats = sales_data['units_sold'].describe()\n",
    "descriptive_stats"
   ]
  },
  {
   "cell_type": "code",
   "execution_count": 7,
   "id": "a58e35fd",
   "metadata": {},
   "outputs": [],
   "source": [
    "# Additional statistics\n",
    "mean_sales = sales_data['units_sold'].mean()\n",
    "median_sales = sales_data['units_sold'].median()\n",
    "mode_sales = sales_data['units_sold'].mode()[0]\n",
    "variance_sales = sales_data['units_sold'].var()\n",
    "std_deviation_sales = sales_data['units_sold'].std()"
   ]
  },
  {
   "cell_type": "code",
   "execution_count": 8,
   "id": "42b2202c",
   "metadata": {},
   "outputs": [
    {
     "name": "stdout",
     "output_type": "stream",
     "text": [
      "mean_sales : 18.8\n",
      "median_sales : 18.5\n",
      "mode_sales : 17\n",
      "variance_sales : 10.905263157894737\n",
      "std_deviation_sales : 3.302311789927586\n"
     ]
    }
   ],
   "source": [
    "print(\"mean_sales :\",mean_sales)\n",
    "print(\"median_sales :\",median_sales)\n",
    "print('mode_sales :',mode_sales)\n",
    "print(\"variance_sales :\",variance_sales)\n",
    "print(\"std_deviation_sales :\",std_deviation_sales)"
   ]
  },
  {
   "cell_type": "code",
   "execution_count": 9,
   "id": "d6c25790",
   "metadata": {},
   "outputs": [
    {
     "data": {
      "text/html": [
       "<div>\n",
       "<style scoped>\n",
       "    .dataframe tbody tr th:only-of-type {\n",
       "        vertical-align: middle;\n",
       "    }\n",
       "\n",
       "    .dataframe tbody tr th {\n",
       "        vertical-align: top;\n",
       "    }\n",
       "\n",
       "    .dataframe thead th {\n",
       "        text-align: right;\n",
       "    }\n",
       "</style>\n",
       "<table border=\"1\" class=\"dataframe\">\n",
       "  <thead>\n",
       "    <tr style=\"text-align: right;\">\n",
       "      <th></th>\n",
       "      <th>Category</th>\n",
       "      <th>Total Units Sold</th>\n",
       "      <th>Average Units Sold</th>\n",
       "      <th>Std Dev of Units Sold</th>\n",
       "    </tr>\n",
       "  </thead>\n",
       "  <tbody>\n",
       "    <tr>\n",
       "      <th>0</th>\n",
       "      <td>Clothing</td>\n",
       "      <td>21</td>\n",
       "      <td>21.000000</td>\n",
       "      <td>NaN</td>\n",
       "    </tr>\n",
       "    <tr>\n",
       "      <th>1</th>\n",
       "      <td>Electronics</td>\n",
       "      <td>73</td>\n",
       "      <td>18.250000</td>\n",
       "      <td>2.217356</td>\n",
       "    </tr>\n",
       "    <tr>\n",
       "      <th>2</th>\n",
       "      <td>Home</td>\n",
       "      <td>181</td>\n",
       "      <td>20.111111</td>\n",
       "      <td>3.723051</td>\n",
       "    </tr>\n",
       "    <tr>\n",
       "      <th>3</th>\n",
       "      <td>Sports</td>\n",
       "      <td>101</td>\n",
       "      <td>16.833333</td>\n",
       "      <td>2.714160</td>\n",
       "    </tr>\n",
       "  </tbody>\n",
       "</table>\n",
       "</div>"
      ],
      "text/plain": [
       "      Category  Total Units Sold  Average Units Sold  Std Dev of Units Sold\n",
       "0     Clothing                21           21.000000                    NaN\n",
       "1  Electronics                73           18.250000               2.217356\n",
       "2         Home               181           20.111111               3.723051\n",
       "3       Sports               101           16.833333               2.714160"
      ]
     },
     "execution_count": 9,
     "metadata": {},
     "output_type": "execute_result"
    }
   ],
   "source": [
    "# Group-wise statistics\n",
    "category_stats = sales_data.groupby('category')['units_sold'].agg(['sum', 'mean', 'std']).reset_index()\n",
    "category_stats.columns = ['Category', 'Total Units Sold', 'Average Units Sold', 'Std Dev of Units Sold']\n",
    "category_stats"
   ]
  },
  {
   "cell_type": "markdown",
   "id": "0cdfe19f",
   "metadata": {},
   "source": [
    "# Inferential Statistics\n",
    "A confidence interval gives a range in which the true mean is likely to lie.\n",
    "\n",
    "- A 95% CI means there's a 95% chance the true mean lies within this range.\n",
    "\n",
    "- A 99% CI is wider and more confident.\n",
    "\n",
    "We use the t-distribution because the sample size is small (n=20).\n",
    "\n",
    "\n",
    "## 95% Confidence Interval for Mean"
   ]
  },
  {
   "cell_type": "code",
   "execution_count": 10,
   "id": "83d87221",
   "metadata": {},
   "outputs": [],
   "source": [
    "# 95% Confidence Interval\n",
    "confidence_level = 0.95\n",
    "degrees_freedom = len(sales_data['units_sold']) - 1\n",
    "sample_mean = mean_sales\n",
    "sample_standard_error = std_deviation_sales / np.sqrt(len(sales_data['units_sold']))"
   ]
  },
  {
   "cell_type": "code",
   "execution_count": 11,
   "id": "612f41f4",
   "metadata": {},
   "outputs": [],
   "source": [
    "# t-score\n",
    "t_score = stats.t.ppf((1 + confidence_level) / 2, degrees_freedom)\n",
    "margin_of_error = t_score * sample_standard_error"
   ]
  },
  {
   "cell_type": "code",
   "execution_count": 12,
   "id": "00901480",
   "metadata": {},
   "outputs": [
    {
     "data": {
      "text/plain": [
       "(np.float64(17.254470507823573), np.float64(20.34552949217643))"
      ]
     },
     "execution_count": 12,
     "metadata": {},
     "output_type": "execute_result"
    }
   ],
   "source": [
    "confidence_interval_95 = (sample_mean - margin_of_error, sample_mean + margin_of_error)\n",
    "confidence_interval_95"
   ]
  },
  {
   "cell_type": "markdown",
   "id": "42df9cc1",
   "metadata": {},
   "source": [
    "## 99% Confidence Interval for Mean"
   ]
  },
  {
   "cell_type": "code",
   "execution_count": 13,
   "id": "1c7919fd",
   "metadata": {},
   "outputs": [],
   "source": [
    "# 99% Confidence Interval\n",
    "confidence_level = 0.99\n",
    "t_score = stats.t.ppf((1 + confidence_level) / 2, degrees_freedom)\n",
    "margin_of_error = t_score * sample_standard_error"
   ]
  },
  {
   "cell_type": "code",
   "execution_count": 14,
   "id": "f41f47a8",
   "metadata": {},
   "outputs": [
    {
     "data": {
      "text/plain": [
       "(np.float64(16.687430485978535), np.float64(20.912569514021467))"
      ]
     },
     "execution_count": 14,
     "metadata": {},
     "output_type": "execute_result"
    }
   ],
   "source": [
    "confidence_interval_99 = (sample_mean - margin_of_error, sample_mean + margin_of_error)\n",
    "confidence_interval_99"
   ]
  },
  {
   "cell_type": "markdown",
   "id": "bf2ecbe3",
   "metadata": {},
   "source": [
    "# Hypothesis Testing – One Sample t-test\n",
    "- We test the null hypothesis (H₀):\n",
    "\n",
    "  - The mean units sold is 20.\n",
    "\n",
    "- The alternative hypothesis (H₁):\n",
    "\n",
    "  - The mean units sold is not 20.\n",
    "\n",
    "- We use a 1-sample t-test, and based on the p-value:\n",
    "\n",
    "  - If p < 0.05 → reject H₀ (significant difference)\n",
    "\n",
    "  - If p ≥ 0.05 → fail to reject H₀ (no significant difference)\n"
   ]
  },
  {
   "cell_type": "code",
   "execution_count": 15,
   "id": "2819eca0",
   "metadata": {},
   "outputs": [
    {
     "name": "stdout",
     "output_type": "stream",
     "text": [
      "T-statistic: -1.6250928099424466\n",
      "P-value: 0.12061572226781002\n",
      "Fail to reject the null hypothesis: Mean units sold is not significantly different from 20.\n"
     ]
    }
   ],
   "source": [
    "# Hypothesis Test (H0: mean = 20, H1: mean ≠ 20)\n",
    "t_statistic, p_value = stats.ttest_1samp(sales_data['units_sold'], 20)\n",
    "\n",
    "print(f\"T-statistic: {t_statistic}\")\n",
    "print(f\"P-value: {p_value}\")\n",
    "\n",
    "if p_value < 0.05:\n",
    "    print(\"Reject the null hypothesis: Mean units sold is significantly different from 20.\")\n",
    "else:\n",
    "    print(\"Fail to reject the null hypothesis: Mean units sold is not significantly different from 20.\")"
   ]
  },
  {
   "cell_type": "markdown",
   "id": "fe1a7502",
   "metadata": {},
   "source": [
    "# Data Visualizations\n",
    "- Histogram shows the distribution and shape (e.g., skewness).\n",
    "\n",
    "- Boxplot helps detect outliers and compare sales spread across categories.\n",
    "\n",
    "- Bar plot shows which category sold the most.\n",
    "## Histogram with KDE"
   ]
  },
  {
   "cell_type": "code",
   "execution_count": 16,
   "id": "08f53655",
   "metadata": {},
   "outputs": [
    {
     "data": {
      "image/png": "[encoded data removed]",
      "text/plain": [
       "<Figure size 1000x600 with 1 Axes>"
      ]
     },
     "metadata": {},
     "output_type": "display_data"
    }
   ],
   "source": [
    "plt.figure(figsize=(10, 6))\n",
    "sns.histplot(sales_data['units_sold'], bins=10, kde=True)\n",
    "plt.axvline(mean_sales, color='red', linestyle='--', label='Mean')\n",
    "plt.axvline(median_sales, color='blue', linestyle='--', label='Median')\n",
    "plt.axvline(mode_sales, color='green', linestyle='--', label='Mode')\n",
    "plt.title('Distribution of Units Sold')\n",
    "plt.xlabel('Units Sold')\n",
    "plt.ylabel('Frequency')\n",
    "plt.legend()\n",
    "plt.show()"
   ]
  },
  {
   "cell_type": "markdown",
   "id": "b704ceb2",
   "metadata": {},
   "source": [
    "## Boxplot by Category\n"
   ]
  },
  {
   "cell_type": "code",
   "execution_count": 17,
   "id": "b46d8fdf",
   "metadata": {},
   "outputs": [
    {
     "data": {
      "image/png": "[encoded data removed]",
      "text/plain": [
       "<Figure size 1000x600 with 1 Axes>"
      ]
     },
     "metadata": {},
     "output_type": "display_data"
    }
   ],
   "source": [
    "plt.figure(figsize=(10, 6))\n",
    "sns.boxplot(x='category', y='units_sold', data=sales_data)\n",
    "plt.title('Boxplot of Units Sold by Category')\n",
    "plt.xlabel('Category')\n",
    "plt.ylabel('Units Sold')\n",
    "plt.show()"
   ]
  },
  {
   "cell_type": "markdown",
   "id": "fc2c93fc",
   "metadata": {},
   "source": [
    "## Bar Plot: Total Units Sold per Category"
   ]
  },
  {
   "cell_type": "code",
   "execution_count": 18,
   "id": "40e91bec",
   "metadata": {},
   "outputs": [
    {
     "data": {
      "image/png": "[encoded data removed]",
      "text/plain": [
       "<Figure size 1000x600 with 1 Axes>"
      ]
     },
     "metadata": {},
     "output_type": "display_data"
    }
   ],
   "source": [
    "plt.figure(figsize=(10, 6))\n",
    "sns.barplot(x='Category', y='Total Units Sold', data=category_stats)\n",
    "plt.title('Total Units Sold by Category')\n",
    "plt.xlabel('Category')\n",
    "plt.ylabel('Total Units Sold')\n",
    "plt.show()"
   ]
  },
  {
   "cell_type": "markdown",
   "id": "0dc42f97",
   "metadata": {},
   "source": [
    "# Conclusion\n",
    "**Key Insights & Summary**\n",
    "\n",
    "- The **mean units sold** is approximately `X` units.\n",
    "- The **95% Confidence Interval** for the true mean is: `(X₁, X₂)`\n",
    "- The **p-value** from the t-test is `P`, so we:\n",
    "-  [Reject / Fail to Reject] the null hypothesis.\n",
    "- The **'Clothing'** category had the highest variability in sales.\n",
    "- Sales distribution shows [normal / skewed] pattern based on histogram and boxplot."
   ]
  }
 ],
 "metadata": {
  "kernelspec": {
   "display_name": "Python 3",
   "language": "python",
   "name": "python3"
  },
  "language_info": {
   "codemirror_mode": {
    "name": "ipython",
    "version": 3
   },
   "file_extension": ".py",
   "mimetype": "text/x-python",
   "name": "python",
   "nbconvert_exporter": "python",
   "pygments_lexer": "ipython3",
   "version": "3.13.3"
  }
 },
 "nbformat": 4,
 "nbformat_minor": 5
}
