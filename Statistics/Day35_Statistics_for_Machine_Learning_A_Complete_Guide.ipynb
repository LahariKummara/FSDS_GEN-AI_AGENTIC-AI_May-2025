{
 "cells": [
  {
   "cell_type": "markdown",
   "id": "124f8db2",
   "metadata": {},
   "source": [
    "**Welcome to Your Ultimate Statistics for Machine Learning Notebook**\n",
    "\n",
    "This notebook is a complete and practical guide to learning statistics with Python — designed especially for data analysts, machine learning beginners, and anyone who wants to build strong statistical intuition.\n",
    "\n",
    "We start from the absolute basics (like mean, median, and standard deviation), and move step-by-step through probability, hypothesis testing, distributions, confidence intervals, ANOVA, regression, and more.\n",
    "\n",
    "Each concept is explained in simple terms, supported with:\n",
    "- Manual calculations for better understanding\n",
    "- Real-world examples\n",
    "- Clean Python code using `NumPy`, `SciPy`, `Seaborn`, and `Pandas`\n",
    "\n",
    "By the end of this notebook, you'll not only understand how to apply statistical methods in machine learning but also **why** they work.\n",
    "\n",
    "Let’s begin the journey from Zero to Hero in Statistics!\n"
   ]
  },
  {
   "cell_type": "markdown",
   "id": "2bffde2f",
   "metadata": {},
   "source": [
    "# What is Statistics?\n",
    "Statistics is the science of collecting, organizing, analyzing, interpreting, and presenting data. It is the foundation of data science and machine learning.\n",
    "\n",
    "## Why Statistics in Machine Learning?\n",
    "\n",
    "Statistics is the backbone of Machine Learning. It provides the mathematical foundation to understand data, draw insights, and make predictions.\n",
    "\n",
    "### Understanding the Data\n",
    "Before building any model, you must explore and understand the data. Statistics helps summarize and describe data through:\n",
    "- Mean, median, mode (central tendency)\n",
    "- Variance, standard deviation (dispersion)\n",
    "- Graphical summaries like histograms and box plots\n",
    "\n",
    "### Making Data-Driven Decisions\n",
    "Inferential statistics allow us to:\n",
    "- Make predictions about a population from a sample\n",
    "- Use hypothesis testing to evaluate assumptions\n",
    "- Calculate confidence intervals to estimate possible ranges\n",
    "\n",
    "### Building ML Models\n",
    "Many machine learning algorithms are based on statistical concepts:\n",
    "- Linear Regression: uses least squares estimation\n",
    "- Logistic Regression: based on probability and odds\n",
    "- Naive Bayes: uses Bayes' Theorem\n",
    "- Clustering and PCA: use variance, covariance, and distributions\n",
    "\n",
    "### Evaluating Model Performance\n",
    "Statistics helps us:\n",
    "- Analyze model accuracy\n",
    "- Calculate error metrics like MAE, RMSE, R²\n",
    "- Perform A/B testing for model comparison\n",
    "\n",
    "### Avoiding Bias and Overfitting\n",
    "Statistical tests help:\n",
    "- Validate model assumptions\n",
    "- Detect data skew or imbalance\n",
    "- Choose the right features and techniques\n",
    "\n",
    "### Summary\n",
    "Without statistics, machine learning becomes a black box. With statistics, you understand why your model behaves the way it does and how to improve it."
   ]
  },
  {
   "cell_type": "markdown",
   "id": "925cc0b8",
   "metadata": {},
   "source": [
    "# Types of Statistics\n",
    "\n",
    "## Descriptive Statistics\n",
    "\n",
    "**Definition:** Used to summarize and describe the features of a dataset.\n",
    "**Goal:** Understand the basic features of data.\n",
    "**Includes:** Mean, Median, Mode, Range, Variance, Standard Deviation.\n",
    "\n",
    "### Measures of Central Tendency\n",
    "- Mean\n",
    "- Median\n",
    "- Mode\n",
    "### Measures of Dispersion\n",
    "\n",
    "- Range\n",
    "- Variance\n",
    "- Standard Deviation\n",
    "\n",
    "**Manual Example:**\n",
    "\n",
    "Given Data = [10, 12, 11, 13, 10]\n",
    "\n",
    "Step 1: Sort the data: [10, 10, 11, 12, 13]\n",
    "\n",
    "Mean = (10 + 12 + 11 + 13 + 10) / 5 = 56 / 5 = 11.2\n",
    "\n",
    "Median = Middle value = 11 (3rd value in sorted list)\n",
    "\n",
    "Mode = Value that appears most often = 10 (appears twice)\n",
    "\n",
    "Range = Max - Min = 13 - 10 = 3\n",
    "\n",
    "Variance:\n",
    "\n",
    "- Find the mean = 11.2\n",
    "\n",
    "- Subtract mean from each value: [-1.2, 0.8, -0.2, 1.8, -1.2]\n",
    "\n",
    "- Square differences: [1.44, 0.64, 0.04, 3.24, 1.44]\n",
    "\n",
    "- Average of squared differences: (1.44 + 0.64 + 0.04 + 3.24 + 1.44) / 5 = 1.36\n",
    "\n",
    "Standard Deviation = Square root of Variance = sqrt(1.36) ≈ 1.166"
   ]
  },
  {
   "cell_type": "code",
   "execution_count": 1,
   "id": "e5ff6dab",
   "metadata": {},
   "outputs": [
    {
     "name": "stdout",
     "output_type": "stream",
     "text": [
      "Mean: 11.2\n",
      "Median: 11.0\n",
      "Mode: 10\n",
      "Range: 3\n",
      "Variance: 1.3599999999999999\n",
      "Standard Deviation: 1.16619037896906\n"
     ]
    }
   ],
   "source": [
    "import numpy as np\n",
    "import statistics as stats\n",
    "\n",
    "data = [10, 12, 11, 13, 10]\n",
    "print(\"Mean:\", np.mean(data))\n",
    "print(\"Median:\", np.median(data))\n",
    "print(\"Mode:\", stats.mode(data))\n",
    "print(\"Range:\", max(data) - min(data))\n",
    "print(\"Variance:\", np.var(data))\n",
    "print(\"Standard Deviation:\", np.std(data))"
   ]
  },
  {
   "cell_type": "markdown",
   "id": "5cd7451f",
   "metadata": {},
   "source": [
    "# Inferential Statistics\n",
    "\n",
    "**Definition:** Makes predictions or inferences about a population using a sample.\n",
    "\n",
    "**Goal:** Generalize findings from sample to population.\n",
    "\n",
    "**Includes:** Hypothesis testing, Confidence Intervals, Regression, ANOVA, Chi-square."
   ]
  },
  {
   "cell_type": "markdown",
   "id": "6e7fc570",
   "metadata": {},
   "source": [
    "# Population and Sampling\n",
    "\n",
    "Understanding the difference between a population and a sample is essential in statistics, especially for drawing valid conclusions in machine learning projects.\n",
    "\n",
    "## Population vs Sample\n",
    "\n",
    "- **Population**: The entire group you're interested in studying.\n",
    "  - Example: All users on Amazon in India.\n",
    "\n",
    "- **Sample**: A subset of the population that is actually observed or analyzed.\n",
    "  - Example: 1,000 Amazon users selected randomly from Pune.\n",
    "\n",
    "We use **samples** because it is usually not possible (or practical) to collect data from an entire population. Statistics helps us use the sample to make inferences about the whole.\n",
    "\n",
    "\n",
    "## Types of Sampling Techniques\n",
    "\n",
    "There are several ways to choose a sample. Here are the most common types:\n",
    "\n",
    "### Simple Random Sampling\n",
    "\n",
    "- Every member of the population has an equal chance of being selected.\n",
    "\n",
    " **Manual Example**: If there are 100 students, and we randomly pick 10 using a lottery draw."
   ]
  },
  {
   "cell_type": "code",
   "execution_count": 2,
   "id": "fecd13f3",
   "metadata": {},
   "outputs": [
    {
     "name": "stdout",
     "output_type": "stream",
     "text": [
      "Random Sample: [28, 42, 38, 3, 39, 36, 100, 33, 95, 88]\n"
     ]
    }
   ],
   "source": [
    "import random\n",
    "\n",
    "population = list(range(1, 101))  # 100 students numbered 1 to 100\n",
    "sample = random.sample(population, 10)\n",
    "print(\"Random Sample:\", sample)"
   ]
  },
  {
   "cell_type": "markdown",
   "id": "e3c89820",
   "metadata": {},
   "source": [
    "### Stratified Sampling\n",
    "Divide the population into subgroups (strata) and randomly sample from each group.\n",
    "\n",
    "**Manual Example:** Separate male and female students, then take 5 random from each."
   ]
  },
  {
   "cell_type": "code",
   "execution_count": 3,
   "id": "62e37d88",
   "metadata": {},
   "outputs": [
    {
     "name": "stdout",
     "output_type": "stream",
     "text": [
      "Stratified Sample: ['M4', 'M6', 'M2', 'F3', 'F2', 'F4']\n"
     ]
    }
   ],
   "source": [
    "import random\n",
    "\n",
    "males = ['M1', 'M2', 'M3', 'M4', 'M5', 'M6']\n",
    "females = ['F1', 'F2', 'F3', 'F4', 'F5', 'F6']\n",
    "\n",
    "sample_males = random.sample(males, 3)\n",
    "sample_females = random.sample(females, 3)\n",
    "\n",
    "print(\"Stratified Sample:\", sample_males + sample_females)"
   ]
  },
  {
   "cell_type": "markdown",
   "id": "82cbea19",
   "metadata": {},
   "source": [
    "### Cluster Sampling\n",
    "Divide the population into clusters, then randomly choose entire clusters.\n",
    "\n",
    "**Manual Example:** Choose 2 out of 10 schools and survey all students in those schools."
   ]
  },
  {
   "cell_type": "code",
   "execution_count": 4,
   "id": "0570b6a2",
   "metadata": {},
   "outputs": [
    {
     "name": "stdout",
     "output_type": "stream",
     "text": [
      "Cluster Sample: ['C1', 'C2', 'C3', 'B1', 'B2', 'B3']\n"
     ]
    }
   ],
   "source": [
    "import random\n",
    "\n",
    "clusters = {\n",
    "    'School A': ['A1', 'A2', 'A3'],\n",
    "    'School B': ['B1', 'B2', 'B3'],\n",
    "    'School C': ['C1', 'C2', 'C3']\n",
    "}\n",
    "\n",
    "selected_clusters = random.sample(list(clusters.keys()), 2)\n",
    "sample = []\n",
    "\n",
    "for cluster in selected_clusters:\n",
    "    sample.extend(clusters[cluster])\n",
    "\n",
    "print(\"Cluster Sample:\", sample)\n"
   ]
  },
  {
   "cell_type": "markdown",
   "id": "26635e4e",
   "metadata": {},
   "source": [
    "### Systematic Sampling\n",
    "Select every k-th member from the list.\n",
    "\n",
    "**Manual Example:** From a list of 100, choose every 10th person."
   ]
  },
  {
   "cell_type": "code",
   "execution_count": 5,
   "id": "2bd2396d",
   "metadata": {},
   "outputs": [
    {
     "name": "stdout",
     "output_type": "stream",
     "text": [
      "Systematic Sample: [1, 11, 21, 31, 41, 51, 61, 71, 81, 91]\n"
     ]
    }
   ],
   "source": [
    "population = list(range(1, 101))\n",
    "k = 10\n",
    "sample = population[::k]  # Select every 10th element\n",
    "print(\"Systematic Sample:\", sample)"
   ]
  },
  {
   "cell_type": "markdown",
   "id": "8bfe87ef",
   "metadata": {},
   "source": [
    "### Convenience Sampling\n",
    "Select individuals that are easiest to reach.\n",
    "\n",
    "**Manual Example:** Ask people in your neighborhood or classroom."
   ]
  },
  {
   "cell_type": "code",
   "execution_count": 6,
   "id": "dc40bd70",
   "metadata": {},
   "outputs": [
    {
     "name": "stdout",
     "output_type": "stream",
     "text": [
      "Convenience Sample: [1, 2, 3, 4, 5]\n"
     ]
    }
   ],
   "source": [
    "# Convenience sampling — just select first few available\n",
    "population = list(range(1, 21))\n",
    "convenient_sample = population[:5]  # pick first 5 available\n",
    "print(\"Convenience Sample:\", convenient_sample)"
   ]
  },
  {
   "cell_type": "markdown",
   "id": "4682f564",
   "metadata": {},
   "source": [
    "**Summary**\n",
    "  \n",
    "Sampling techniques determine how representative your data is. Poor sampling can lead to biased models. Always try to use random or stratified sampling when possible in real-world ML problems."
   ]
  },
  {
   "cell_type": "markdown",
   "id": "9a5b9a1f",
   "metadata": {},
   "source": [
    "# Probability Basics\n",
    "\n",
    "Probability tells us how likely an event is to happen. It is one of the core building blocks of statistics and machine learning.\n",
    "\n",
    "## Basic Formula\n",
    "\n",
    "**Probability of an event (A)** is calculated as:\n",
    "\n",
    "Probability (A) = Number of favorable outcomes / Total number of outcomes\n",
    "\n",
    "\n",
    "- The result is always between 0 and 1.\n",
    "  - 0 means impossible\n",
    "  - 1 means certain\n",
    "\n",
    "**Example:**\n",
    "If we roll a fair 6-sided die, the probability of getting a 4 is:\n"
   ]
  },
  {
   "cell_type": "code",
   "execution_count": 7,
   "id": "19d2bf9b",
   "metadata": {},
   "outputs": [
    {
     "name": "stdout",
     "output_type": "stream",
     "text": [
      "Probability of rolling a 4: 0.16666666666666666\n"
     ]
    }
   ],
   "source": [
    "favorable_outcomes = 1\n",
    "total_outcomes = 6\n",
    "probability = favorable_outcomes / total_outcomes\n",
    "print(\"Probability of rolling a 4:\", probability)\n"
   ]
  },
  {
   "cell_type": "markdown",
   "id": "2d8f09ae",
   "metadata": {},
   "source": [
    "## Real-World Examples\n",
    "\n",
    "Example 1: Coin Toss\n",
    "- Event: Getting heads\n",
    "\n",
    "- Possible outcomes: Heads, Tails\n",
    "\n",
    "P(Heads) = 1 / 2 = 0.5"
   ]
  },
  {
   "cell_type": "code",
   "execution_count": 8,
   "id": "c4649b54",
   "metadata": {},
   "outputs": [
    {
     "name": "stdout",
     "output_type": "stream",
     "text": [
      "Probability of Heads: 0.5\n"
     ]
    }
   ],
   "source": [
    "print(\"Probability of Heads:\", 1/2)"
   ]
  },
  {
   "cell_type": "markdown",
   "id": "f0624680",
   "metadata": {},
   "source": [
    "Example 2: Drawing a Red Card from a Deck\n",
    "- Total cards = 52\n",
    "\n",
    "- Red cards (hearts + diamonds) = 26\n",
    "\n",
    "P(Red card) = 26 / 52 = 0.5"
   ]
  },
  {
   "cell_type": "code",
   "execution_count": 9,
   "id": "35b87219",
   "metadata": {},
   "outputs": [
    {
     "name": "stdout",
     "output_type": "stream",
     "text": [
      "Probability of red card: 0.5\n"
     ]
    }
   ],
   "source": [
    "red_cards = 26\n",
    "total_cards = 52\n",
    "print(\"Probability of red card:\", red_cards / total_cards)"
   ]
  },
  {
   "cell_type": "markdown",
   "id": "1b97bfda",
   "metadata": {},
   "source": [
    "Example 3: Picking a Vowel from a List of Letters\n",
    "- Letters = ['A', 'B', 'C', 'E', 'I', 'J']\n",
    "\n",
    "- Vowels = A, E, I → 3 out of 6\n",
    "\n",
    "\n",
    "P(Vowel) = 3 / 6 = 0.5"
   ]
  },
  {
   "cell_type": "code",
   "execution_count": 10,
   "id": "8dbec8f5",
   "metadata": {},
   "outputs": [
    {
     "name": "stdout",
     "output_type": "stream",
     "text": [
      "Probability of picking a vowel: 0.5\n"
     ]
    }
   ],
   "source": [
    "letters = ['A', 'B', 'C', 'E', 'I', 'J']\n",
    "vowels = ['A', 'E', 'I']\n",
    "probability = len(vowels) / len(letters)\n",
    "print(\"Probability of picking a vowel:\", probability)"
   ]
  },
  {
   "cell_type": "markdown",
   "id": "297de02e",
   "metadata": {},
   "source": [
    "**Summary**\n",
    "  \n",
    "Probability helps us reason under uncertainty. It's used in:\n",
    "\n",
    "Risk prediction\n",
    "\n",
    "Randomized experiments\n",
    "\n",
    "Naive Bayes classifiers\n",
    "\n",
    "Evaluation metrics (like expected accuracy)\n",
    "\n",
    "Understanding it is key for both theory and practical machine learning."
   ]
  },
  {
   "cell_type": "markdown",
   "id": "d79445ae",
   "metadata": {},
   "source": [
    "# Distributions\n",
    "Understanding distributions is key to identifying patterns in data and choosing the right analysis method.\n",
    "\n",
    "## Normal Distribution\n",
    "\n",
    "- **Also called**: Gaussian Distribution\n",
    "- **Shape**: Bell-shaped, symmetric\n",
    "- **Mean = Median = Mode**\n",
    "- **Use when**: Data is naturally centered around a mean (e.g., heights, test scores)\n",
    "- **Real-life examples**:\n",
    "  - Heights of people\n",
    "  - Exam scores in large groups\n",
    "  - Errors in measurement\n",
    "- **In ML**: Used in linear regression assumptions, hypothesis testing, z-tests"
   ]
  },
  {
   "cell_type": "code",
   "execution_count": 11,
   "id": "9afce87f",
   "metadata": {},
   "outputs": [
    {
     "data": {
      "image/png": "[encoded data removed]",
      "text/plain": [
       "<Figure size 640x480 with 1 Axes>"
      ]
     },
     "metadata": {},
     "output_type": "display_data"
    }
   ],
   "source": [
    "import numpy as np\n",
    "import matplotlib.pyplot as plt\n",
    "\n",
    "x = np.linspace(-5, 5, 1000)\n",
    "y = 1/(np.sqrt(2*np.pi)) * np.exp(-x**2/2)\n",
    "\n",
    "plt.plot(x, y)\n",
    "plt.title(\"Normal Distribution\")\n",
    "plt.grid(True)\n",
    "plt.show()"
   ]
  },
  {
   "cell_type": "markdown",
   "id": "b9a1ba3f",
   "metadata": {},
   "source": [
    "# Skewed Distribution\n",
    "- **Shape**: Asymmetric\n",
    "  - **Positively skewed**: Long tail to the right (e.g., income data)\n",
    "  - **Negatively skewed**: Long tail to the left\n",
    "- **Mean ≠ Median ≠ Mode**\n",
    "- **Use when**: Data has outliers or is not balanced\n",
    "- **Real-life examples**:\n",
    "  - House prices (a few very expensive houses skew the average)\n",
    "  - Income distribution\n",
    "- **In ML**: You may need to apply transformations (like log) before modeling"
   ]
  },
  {
   "cell_type": "code",
   "execution_count": 12,
   "id": "87fe1aa0",
   "metadata": {},
   "outputs": [
    {
     "data": {
      "image/png": "[encoded data removed]",
      "text/plain": [
       "<Figure size 640x480 with 1 Axes>"
      ]
     },
     "metadata": {},
     "output_type": "display_data"
    }
   ],
   "source": [
    "skewed_data = np.random.exponential(scale=2, size=1000)\n",
    "plt.hist(skewed_data, bins=30, edgecolor='black')\n",
    "plt.title(\"Skewed Distribution\")\n",
    "plt.show()"
   ]
  },
  {
   "cell_type": "markdown",
   "id": "288e1e2a",
   "metadata": {},
   "source": [
    "## Uniform Distribution\n",
    "- **Shape**: All outcomes are equally likely (flat shape)\n",
    "- **Use when**: Every item has an equal chance of being selected\n",
    "- **Real-life examples**:\n",
    "  - Rolling a fair die\n",
    "  - Random number generation\n",
    "- **In ML**: Used in simulations, initialization of weights in neural networks\n"
   ]
  },
  {
   "cell_type": "code",
   "execution_count": 13,
   "id": "c3bc4860",
   "metadata": {},
   "outputs": [
    {
     "data": {
      "image/png": "[encoded data removed]",
      "text/plain": [
       "<Figure size 640x480 with 1 Axes>"
      ]
     },
     "metadata": {},
     "output_type": "display_data"
    }
   ],
   "source": [
    "uniform_data = np.random.uniform(0, 10, 1000)\n",
    "plt.hist(uniform_data, bins=30, edgecolor='black')\n",
    "plt.title(\"Uniform Distribution\")\n",
    "plt.show()"
   ]
  },
  {
   "cell_type": "markdown",
   "id": "995189d1",
   "metadata": {},
   "source": [
    "## Binomial Distribution\n",
    "\n",
    "- **Type**: Discrete distribution\n",
    "- **Used for**: Counting the number of successes in a fixed number of trials\n",
    "- **Conditions**:\n",
    "  - Only 2 possible outcomes (Success/Failure)\n",
    "  - Fixed number of trials\n",
    "  - Each trial is independent\n",
    "- **Real-life examples**:\n",
    "  - Tossing a coin 10 times\n",
    "  - Predicting the number of defective products in a batch\n",
    "- **In ML**: Used in binary classification, logistic regression, A/B testing\n"
   ]
  },
  {
   "cell_type": "code",
   "execution_count": 14,
   "id": "a4cf0083",
   "metadata": {},
   "outputs": [
    {
     "data": {
      "image/png": "[encoded data removed]",
      "text/plain": [
       "<Figure size 640x480 with 1 Axes>"
      ]
     },
     "metadata": {},
     "output_type": "display_data"
    }
   ],
   "source": [
    "\n",
    "from scipy.stats import binom\n",
    "x = np.arange(0, 11)\n",
    "y = binom.pmf(x, 10, 0.5)\n",
    "plt.stem(x, y)\n",
    "plt.title(\"Binomial Distribution\")\n",
    "plt.show()"
   ]
  },
  {
   "cell_type": "markdown",
   "id": "5bd433f6",
   "metadata": {},
   "source": [
    "## Poisson Distribution\n",
    "- **Type**: Discrete distribution\n",
    "- **Used for**: Counting number of events happening in a fixed interval of time or space\n",
    "- **Conditions**:\n",
    "  - Events happen independently\n",
    "  - Events are rare\n",
    "- **Real-life examples**:\n",
    "  - Number of customer calls per hour\n",
    "  - Number of earthquakes in a year\n",
    "- **In ML**: Used in modeling rare events, queuing systems, count data\n"
   ]
  },
  {
   "cell_type": "code",
   "execution_count": 15,
   "id": "3e872e7a",
   "metadata": {},
   "outputs": [
    {
     "data": {
      "image/png": "[encoded data removed]",
      "text/plain": [
       "<Figure size 640x480 with 1 Axes>"
      ]
     },
     "metadata": {},
     "output_type": "display_data"
    }
   ],
   "source": [
    "from scipy.stats import poisson\n",
    "x = np.arange(0, 20)\n",
    "y = poisson.pmf(x, 5)\n",
    "plt.stem(x, y)\n",
    "plt.title(\"Poisson Distribution\")\n",
    "plt.show()"
   ]
  },
  {
   "cell_type": "markdown",
   "id": "24d71974",
   "metadata": {},
   "source": [
    "# Hypothesis Testing\n",
    "\n",
    "Hypothesis testing is used to determine whether the results of a dataset are statistically significant and not due to random chance.\n",
    "\n",
    "\n",
    "\n",
    "## Concepts\n",
    "\n",
    "- **Null Hypothesis (H0)**: There is no effect or difference. It represents the default assumption.\n",
    "  - Example: The average score of students is 70.\n",
    "\n",
    "- **Alternative Hypothesis (H1 or Ha)**: There is an effect or a difference.\n",
    "  - Example: The average score is not 70.\n",
    "\n",
    "We perform a test to decide whether to reject H0 or not.\n",
    "\n",
    "\n",
    "\n",
    "## Steps of Hypothesis Testing\n",
    "\n",
    "1. Define H0 and H1.\n",
    "2. Choose significance level (usually 0.05).\n",
    "3. Select a test (Z-test, T-test, etc.).\n",
    "4. Calculate the test statistic.\n",
    "5. Calculate or look up the p-value.\n",
    "6. Compare p-value with significance level:\n",
    "   - If p-value < 0.05 → Reject H0.\n",
    "   - If p-value ≥ 0.05 → Fail to reject H0.\n",
    "\n",
    "\n",
    "## Manual Example (T-test)\n",
    "\n",
    "Suppose the average test score (population mean) is 70. We test a new teaching method on 10 students. Their scores are:\n",
    "\n",
    "[72, 75, 68, 70, 69, 74, 73, 71, 67, 76]\n",
    "\n",
    "Is the new method significantly different?\n",
    "\n",
    "- H0: Mean = 70\n",
    "- H1: Mean ≠ 70\n",
    "- Significance level = 0.05\n",
    "\n",
    "**Steps:**\n",
    "\n",
    "1. Calculate sample mean and sample standard deviation.\n",
    "2. Use the t-test formula:\n",
    "\n"
   ]
  },
  {
   "cell_type": "markdown",
   "id": "7c2ae8fa",
   "metadata": {},
   "source": [
    "Example (T-test): "
   ]
  },
  {
   "cell_type": "code",
   "execution_count": 16,
   "id": "db95083f",
   "metadata": {},
   "outputs": [
    {
     "name": "stdout",
     "output_type": "stream",
     "text": [
      "T-statistic: 1.5666989036012806\n",
      "P-value: 0.1516274744876827\n",
      "Fail to Reject Null Hypothesis\n"
     ]
    }
   ],
   "source": [
    "from scipy import stats\n",
    "\n",
    "scores = [72, 75, 68, 70, 69, 74, 73, 71, 67, 76]\n",
    "t_stat, p_val = stats.ttest_1samp(scores, 70)\n",
    "\n",
    "print(\"T-statistic:\", t_stat)\n",
    "print(\"P-value:\", p_val)\n",
    "\n",
    "if p_val < 0.05:\n",
    "    print(\"Reject Null Hypothesis\")\n",
    "else:\n",
    "    print(\"Fail to Reject Null Hypothesis\")"
   ]
  },
  {
   "cell_type": "markdown",
   "id": "2a9dca8c",
   "metadata": {},
   "source": [
    "# Z-Test vs T-Test\n",
    "\n",
    "Z-test and T-test are both hypothesis tests used to determine whether a sample mean is significantly different from a known or assumed population mean.\n",
    "\n",
    "\n",
    "## What is a Z-Test?\n",
    "\n",
    "Z-test is used when:\n",
    "- Sample size is **large (n > 30)**\n",
    "- **Population standard deviation is known**\n",
    "\n",
    "It assumes a **normal distribution**.\n",
    "\n",
    "**Formula:**\n",
    "\n",
    "Z = (x̄ - μ) / (σ / √n)\n",
    "\n",
    "Where:\n",
    "- x̄ = sample mean  \n",
    "- μ = population mean  \n",
    "- σ = population standard deviation  \n",
    "- n = sample size\n",
    "\n",
    "\n",
    "\n",
    "**Manual Example (Z-Test):**\n",
    "\n",
    "A factory claims that the average weight of their packets is 500g. A sample of 50 packets has a mean of 495g. Population standard deviation is known to be 20g.\n",
    "\n",
    "- H0: μ = 500  \n",
    "- H1: μ ≠ 500  \n",
    "- Significance level = 0.05\n",
    "\n",
    "Steps:\n",
    "- Sample mean = 495  \n",
    "- Population mean = 500  \n",
    "- σ = 20  \n",
    "- n = 50  \n",
    "\n",
    "Z = (495 - 500) / (20 / √50) ≈ -1.77\n",
    "\n",
    "Critical z-values for 95% CI: ±1.96 → Since -1.77 is within range, **Fail to Reject H0**\n"
   ]
  },
  {
   "cell_type": "code",
   "execution_count": 17,
   "id": "24600553",
   "metadata": {},
   "outputs": [
    {
     "ename": "ModuleNotFoundError",
     "evalue": "No module named 'statsmodels'",
     "output_type": "error",
     "traceback": [
      "\u001b[31m---------------------------------------------------------------------------\u001b[39m",
      "\u001b[31mModuleNotFoundError\u001b[39m                       Traceback (most recent call last)",
      "\u001b[36mCell\u001b[39m\u001b[36m \u001b[39m\u001b[32mIn[17]\u001b[39m\u001b[32m, line 3\u001b[39m\n\u001b[32m      1\u001b[39m \u001b[38;5;66;03m# Python Example (Z-Test):\u001b[39;00m\n\u001b[32m----> \u001b[39m\u001b[32m3\u001b[39m \u001b[38;5;28;01mimport\u001b[39;00m\u001b[38;5;250m \u001b[39m\u001b[34;01mstatsmodels\u001b[39;00m\u001b[34;01m.\u001b[39;00m\u001b[34;01mstats\u001b[39;00m\u001b[34;01m.\u001b[39;00m\u001b[34;01mweightstats\u001b[39;00m\u001b[38;5;250m \u001b[39m\u001b[38;5;28;01mas\u001b[39;00m\u001b[38;5;250m \u001b[39m\u001b[34;01mstests\u001b[39;00m\n\u001b[32m      5\u001b[39m data = [\u001b[32m495\u001b[39m] * \u001b[32m50\u001b[39m  \u001b[38;5;66;03m# simulate sample\u001b[39;00m\n\u001b[32m      6\u001b[39m ztest, pval = stests.ztest(data, value=\u001b[32m500\u001b[39m)\n",
      "\u001b[31mModuleNotFoundError\u001b[39m: No module named 'statsmodels'"
     ]
    }
   ],
   "source": [
    "# Python Example (Z-Test):\n",
    "\n",
    "import statsmodels.stats.weightstats as stests\n",
    "\n",
    "data = [495] * 50  # simulate sample\n",
    "ztest, pval = stests.ztest(data, value=500)\n",
    "print(\"Z-statistic:\", ztest)\n",
    "print(\"P-value:\", pval)\n"
   ]
  },
  {
   "cell_type": "markdown",
   "id": "8f358534",
   "metadata": {},
   "source": [
    "## T-Test (One-Sample)\n",
    "\n",
    "A T-test is a statistical test used to determine whether the mean of a sample differs significantly from a known or assumed population mean.\n",
    "\n",
    "---\n",
    "\n",
    "## When to Use a T-Test?\n",
    "\n",
    "Use a **T-test** when:\n",
    "- The **sample size is small (n < 30)**\n",
    "- The **population standard deviation is unknown**\n",
    "- Data is approximately normally distributed\n",
    "\n",
    "It uses the **Student’s t-distribution**, which has heavier tails than the normal distribution to account for more variability in small samples.\n",
    "\n",
    "\n",
    "\n",
    "**Formula**\n",
    "\n",
    "t = (x̄ - μ) / (s / √n)\n",
    "\n",
    "Where:\n",
    "- x̄ = sample mean  \n",
    "- μ = population mean  \n",
    "- s = sample standard deviation  \n",
    "- n = sample size\n",
    "\n",
    "\n",
    "\n",
    "**Manual Example**\n",
    "\n",
    "Suppose a teacher claims the average score is 70. We want to test this claim using the following 10 student scores:\n",
    "\n",
    "[72, 75, 68, 70, 69, 74, 73, 71, 67, 76]\n",
    "\n",
    "- H0: μ = 70 (No difference)\n",
    "- H1: μ ≠ 70 (There is a difference)\n",
    "- Significance level = 0.05\n",
    "\n",
    "Steps:\n",
    "1. Calculate sample mean and standard deviation.\n",
    "2. Plug values into the t formula.\n",
    "3. Compare the result with the critical value from the t-distribution table.\n",
    "4. Or simply calculate the p-value.\n"
   ]
  },
  {
   "cell_type": "code",
   "execution_count": 18,
   "id": "5e6f885a",
   "metadata": {},
   "outputs": [
    {
     "name": "stdout",
     "output_type": "stream",
     "text": [
      "T-statistic: 1.5666989036012806\n",
      "P-value: 0.1516274744876827\n",
      "Fail to Reject Null Hypothesis\n"
     ]
    }
   ],
   "source": [
    "\n",
    "from scipy import stats\n",
    "\n",
    "scores = [72, 75, 68, 70, 69, 74, 73, 71, 67, 76]\n",
    "t_stat, p_val = stats.ttest_1samp(scores, 70)\n",
    "\n",
    "print(\"T-statistic:\", t_stat)\n",
    "print(\"P-value:\", p_val)\n",
    "\n",
    "if p_val < 0.05:\n",
    "    print(\"Reject Null Hypothesis\")\n",
    "else:\n",
    "    print(\"Fail to Reject Null Hypothesis\")\n"
   ]
  },
  {
   "cell_type": "markdown",
   "id": "3c005700",
   "metadata": {},
   "source": [
    "## Interpretation\n",
    "- If p-value < 0.05 → Reject H0 → There is a statistically significant difference.\n",
    "\n",
    "- If p-value ≥ 0.05 → Fail to reject H0 → No significant difference.\n",
    "\n"
   ]
  },
  {
   "cell_type": "markdown",
   "id": "7853e097",
   "metadata": {},
   "source": [
    "## When to Use Other Types of T-Tests?\n",
    "- One-sample T-test: Compare sample mean to known value (as shown above)\n",
    "\n",
    "- Two-sample T-test: Compare means of two independent groups\n",
    "\n",
    "- Paired T-test: Compare means from the same group at different times\n",
    "\n"
   ]
  },
  {
   "cell_type": "markdown",
   "id": "8d5940a8",
   "metadata": {},
   "source": [
    "**Summary**\n",
    "- T-tests are powerful tools for small-sample inference.\n",
    "\n",
    "- Always check whether your data meets assumptions (normality, independence).\n",
    "\n",
    "- Use one-sample t-tests when comparing a group mean to a known or target value."
   ]
  },
  {
   "cell_type": "markdown",
   "id": "0362d3dc",
   "metadata": {},
   "source": [
    "# Confidence Intervals\n",
    "\n",
    "A confidence interval gives a range of values that is likely to contain a population parameter (such as the mean) with a certain level of confidence (e.g., 95%).\n",
    "\n",
    "\n",
    "## Definition and Purpose\n",
    "\n",
    "- A **Confidence Interval (CI)** estimates the range in which the true population mean likely falls.\n",
    "- It is expressed as:\n",
    "\n",
    " CI = x̄ ± z * (s / √n)\n"
   ]
  },
  {
   "cell_type": "markdown",
   "id": "77d3fcc0",
   "metadata": {},
   "source": [
    "\n",
    "Where:\n",
    "- x̄ = sample mean  \n",
    "- z = z-score for the desired confidence level (e.g., 1.96 for 95%)  \n",
    "- s = sample standard deviation  \n",
    "- n = sample size  \n",
    "\n",
    "- The **confidence level** (commonly 90%, 95%, or 99%) tells how sure we are the true mean lies within the range.\n",
    "\n",
    "\n",
    "\n",
    "## Manual Calculation Example\n",
    "\n",
    "Let’s say we have the following:\n",
    "\n",
    "- Sample mean (x̄) = 100  \n",
    "- Sample standard deviation (s) = 15  \n",
    "- Sample size (n) = 25  \n",
    "- Confidence level = 95% → z = 1.96\n",
    "\n",
    "**Step-by-step**:\n",
    "\n",
    "1. Calculate standard error (SE):  \n",
    "   SE = s / √n = 15 / √25 = 15 / 5 = 3\n",
    "\n",
    "2. Calculate margin of error (ME):  \n",
    "   ME = z * SE = 1.96 * 3 = 5.88\n",
    "\n",
    "3. Calculate confidence interval:  \n",
    "   CI = 100 ± 5.88 → [94.12, 105.88]\n",
    "\n",
    "Interpretation: We are 95% confident that the true population mean lies between 94.12 and 105.88.\n"
   ]
  },
  {
   "cell_type": "code",
   "execution_count": 19,
   "id": "1e3e7572",
   "metadata": {},
   "outputs": [
    {
     "name": "stdout",
     "output_type": "stream",
     "text": [
      "Sample Mean: 100.0\n",
      "95% Confidence Interval: (np.float64(98.56928618802333), np.float64(101.43071381197667))\n"
     ]
    }
   ],
   "source": [
    "import numpy as np\n",
    "import scipy.stats as stats\n",
    "\n",
    "sample = [100, 102, 98, 101, 97, 99, 100, 102, 98, 103]\n",
    "\n",
    "mean = np.mean(sample)\n",
    "std_err = stats.sem(sample)  # Standard Error\n",
    "confidence_level = 0.95\n",
    "\n",
    "# t-distribution CI since sample std dev is used\n",
    "ci = stats.t.interval(confidence_level, len(sample)-1, loc=mean, scale=std_err)\n",
    "\n",
    "print(\"Sample Mean:\", mean)\n",
    "print(\"95% Confidence Interval:\", ci)"
   ]
  },
  {
   "cell_type": "markdown",
   "id": "8dbf3631",
   "metadata": {},
   "source": [
    "# ANOVA (Analysis of Variance)\n",
    "\n",
    "**ANOVA (Analysis of Variance)** is a statistical method used to compare the means of **three or more independent groups** to determine if at least one group mean is significantly different from the others.\n",
    "\n",
    "\n",
    "\n",
    "## Why Use ANOVA?\n",
    "\n",
    "- When you have **more than two groups**, doing multiple t-tests increases the risk of Type I error (false positive).\n",
    "- ANOVA solves this by testing **all group means simultaneously** with **just one test**.\n",
    "\n",
    "\n",
    "## Example Scenario\n",
    "\n",
    "Suppose you are testing the effect of three different diets on weight loss.\n",
    "\n",
    "- Group A: High protein  \n",
    "- Group B: Low fat  \n",
    "- Group C: Balanced diet  \n",
    "\n",
    "You want to know: **Do these diets lead to different average weight losses?**\n",
    "\n",
    "Instead of comparing A vs B, A vs C, and B vs C with multiple t-tests, you run **one ANOVA test** to check if there's a significant difference **among all three groups**.\n",
    "\n",
    "\n",
    "\n",
    "## What ANOVA Tells You\n",
    "\n",
    "- **Null Hypothesis (H0)**: All group means are equal  \n",
    "- **Alternative Hypothesis (H1)**: At least one group mean is different\n",
    "\n",
    "If the p-value < 0.05, we reject H0 → This means **at least one group is significantly different**.\n",
    "\n",
    "\n",
    "\n",
    "## Important Notes\n",
    "\n",
    "- ANOVA tells you **if there’s a difference**, but **not which groups are different**.  \n",
    "- If ANOVA is significant, we follow it with **post-hoc tests** (like Tukey’s test) to find where the differences lie.\n",
    "\n"
   ]
  },
  {
   "cell_type": "code",
   "execution_count": 20,
   "id": "8c662e06",
   "metadata": {},
   "outputs": [
    {
     "name": "stdout",
     "output_type": "stream",
     "text": [
      "F-statistic: 0.01565364546608377\n",
      "p-value: 0.9844949778346346\n"
     ]
    }
   ],
   "source": [
    "import scipy.stats as stats\n",
    "\n",
    "group1 = [23, 45, 67, 89]\n",
    "group2 = [24, 47, 69, 90]\n",
    "group3 = [22, 43, 66, 85]\n",
    "\n",
    "f_stat, p_val = stats.f_oneway(group1, group2, group3)\n",
    "print(\"F-statistic:\", f_stat)\n",
    "print(\"p-value:\", p_val)"
   ]
  },
  {
   "cell_type": "markdown",
   "id": "0d37a69f",
   "metadata": {},
   "source": [
    "## Summary\n",
    "\n",
    "Use ANOVA when:\n",
    "- You want to compare **three or more group means**\n",
    "- Your data is continuous and normally distributed\n",
    "- The groups are independent and have roughly equal variances\n",
    "\n",
    "ANOVA is commonly used in experiments, A/B testing, clinical trials, and machine learning model comparison."
   ]
  },
  {
   "cell_type": "markdown",
   "id": "38cf4aba",
   "metadata": {},
   "source": [
    "# Chi-Square Test\n",
    "\n",
    "The **Chi-Square Test** is a statistical test used to determine whether there is a **significant association between two categorical variables**.\n",
    "\n",
    "\n",
    "## Why Use a Chi-Square Test?\n",
    "\n",
    "Use it when:\n",
    "- Your data is **categorical** (e.g., gender, preferences, yes/no, types)\n",
    "- You want to know if two variables are **independent** or **related**\n",
    "\n",
    "It compares the **observed frequencies** (what actually happened) with the **expected frequencies** (what you would expect if there were no association).\n",
    "\n",
    "\n",
    "## Types of Chi-Square Tests\n",
    "\n",
    "1. **Chi-Square Test of Independence**  \n",
    "   - Used to check if two categorical variables are related.\n",
    "   - Example: Is there a relationship between gender and product preference?\n",
    "\n",
    "2. **Chi-Square Goodness-of-Fit Test**  \n",
    "   - Used to check if an observed distribution fits a theoretical one.\n",
    "   - Example: Do coin toss outcomes match the expected 50-50 split?\n",
    "\n",
    "\n",
    "\n",
    "## Example Scenario\n",
    "\n",
    "You survey 100 people about their favorite ice cream flavor (Vanilla, Chocolate, Strawberry) and also note their gender.\n",
    "\n",
    "You want to know:  \n",
    "**Is ice cream preference related to gender?**\n",
    "\n",
    "You organize the responses in a contingency table, then run a **Chi-Square Test of Independence**.\n",
    "\n",
    "\n",
    "\n",
    "## What Chi-Square Tells You\n",
    "\n",
    "- **Null Hypothesis (H0)**: The two variables are independent (no association)\n",
    "- **Alternative Hypothesis (H1)**: The two variables are dependent (there is an association)\n",
    "\n",
    "If the p-value < 0.05 → You reject H0 → There is a significant relationship between the two variables.\n"
   ]
  },
  {
   "cell_type": "code",
   "execution_count": 21,
   "id": "7e89c7be",
   "metadata": {},
   "outputs": [
    {
     "name": "stdout",
     "output_type": "stream",
     "text": [
      "Chi2 Statistic: 15.041666666666666\n",
      "p-value: 0.00010516355403363098\n"
     ]
    }
   ],
   "source": [
    "import pandas as pd\n",
    "import scipy.stats as stats\n",
    "\n",
    "data = [[30, 10], [20, 40]]\n",
    "chi2, p, dof, expected = stats.chi2_contingency(data)\n",
    "print(\"Chi2 Statistic:\", chi2)\n",
    "print(\"p-value:\", p)"
   ]
  },
  {
   "cell_type": "markdown",
   "id": "7aaf4b79",
   "metadata": {},
   "source": [
    "## Summary\n",
    "\n",
    "Use the Chi-Square Test when:\n",
    "- You are working with **categorical data**\n",
    "- You want to check **relationships between variables**\n",
    "- You have data organized in a **contingency table**\n",
    "\n",
    "Chi-Square is often used in:\n",
    "- Market research (e.g., preference vs region)\n",
    "- Medical studies (e.g., treatment vs recovery)\n",
    "- A/B testing (e.g., version A vs B click-through rates)\n"
   ]
  },
  {
   "cell_type": "markdown",
   "id": "60c0539a",
   "metadata": {},
   "source": [
    "# Correlation\n",
    "\n",
    "**Correlation** is a statistical measure that describes the **strength** and **direction** of a relationship between two numerical (continuous) variables.\n",
    "\n",
    "\n",
    "\n",
    "## Key Points\n",
    "\n",
    "- Correlation values range from **-1 to +1**.\n",
    "\n",
    "| Correlation Value | Meaning                        |\n",
    "|-------------------|--------------------------------|\n",
    "| +1                | Perfect positive correlation   |\n",
    "|  0                | No correlation                 |\n",
    "| -1                | Perfect negative correlation   |\n",
    "\n",
    "- A **positive correlation** means that as one variable increases, the other tends to increase as well.\n",
    "- A **negative correlation** means that as one variable increases, the other tends to decrease.\n",
    "- A **zero correlation** means there is no relationship between the two variables.\n",
    "\n",
    "\n",
    "\n",
    "## Example Interpretations\n",
    "\n",
    "- Height and weight: **Positive correlation** (taller people tend to weigh more)\n",
    "- Exercise time and body fat: **Negative correlation** (more exercise, less fat)\n",
    "- Roll of a dice and day of the week: **No correlation**\n",
    "\n",
    "\n",
    "\n",
    "## Important Notes\n",
    "\n",
    "- Correlation **does not imply causation**.\n",
    "  - Just because two variables move together doesn’t mean one causes the other.\n",
    "- Correlation is useful for:\n",
    "  - **Feature selection** in machine learning\n",
    "  - **Detecting multicollinearity**\n",
    "  - **Exploratory Data Analysis (EDA)**\n"
   ]
  },
  {
   "cell_type": "code",
   "execution_count": 22,
   "id": "fb3244d5",
   "metadata": {},
   "outputs": [
    {
     "name": "stdout",
     "output_type": "stream",
     "text": [
      "Correlation Matrix:\n",
      " [[1.         0.77459667]\n",
      " [0.77459667 1.        ]]\n"
     ]
    }
   ],
   "source": [
    "import numpy as np\n",
    "x = [1, 2, 3, 4, 5]\n",
    "y = [2, 4, 5, 4, 5]\n",
    "correlation = np.corrcoef(x, y)\n",
    "print(\"Correlation Matrix:\\n\", correlation)"
   ]
  },
  {
   "cell_type": "markdown",
   "id": "96a49fd5",
   "metadata": {},
   "source": [
    "## Summary\n",
    "\n",
    "Use correlation to:\n",
    "- Measure how strongly two variables are related\n",
    "- Understand relationships before modeling\n",
    "- Choose or remove features in machine learning\n"
   ]
  },
  {
   "cell_type": "markdown",
   "id": "c76d9c89",
   "metadata": {},
   "source": [
    "# Linear Regression\n",
    "\n",
    "Linear Regression is one of the most fundamental and widely used algorithms in statistics and machine learning. It helps us understand the **relationship between two variables** by fitting a straight line through the data.\n",
    "\n",
    "\n",
    "\n",
    "## Introduction to Regression\n",
    "\n",
    "**Regression** is a predictive modeling technique that estimates the relationship between a **dependent variable (target)** and one or more **independent variables (features)**.\n",
    "\n",
    "In **Simple Linear Regression**, we predict the dependent variable (Y) using just one independent variable (X).\n",
    "\n",
    "The model assumes a linear relationship:\n",
    "Y = mX + c\n",
    "\n",
    "Where:\n",
    "- Y = predicted value (dependent variable)\n",
    "- X = input variable (independent variable)\n",
    "- m = slope of the line\n",
    "- c = y-intercept\n",
    "Use Cases of Linear Regression\n",
    "\n",
    "- Predicting sales based on advertising spend\n",
    "- Estimating house prices based on size\n",
    "- Predicting temperature based on time of day\n",
    "\n",
    "Simple Linear Regression Example\n",
    "\n",
    "Imagine we have data showing how the number of study hours affects exam scores:\n",
    "\n",
    "| Hours | Score |\n",
    "|-------|-------|\n",
    "|   1   |  50   |\n",
    "|   2   |  55   |\n",
    "|   3   |  65   |\n",
    "|   4   |  70   |\n",
    "|   5   |  75   |\n",
    "\n",
    "We can use linear regression to **fit a line** that predicts score based on hours studied.\n",
    "\n",
    "\n"
   ]
  },
  {
   "cell_type": "code",
   "execution_count": 23,
   "id": "e8053b8b",
   "metadata": {},
   "outputs": [
    {
     "data": {
      "image/png": "[encoded data removed]",
      "text/plain": [
       "<Figure size 500x500 with 1 Axes>"
      ]
     },
     "metadata": {},
     "output_type": "display_data"
    }
   ],
   "source": [
    "import pandas as pd\n",
    "import seaborn as sns\n",
    "import matplotlib.pyplot as plt\n",
    "\n",
    "# Sample data\n",
    "data = {\n",
    "    'Hours': [1, 2, 3, 4, 5],\n",
    "    'Score': [50, 55, 65, 70, 75]\n",
    "}\n",
    "df = pd.DataFrame(data)\n",
    "\n",
    "# Create a linear regression plot\n",
    "sns.lmplot(x='Hours', y='Score', data=df)\n",
    "plt.title(\"Simple Linear Regression\")\n",
    "plt.xlabel(\"Hours Studied\")\n",
    "plt.ylabel(\"Exam Score\")\n",
    "plt.show()"
   ]
  },
  {
   "cell_type": "markdown",
   "id": "c8224eab",
   "metadata": {},
   "source": [
    "## Summary\n",
    "- Linear regression models the relationship between two variables using a straight line.\n",
    "\n",
    "- It’s easy to interpret and fast to compute.\n",
    "\n",
    "- Commonly used for prediction, trend analysis, and feature importance.\n",
    "\n"
   ]
  },
  {
   "cell_type": "markdown",
   "id": "774ab2b1",
   "metadata": {},
   "source": [
    "# Multiple Linear Regression and Model Evaluation\n",
    "\n",
    "\n",
    "\n",
    "## What is Multiple Linear Regression?\n",
    "\n",
    "**Multiple Linear Regression** is an extension of simple linear regression. Instead of using one independent variable (X), it uses **two or more** variables to predict the dependent variable (Y).\n",
    "\n",
    "**Equation:**\n",
    "Y = b0 + b1X1 + b2X2 + ... + bn*Xn\n",
    "\n",
    "Where:\n",
    "- Y = target variable (dependent)\n",
    "- X1, X2, ..., Xn = input variables (independent)\n",
    "- b0 = intercept\n",
    "- b1, b2, ..., bn = coefficients\n",
    "\n",
    "\n",
    "## When to Use It?\n",
    "\n",
    "Use multiple linear regression when:\n",
    "- The outcome depends on more than one factor\n",
    "- You want to evaluate the impact of multiple variables at once\n",
    "\n",
    "\n",
    "\n",
    "## Example Scenario\n",
    "\n",
    "You want to predict the **house price** based on:\n",
    "- Square footage\n",
    "- Number of bedrooms\n",
    "- Age of the house\n",
    "\n",
    "\n"
   ]
  },
  {
   "cell_type": "code",
   "execution_count": 24,
   "id": "4fe72424",
   "metadata": {},
   "outputs": [
    {
     "name": "stdout",
     "output_type": "stream",
     "text": [
      "Intercept: 100000.00000000047\n",
      "Coefficients: [ 1.00000000e+02  5.00000000e+04 -1.45519152e-11]\n"
     ]
    }
   ],
   "source": [
    "import pandas as pd\n",
    "from sklearn.linear_model import LinearRegression\n",
    "from sklearn.metrics import mean_absolute_error, mean_squared_error, r2_score\n",
    "\n",
    "# Example dataset\n",
    "data = {\n",
    "    'Area': [1000, 1500, 1700, 1300, 1600],\n",
    "    'Bedrooms': [2, 3, 3, 2, 3],\n",
    "    'Age': [10, 5, 3, 8, 4],\n",
    "    'Price': [300000, 400000, 420000, 330000, 410000]\n",
    "}\n",
    "df = pd.DataFrame(data)\n",
    "\n",
    "# Features and target\n",
    "X = df[['Area', 'Bedrooms', 'Age']]\n",
    "y = df['Price']\n",
    "\n",
    "# Train model\n",
    "model = LinearRegression()\n",
    "model.fit(X, y)\n",
    "\n",
    "# Predict\n",
    "predictions = model.predict(X)\n",
    "# Show coefficients\n",
    "print(\"Intercept:\", model.intercept_)\n",
    "print(\"Coefficients:\", model.coef_)"
   ]
  },
  {
   "cell_type": "markdown",
   "id": "25b06108",
   "metadata": {},
   "source": [
    "## Evaluation Metrics for Regression\n",
    "After fitting a regression model, we use evaluation metrics to assess how well the model is performing.\n",
    "\n",
    "### R² Score (Coefficient of Determination)\n",
    "- Indicates how much of the variance in Y is explained by X\n",
    "\n",
    "- Value ranges from 0 to 1 (higher is better)"
   ]
  },
  {
   "cell_type": "code",
   "execution_count": 26,
   "id": "de42f661",
   "metadata": {},
   "outputs": [
    {
     "name": "stdout",
     "output_type": "stream",
     "text": [
      "R² Score: 1.0\n"
     ]
    }
   ],
   "source": [
    "r2 = r2_score(y, predictions)\n",
    "print(\"R² Score:\", r2)"
   ]
  },
  {
   "cell_type": "markdown",
   "id": "6cf9ee48",
   "metadata": {},
   "source": [
    "### Mean Absolute Error (MAE)\n",
    "- Average of absolute errors between predicted and actual values\n",
    "\n",
    "- Lower MAE means better accuracy"
   ]
  },
  {
   "cell_type": "code",
   "execution_count": 27,
   "id": "5f3337c3",
   "metadata": {},
   "outputs": [
    {
     "name": "stdout",
     "output_type": "stream",
     "text": [
      "Mean Absolute Error: 6.984919309616089e-11\n"
     ]
    }
   ],
   "source": [
    "mae = mean_absolute_error(y, predictions)\n",
    "print(\"Mean Absolute Error:\", mae)"
   ]
  },
  {
   "cell_type": "markdown",
   "id": "8077a817",
   "metadata": {},
   "source": [
    "## Summary\n",
    "- Multiple Linear Regression is used when there are multiple input features.\n",
    "\n",
    "- Always evaluate the model using metrics like R², MAE, and MSE.\n",
    "\n",
    "- Higher R² and lower MAE/MSE indicate a better-performing regression model.\n"
   ]
  }
 ],
 "metadata": {
  "kernelspec": {
   "display_name": "Python 3",
   "language": "python",
   "name": "python3"
  },
  "language_info": {
   "codemirror_mode": {
    "name": "ipython",
    "version": 3
   },
   "file_extension": ".py",
   "mimetype": "text/x-python",
   "name": "python",
   "nbconvert_exporter": "python",
   "pygments_lexer": "ipython3",
   "version": "3.13.3"
  }
 },
 "nbformat": 4,
 "nbformat_minor": 5
}
