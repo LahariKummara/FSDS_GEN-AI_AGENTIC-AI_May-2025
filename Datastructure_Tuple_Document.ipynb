{
 "cells": [
  {
   "cell_type": "markdown",
   "id": "103e0aac-50e8-4d8a-898e-b0ae085e0254",
   "metadata": {},
   "source": [
    "# TUPLE CREATION"
   ]
  },
  {
   "cell_type": "code",
   "execution_count": 6,
   "id": "f507cb0f-c2f5-4991-9e36-6c6d7a7f9a04",
   "metadata": {},
   "outputs": [],
   "source": [
    "tup=() # Empty tuple"
   ]
  },
  {
   "cell_type": "code",
   "execution_count": 16,
   "id": "5f6728e6-a48f-4b16-999d-53bd435629b8",
   "metadata": {},
   "outputs": [],
   "source": [
    "tup1=(10,20,30) # tuple of integer numbers"
   ]
  },
  {
   "cell_type": "code",
   "execution_count": 20,
   "id": "269bbd0e-5142-4446-a641-4e7d4dc37e3c",
   "metadata": {},
   "outputs": [],
   "source": [
    "tup2=(4.7,5.0,6.9) # tuple of float numbers"
   ]
  },
  {
   "cell_type": "code",
   "execution_count": 22,
   "id": "d969e1f8-b0e9-49cd-b395-d51c27184724",
   "metadata": {},
   "outputs": [],
   "source": [
    "tup3=('one','two','three') # tuple of strings"
   ]
  },
  {
   "cell_type": "code",
   "execution_count": 24,
   "id": "5c5a9748-df4f-4183-836e-5dacbe078673",
   "metadata": {},
   "outputs": [],
   "source": [
    "tup4=('Lahari',(1,2,3),(8,9,3)) # Nested tuples"
   ]
  },
  {
   "cell_type": "code",
   "execution_count": 26,
   "id": "aa7ae6c4-b1b2-497c-b060-f57594c728e2",
   "metadata": {},
   "outputs": [],
   "source": [
    "tup5=(38,7.2,'One',True,) # mixed datatypes"
   ]
  },
  {
   "cell_type": "code",
   "execution_count": 28,
   "id": "2186d218-1683-4ed1-9099-0db0eec20450",
   "metadata": {},
   "outputs": [],
   "source": [
    "tup6=('lahari',29,[56,78],[90,67],{'one','two'},(45,35)) "
   ]
  },
  {
   "cell_type": "code",
   "execution_count": 30,
   "id": "c7571fba-f4ea-4920-8ca9-3abc9cc0e950",
   "metadata": {},
   "outputs": [
    {
     "data": {
      "text/plain": [
       "6"
      ]
     },
     "execution_count": 30,
     "metadata": {},
     "output_type": "execute_result"
    }
   ],
   "source": [
    "len(tup6) # length of list"
   ]
  },
  {
   "cell_type": "markdown",
   "id": "2392dfc0-bfba-4421-a471-1c34a6a5d340",
   "metadata": {},
   "source": [
    "# Tuple Indexing"
   ]
  },
  {
   "cell_type": "code",
   "execution_count": 37,
   "id": "4a976409-1b7e-4bc7-b76e-6d3e58f97220",
   "metadata": {},
   "outputs": [
    {
     "data": {
      "text/plain": [
       "(38, 7.2, 'One', True)"
      ]
     },
     "execution_count": 37,
     "metadata": {},
     "output_type": "execute_result"
    }
   ],
   "source": [
    "tup5 # whole list "
   ]
  },
  {
   "cell_type": "code",
   "execution_count": 33,
   "id": "6c81b08e-9643-4d29-9a9d-0b88592b8446",
   "metadata": {},
   "outputs": [
    {
     "data": {
      "text/plain": [
       "38"
      ]
     },
     "execution_count": 33,
     "metadata": {},
     "output_type": "execute_result"
    }
   ],
   "source": [
    "tup5[0] # retrieve first element of tuple"
   ]
  },
  {
   "cell_type": "code",
   "execution_count": 35,
   "id": "8046a38f-b4d6-4425-99d5-cdb5bdfbcbe1",
   "metadata": {},
   "outputs": [
    {
     "data": {
      "text/plain": [
       "True"
      ]
     },
     "execution_count": 35,
     "metadata": {},
     "output_type": "execute_result"
    }
   ],
   "source": [
    "tup5[3] # retrieve element at index location 3 "
   ]
  },
  {
   "cell_type": "code",
   "execution_count": 39,
   "id": "56f952c0-8f66-4e65-9c01-25b504df3522",
   "metadata": {},
   "outputs": [
    {
     "data": {
      "text/plain": [
       "'t'"
      ]
     },
     "execution_count": 39,
     "metadata": {},
     "output_type": "execute_result"
    }
   ],
   "source": [
    "tup3[1][0] # nested indexing - access the first character of the first  tuple element "
   ]
  },
  {
   "cell_type": "code",
   "execution_count": 41,
   "id": "3cc45f90-0c57-4c82-84a9-de02da34dda8",
   "metadata": {},
   "outputs": [
    {
     "data": {
      "text/plain": [
       "True"
      ]
     },
     "execution_count": 41,
     "metadata": {},
     "output_type": "execute_result"
    }
   ],
   "source": [
    "tup5[-1] # retrieve last element of the tuple"
   ]
  },
  {
   "cell_type": "markdown",
   "id": "e1c4f4eb-f168-4905-aedb-a2e4ccb0f9d7",
   "metadata": {},
   "source": [
    "# Tuple slicing"
   ]
  },
  {
   "cell_type": "code",
   "execution_count": 44,
   "id": "6e82d484-e54c-462c-8b32-02db4301ce0d",
   "metadata": {},
   "outputs": [
    {
     "data": {
      "text/plain": [
       "(38, 7.2, 'One', True)"
      ]
     },
     "execution_count": 44,
     "metadata": {},
     "output_type": "execute_result"
    }
   ],
   "source": [
    "tup5 # return whole tuple"
   ]
  },
  {
   "cell_type": "code",
   "execution_count": 46,
   "id": "8844669a-3ac9-47c0-89a2-0c020226fd33",
   "metadata": {},
   "outputs": [
    {
     "data": {
      "text/plain": [
       "(38, 7.2, 'One')"
      ]
     },
     "execution_count": 46,
     "metadata": {},
     "output_type": "execute_result"
    }
   ],
   "source": [
    "tup5[0:3] # return all the elements from 0th to 3rd index location excluding the element at index loaction 3 "
   ]
  },
  {
   "cell_type": "code",
   "execution_count": 48,
   "id": "0f41603b-830b-4623-9bf3-905a0074df11",
   "metadata": {},
   "outputs": [
    {
     "data": {
      "text/plain": [
       "('One', True)"
      ]
     },
     "execution_count": 48,
     "metadata": {},
     "output_type": "execute_result"
    }
   ],
   "source": [
    "tup5[2:6] # return all the elements from 0th to 6th index location excluding the element at index location 6"
   ]
  },
  {
   "cell_type": "code",
   "execution_count": 50,
   "id": "e750bad1-acca-4672-ae2d-ff024a3ba805",
   "metadata": {},
   "outputs": [
    {
     "data": {
      "text/plain": [
       "(38, 7.2)"
      ]
     },
     "execution_count": 50,
     "metadata": {},
     "output_type": "execute_result"
    }
   ],
   "source": [
    "tup5[:2] # returns first two elements"
   ]
  },
  {
   "cell_type": "code",
   "execution_count": 54,
   "id": "46ebd56a-bc8b-463e-99ca-7d538fb5db32",
   "metadata": {},
   "outputs": [
    {
     "data": {
      "text/plain": [
       "('One', True)"
      ]
     },
     "execution_count": 54,
     "metadata": {},
     "output_type": "execute_result"
    }
   ],
   "source": [
    "tup5[2:] # returns the last two elements"
   ]
  },
  {
   "cell_type": "code",
   "execution_count": 56,
   "id": "69115313-1e52-4ac7-8e6e-84d9e281d8f9",
   "metadata": {},
   "outputs": [
    {
     "data": {
      "text/plain": [
       "('One', True)"
      ]
     },
     "execution_count": 56,
     "metadata": {},
     "output_type": "execute_result"
    }
   ],
   "source": [
    "tup5[-2:] # returns the last two elements"
   ]
  },
  {
   "cell_type": "code",
   "execution_count": 58,
   "id": "279b74c6-720a-477e-9fe2-413bd13e9aab",
   "metadata": {},
   "outputs": [
    {
     "data": {
      "text/plain": [
       "(True,)"
      ]
     },
     "execution_count": 58,
     "metadata": {},
     "output_type": "execute_result"
    }
   ],
   "source": [
    "tup5[-1:] # retruns the last element of the tuple"
   ]
  },
  {
   "cell_type": "markdown",
   "id": "1476970e-3744-48e2-b47c-d613a2da590d",
   "metadata": {},
   "source": [
    "# Remove & Change Elements"
   ]
  },
  {
   "cell_type": "code",
   "execution_count": 88,
   "id": "6a5b8d13-6088-46ea-a1cf-99be2e4da443",
   "metadata": {},
   "outputs": [
    {
     "ename": "NameError",
     "evalue": "name 'tup1' is not defined",
     "output_type": "error",
     "traceback": [
      "\u001b[1;31m---------------------------------------------------------------------------\u001b[0m",
      "\u001b[1;31mNameError\u001b[0m                                 Traceback (most recent call last)",
      "Cell \u001b[1;32mIn[88], line 1\u001b[0m\n\u001b[1;32m----> 1\u001b[0m \u001b[38;5;28;01mdel\u001b[39;00m tup1[\u001b[38;5;241m0\u001b[39m]\n",
      "\u001b[1;31mNameError\u001b[0m: name 'tup1' is not defined"
     ]
    }
   ],
   "source": [
    "del tup1[0] # Tuples are immutable which means can't delete the tuple elements\n",
    " "
   ]
  },
  {
   "cell_type": "code",
   "execution_count": 90,
   "id": "3dc945cc-a88b-471c-b106-678193db0eb6",
   "metadata": {},
   "outputs": [
    {
     "ename": "NameError",
     "evalue": "name 'tup1' is not defined",
     "output_type": "error",
     "traceback": [
      "\u001b[1;31m---------------------------------------------------------------------------\u001b[0m",
      "\u001b[1;31mNameError\u001b[0m                                 Traceback (most recent call last)",
      "Cell \u001b[1;32mIn[90], line 1\u001b[0m\n\u001b[1;32m----> 1\u001b[0m tup1[\u001b[38;5;241m0\u001b[39m]\u001b[38;5;241m=\u001b[39m\u001b[38;5;241m37\u001b[39m\n",
      "\u001b[1;31mNameError\u001b[0m: name 'tup1' is not defined"
     ]
    }
   ],
   "source": [
    "tup1[0]=37 # Tuples are immutable which means can't change tuple elements"
   ]
  },
  {
   "cell_type": "code",
   "execution_count": 92,
   "id": "6e1ad23a-3fb6-429b-93b6-510cba791880",
   "metadata": {},
   "outputs": [
    {
     "ename": "NameError",
     "evalue": "name 'tup1' is not defined",
     "output_type": "error",
     "traceback": [
      "\u001b[1;31m---------------------------------------------------------------------------\u001b[0m",
      "\u001b[1;31mNameError\u001b[0m                                 Traceback (most recent call last)",
      "Cell \u001b[1;32mIn[92], line 1\u001b[0m\n\u001b[1;32m----> 1\u001b[0m \u001b[38;5;28;01mdel\u001b[39;00m tup1\n",
      "\u001b[1;31mNameError\u001b[0m: name 'tup1' is not defined"
     ]
    }
   ],
   "source": [
    "del tup1 # deleting the whole tuple is possible"
   ]
  },
  {
   "cell_type": "markdown",
   "id": "c220c370-befe-40e7-af73-fad0d041b7de",
   "metadata": {},
   "source": [
    "# Loop through a tuple"
   ]
  },
  {
   "cell_type": "code",
   "execution_count": 95,
   "id": "57f3b49a-00c8-4718-a4d6-5258c8e46db1",
   "metadata": {},
   "outputs": [
    {
     "data": {
      "text/plain": [
       "(38, 7.2, 'One', True)"
      ]
     },
     "execution_count": 95,
     "metadata": {},
     "output_type": "execute_result"
    }
   ],
   "source": [
    "tup5"
   ]
  },
  {
   "cell_type": "code",
   "execution_count": 97,
   "id": "9103d1e1-3d78-4ff3-b82a-b1b4cb6fd202",
   "metadata": {},
   "outputs": [
    {
     "name": "stdout",
     "output_type": "stream",
     "text": [
      "38\n",
      "7.2\n",
      "One\n",
      "True\n"
     ]
    }
   ],
   "source": [
    "for i in tup5:\n",
    "    print(i)"
   ]
  },
  {
   "cell_type": "code",
   "execution_count": 99,
   "id": "3bcbb793-9e8c-4370-89d6-e3fe91fa5f73",
   "metadata": {},
   "outputs": [
    {
     "name": "stdout",
     "output_type": "stream",
     "text": [
      "(0, 38)\n",
      "(1, 7.2)\n",
      "(2, 'One')\n",
      "(3, True)\n"
     ]
    }
   ],
   "source": [
    "for i in enumerate(tup5):\n",
    "    print(i)"
   ]
  },
  {
   "cell_type": "markdown",
   "id": "008f7621-49e5-4b63-9420-f2c546b11d38",
   "metadata": {},
   "source": [
    "# Tuple Membership"
   ]
  },
  {
   "cell_type": "code",
   "execution_count": 102,
   "id": "dc2a4b8b-4602-498d-b5c1-312772c7cf71",
   "metadata": {},
   "outputs": [
    {
     "data": {
      "text/plain": [
       "(38, 7.2, 'One', True)"
      ]
     },
     "execution_count": 102,
     "metadata": {},
     "output_type": "execute_result"
    }
   ],
   "source": [
    "tup5"
   ]
  },
  {
   "cell_type": "code",
   "execution_count": 106,
   "id": "65cdd4e7-b389-4861-a165-2c54ae55f29c",
   "metadata": {},
   "outputs": [
    {
     "data": {
      "text/plain": [
       "True"
      ]
     },
     "execution_count": 106,
     "metadata": {},
     "output_type": "execute_result"
    }
   ],
   "source": [
    "'One' in tup5 # check if 'One' exist in the list"
   ]
  },
  {
   "cell_type": "code",
   "execution_count": 108,
   "id": "8a705a0a-ede7-446a-972f-70e678a9fc65",
   "metadata": {},
   "outputs": [
    {
     "data": {
      "text/plain": [
       "False"
      ]
     },
     "execution_count": 108,
     "metadata": {},
     "output_type": "execute_result"
    }
   ],
   "source": [
    "'true' in tup5 # check if 'true' exist in the list "
   ]
  },
  {
   "cell_type": "code",
   "execution_count": 110,
   "id": "e5eb2e05-925f-42e1-9f6c-d154d95ee53f",
   "metadata": {},
   "outputs": [
    {
     "name": "stdout",
     "output_type": "stream",
     "text": [
      "One is present in the tuple\n"
     ]
    }
   ],
   "source": [
    "if 'One' in tup5: # check if 'One' exist in the list\n",
    "    print('One is present in the tuple')"
   ]
  },
  {
   "cell_type": "code",
   "execution_count": 112,
   "id": "beece9be-8fb4-46c6-917b-517266d6213f",
   "metadata": {},
   "outputs": [
    {
     "name": "stdout",
     "output_type": "stream",
     "text": [
      "two is not present in the tuple\n"
     ]
    }
   ],
   "source": [
    "if 'two' in tup5: # check if 'two' exists in the list\n",
    "    print('two is present in the tuple')\n",
    "else:\n",
    "    print('two is not present in the tuple')"
   ]
  },
  {
   "cell_type": "markdown",
   "id": "32f0cf03-4396-4158-84ea-0082f6457b74",
   "metadata": {},
   "source": [
    "# Index Position"
   ]
  },
  {
   "cell_type": "code",
   "execution_count": 115,
   "id": "26c7a25c-3068-4675-b18f-8ce4301ecad4",
   "metadata": {},
   "outputs": [
    {
     "data": {
      "text/plain": [
       "(38, 7.2, 'One', True)"
      ]
     },
     "execution_count": 115,
     "metadata": {},
     "output_type": "execute_result"
    }
   ],
   "source": [
    "tup5"
   ]
  },
  {
   "cell_type": "code",
   "execution_count": 117,
   "id": "9b27da96-c0ce-41e6-adaa-f84dd28d546b",
   "metadata": {},
   "outputs": [
    {
     "data": {
      "text/plain": [
       "3"
      ]
     },
     "execution_count": 117,
     "metadata": {},
     "output_type": "execute_result"
    }
   ],
   "source": [
    "tup5.index(True) # Index of first element equal to True"
   ]
  },
  {
   "cell_type": "code",
   "execution_count": 119,
   "id": "82131eff-3c61-411e-9ba9-c62a0c6a465b",
   "metadata": {},
   "outputs": [
    {
     "data": {
      "text/plain": [
       "1"
      ]
     },
     "execution_count": 119,
     "metadata": {},
     "output_type": "execute_result"
    }
   ],
   "source": [
    "tup5.index(7.2) # Index of first element equal to 7.2"
   ]
  },
  {
   "cell_type": "code",
   "execution_count": 121,
   "id": "ae44c15b-f585-45be-b59d-2ce30bccbc9b",
   "metadata": {},
   "outputs": [
    {
     "data": {
      "text/plain": [
       "('one', 'two', 'three')"
      ]
     },
     "execution_count": 121,
     "metadata": {},
     "output_type": "execute_result"
    }
   ],
   "source": [
    "tup3"
   ]
  },
  {
   "cell_type": "code",
   "execution_count": 123,
   "id": "4edfd6f4-b3a8-46c2-b7cc-c1a0df6019d4",
   "metadata": {},
   "outputs": [
    {
     "data": {
      "text/plain": [
       "0"
      ]
     },
     "execution_count": 123,
     "metadata": {},
     "output_type": "execute_result"
    }
   ],
   "source": [
    "tup3.index('one') # Index of first element equal to 'one'"
   ]
  },
  {
   "cell_type": "markdown",
   "id": "df78f751-437c-401d-91c2-a9b39f6459cf",
   "metadata": {},
   "source": [
    "# Sorting"
   ]
  },
  {
   "cell_type": "code",
   "execution_count": 132,
   "id": "74655410-09cf-48fc-b6f9-d05b1b0a6936",
   "metadata": {},
   "outputs": [
    {
     "data": {
      "text/plain": [
       "(4.7, 5.0, 6.9)"
      ]
     },
     "execution_count": 132,
     "metadata": {},
     "output_type": "execute_result"
    }
   ],
   "source": [
    "tup2"
   ]
  },
  {
   "cell_type": "code",
   "execution_count": 134,
   "id": "733681a5-73ce-46b1-be9f-82502104f376",
   "metadata": {},
   "outputs": [
    {
     "data": {
      "text/plain": [
       "[4.7, 5.0, 6.9]"
      ]
     },
     "execution_count": 134,
     "metadata": {},
     "output_type": "execute_result"
    }
   ],
   "source": [
    "sorted(tup2) # returns a new sorted list and doesn't change original tuple"
   ]
  },
  {
   "cell_type": "code",
   "execution_count": 138,
   "id": "2cb2ad2c-d3c9-423d-b2cf-f0d3be16fd9c",
   "metadata": {},
   "outputs": [
    {
     "data": {
      "text/plain": [
       "[6.9, 5.0, 4.7]"
      ]
     },
     "execution_count": 138,
     "metadata": {},
     "output_type": "execute_result"
    }
   ],
   "source": [
    "sorted(tup2,reverse=True) # sort in descending order"
   ]
  },
  {
   "cell_type": "code",
   "execution_count": null,
   "id": "052bcf2c-144b-499c-8bfb-494f5a5543ae",
   "metadata": {},
   "outputs": [],
   "source": []
  }
 ],
 "metadata": {
  "kernelspec": {
   "display_name": "Python 3 (ipykernel)",
   "language": "python",
   "name": "python3"
  },
  "language_info": {
   "codemirror_mode": {
    "name": "ipython",
    "version": 3
   },
   "file_extension": ".py",
   "mimetype": "text/x-python",
   "name": "python",
   "nbconvert_exporter": "python",
   "pygments_lexer": "ipython3",
   "version": "3.12.4"
  }
 },
 "nbformat": 4,
 "nbformat_minor": 5
}
