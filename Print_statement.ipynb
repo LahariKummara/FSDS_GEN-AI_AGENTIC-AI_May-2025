{
 "cells": [
  {
   "cell_type": "code",
   "execution_count": 14,
   "id": "b852797e-5590-4f3a-9b92-3b51b8668472",
   "metadata": {},
   "outputs": [],
   "source": [
    "# print is use for answer"
   ]
  },
  {
   "cell_type": "code",
   "execution_count": 5,
   "id": "78c68222-a0b4-448e-9d5b-09adfc7ee3b7",
   "metadata": {},
   "outputs": [
    {
     "data": {
      "text/plain": [
       "20"
      ]
     },
     "execution_count": 5,
     "metadata": {},
     "output_type": "execute_result"
    }
   ],
   "source": [
    "a=10\n",
    "b=20\n",
    "a\n",
    "b"
   ]
  },
  {
   "cell_type": "code",
   "execution_count": 7,
   "id": "d7f811e0-2e58-4d85-acdb-c070e6ec34fe",
   "metadata": {},
   "outputs": [
    {
     "name": "stdout",
     "output_type": "stream",
     "text": [
      "10\n",
      "20\n"
     ]
    }
   ],
   "source": [
    "a=10\n",
    "b=20\n",
    "print(a)\n",
    "print(b)"
   ]
  },
  {
   "cell_type": "code",
   "execution_count": 9,
   "id": "7d888059-5cb3-4628-8805-b25a16c4bdbe",
   "metadata": {},
   "outputs": [
    {
     "name": "stdout",
     "output_type": "stream",
     "text": [
      "10\n",
      "10 20\n",
      "python\n",
      "10 20 python\n"
     ]
    }
   ],
   "source": [
    "print(10)\n",
    "print(10,20)\n",
    "print('python')\n",
    "print(10,20,'python')"
   ]
  },
  {
   "cell_type": "code",
   "execution_count": 11,
   "id": "9f26adce-12a7-4cfd-b6d7-63f7d4f0e1ca",
   "metadata": {},
   "outputs": [
    {
     "name": "stdout",
     "output_type": "stream",
     "text": [
      "50\n"
     ]
    }
   ],
   "source": [
    "num1=20\n",
    "num2=30\n",
    "add=num1+num2\n",
    "print(add)"
   ]
  },
  {
   "cell_type": "markdown",
   "id": "368d3d73-8d4d-4fc0-9d61-312980073642",
   "metadata": {},
   "source": [
    "# print result with string"
   ]
  },
  {
   "cell_type": "code",
   "execution_count": 16,
   "id": "121d8c08-845b-4199-b3e0-d8dfcd2b8edb",
   "metadata": {},
   "outputs": [
    {
     "name": "stdout",
     "output_type": "stream",
     "text": [
      "The addition of 20 and 30 is= 50\n"
     ]
    }
   ],
   "source": [
    "num1=20\n",
    "num2=30\n",
    "add=num1+num2\n",
    "print('The addition of',num1,'and',num2,'is=',add)"
   ]
  },
  {
   "cell_type": "code",
   "execution_count": 18,
   "id": "08081ed7-a050-45a5-9899-282971ea103b",
   "metadata": {},
   "outputs": [
    {
     "name": "stdout",
     "output_type": "stream",
     "text": [
      "My name is sweety and i am 20 years old from Banglore\n"
     ]
    }
   ],
   "source": [
    "name='sweety'\n",
    "age=20\n",
    "city='Banglore'\n",
    "print('My name is',name,'and i am',age,'years old from',city)"
   ]
  },
  {
   "cell_type": "markdown",
   "id": "13892c31-3da1-4138-aeae-0bbc7c4d7666",
   "metadata": {},
   "source": [
    "## print Format method"
   ]
  },
  {
   "cell_type": "code",
   "execution_count": 21,
   "id": "c2aadbed-7c36-4a4d-99cc-e0e69a17bd72",
   "metadata": {},
   "outputs": [
    {
     "name": "stdout",
     "output_type": "stream",
     "text": [
      "The additionof20 and 30 is=50\n"
     ]
    }
   ],
   "source": [
    "num1=20\n",
    "num2=30\n",
    "add=num1+num2\n",
    "print('The addition of{} and {} is={}'.format(num1,num2,add))"
   ]
  },
  {
   "cell_type": "markdown",
   "id": "84a46d05-0a6e-4b61-a212-f85ce23cfc45",
   "metadata": {},
   "source": [
    " - first decide how the print statement should be\n",
    " - like-The addition of 20 and 30 is =50\n",
    " - then replace the variable position with curly brackets{}\n",
    " - then apply.format(val1,val2,....val-n methodm"
   ]
  },
  {
   "cell_type": "code",
   "execution_count": 25,
   "id": "dea9ee08-639f-4ab2-80e6-ecdf2d2a426d",
   "metadata": {},
   "outputs": [],
   "source": [
    "name='honey'\n",
    "age=20\n",
    "city='bglr'\n",
    "# hello my name is honey and i am 20 year old from bglr"
   ]
  },
  {
   "cell_type": "code",
   "execution_count": 29,
   "id": "9fc04f10-be31-48fa-a7e0-cda4a652f723",
   "metadata": {},
   "outputs": [
    {
     "name": "stdout",
     "output_type": "stream",
     "text": [
      "hello my name is honey,and i am 20 years old from bglr\n"
     ]
    }
   ],
   "source": [
    "print('hello my name is {},and i am {} years old from {}'.format(name,age,city))"
   ]
  },
  {
   "cell_type": "code",
   "execution_count": 39,
   "id": "670e0361-a1c9-4281-944a-685bb80f293b",
   "metadata": {},
   "outputs": [
    {
     "name": "stdout",
     "output_type": "stream",
     "text": [
      "The average of 100, 200 and 400 is = 233.33333333333334 or 233.33\n"
     ]
    }
   ],
   "source": [
    "num1=100\n",
    "num2=200\n",
    "num3=400\n",
    "avg=(num1+num2+num3)/3 # or we can use avg=round(num1+num2+num3)/3,2))\n",
    "avg1=round((num1+num2+num3)/3,2)\n",
    "print('The average of {}, {} and {} is = {} or {}'.format(num1,num2,num3,avg,avg1)) # here we  can use round(avg,2) also"
   ]
  },
  {
   "cell_type": "code",
   "execution_count": 41,
   "id": "22f61f7f-5a7c-4d41-b375-973bdf02a04b",
   "metadata": {},
   "outputs": [
    {
     "data": {
      "text/plain": [
       "233.33"
      ]
     },
     "execution_count": 41,
     "metadata": {},
     "output_type": "execute_result"
    }
   ],
   "source": [
    "round(avg,2)"
   ]
  },
  {
   "cell_type": "markdown",
   "id": "390f0886-52b1-465d-a8f5-1348cbbd0dfa",
   "metadata": {},
   "source": [
    "### More short format method(f string method)"
   ]
  },
  {
   "cell_type": "markdown",
   "id": "d88cbb70-1968-4c59-a1db-4432b11e0fbc",
   "metadata": {},
   "source": [
    " - Variable should be in curly braces\n",
    " - and write everything inside quots''\n",
    " - at starting simply add f"
   ]
  },
  {
   "cell_type": "code",
   "execution_count": 49,
   "id": "82564fdd-376b-4c13-b577-a0f6125a5331",
   "metadata": {},
   "outputs": [
    {
     "name": "stdout",
     "output_type": "stream",
     "text": [
      "The addition of 20 and 40 is =60\n"
     ]
    }
   ],
   "source": [
    "num1=20\n",
    "num2=40\n",
    "add=num1+num2\n",
    "print(f'The addition of {num1} and {num2} is ={add}') # always prefer this"
   ]
  },
  {
   "cell_type": "code",
   "execution_count": 53,
   "id": "3e090cf9-6bf2-422a-bc43-c756412a2e6d",
   "metadata": {},
   "outputs": [
    {
     "name": "stdout",
     "output_type": "stream",
     "text": [
      "My name is sweety and i am 21 years old from hyd\n"
     ]
    }
   ],
   "source": [
    "name='sweety'\n",
    "age=21\n",
    "city='hyd'\n",
    "# \n",
    "print(f'My name is {name} and i am {age} years old from {city}')"
   ]
  },
  {
   "cell_type": "code",
   "execution_count": 63,
   "id": "e6fc6692-92e6-4e0f-a530-8f95a426ae61",
   "metadata": {},
   "outputs": [],
   "source": [
    "num1=20\n",
    "num2=40\n",
    "num3=50\n",
    "avg=round((num1+num2+num3)/3,2) # or we can use avg=round(num1+num2+num3)/3,2)\n",
    "# The average of num1 ,num2,num3 is =avg"
   ]
  },
  {
   "cell_type": "code",
   "execution_count": 65,
   "id": "63586342-51e6-4c0a-9ab8-e451599a8cbc",
   "metadata": {},
   "outputs": [
    {
     "name": "stdout",
     "output_type": "stream",
     "text": [
      "The average of 20, 40 and 50 is = 36.67\n"
     ]
    }
   ],
   "source": [
    "print(f'The average of {num1}, {num2} and {num3} is = {avg}')"
   ]
  },
  {
   "cell_type": "code",
   "execution_count": 74,
   "id": "4bfe1257-99f8-4a86-b1bc-252ba4d8dedd",
   "metadata": {},
   "outputs": [
    {
     "name": "stdout",
     "output_type": "stream",
     "text": [
      "The additon of 10 and 20 is= 30\n",
      "The addition of 10 and 20 is = 30\n",
      "The addition of 10 and 20 is = 30\n"
     ]
    }
   ],
   "source": [
    "# Lete combine all\n",
    "num1=10\n",
    "num2=20\n",
    "add=num1+num2\n",
    "print('The additon of',num1, 'and',num2, 'is=',add)\n",
    "\n",
    "print('The addition of {} and {} is = {}'.format(num1,num2,add))\n",
    "\n",
    "print(f'The addition of {num1} and {num2} is = {add}')"
   ]
  },
  {
   "cell_type": "markdown",
   "id": "0a35bb6f-50c0-43d2-8e2a-be3fa3d4e085",
   "metadata": {},
   "source": [
    "## end statement"
   ]
  },
  {
   "cell_type": "code",
   "execution_count": 76,
   "id": "58ece4d7-ca42-46aa-8a7c-8af0bf114edd",
   "metadata": {},
   "outputs": [
    {
     "name": "stdout",
     "output_type": "stream",
     "text": [
      "hello\n",
      "good morning\n"
     ]
    }
   ],
   "source": [
    "print('hello') # 1st statement\n",
    "print('good morning') # 2nd statement\n",
    "# i want  to print like:- hello good morning"
   ]
  },
  {
   "cell_type": "markdown",
   "id": "8e6e2aa6-de24-4022-9d70-491ab7a56312",
   "metadata": {},
   "source": [
    "- Here we will use 'end' statement that joint line from end of string to starting of other string"
   ]
  },
  {
   "cell_type": "code",
   "execution_count": 79,
   "id": "d26573e6-fff6-41d3-b39d-7303512cf4f4",
   "metadata": {},
   "outputs": [
    {
     "name": "stdout",
     "output_type": "stream",
     "text": [
      "hello world good day\n"
     ]
    }
   ],
   "source": [
    "print('hello',end=' ') # 1st statement\n",
    "print('world good day') # 2nd statement"
   ]
  },
  {
   "cell_type": "markdown",
   "id": "395b3f85-6752-4e15-93a2-75db800ab30d",
   "metadata": {},
   "source": [
    "## separator"
   ]
  },
  {
   "cell_type": "markdown",
   "id": "a4fd5ccc-cebc-4a5c-9584-8f3bad17b24f",
   "metadata": {},
   "source": [
    "- here one print statement only we use\n",
    "- inside one print statement we have multiple values\n",
    "- we want to seperate these multiple values with anything"
   ]
  },
  {
   "cell_type": "code",
   "execution_count": 85,
   "id": "7beb47aa-5655-4923-b72b-889f38877b01",
   "metadata": {},
   "outputs": [
    {
     "name": "stdout",
     "output_type": "stream",
     "text": [
      "hai--->hello--->how are you\n"
     ]
    }
   ],
   "source": [
    "print('hai','hello','how are you',sep='--->')"
   ]
  },
  {
   "cell_type": "code",
   "execution_count": 87,
   "id": "f75abbd1-c522-4528-a055-0036c9881d0c",
   "metadata": {},
   "outputs": [
    {
     "name": "stdout",
     "output_type": "stream",
     "text": [
      "hai&hello&how are you\n"
     ]
    }
   ],
   "source": [
    "print('hai','hello','how are you',sep='&')"
   ]
  },
  {
   "cell_type": "code",
   "execution_count": 89,
   "id": "0f6e330f-57f8-4f32-9029-9e956ab710a3",
   "metadata": {},
   "outputs": [
    {
     "name": "stdout",
     "output_type": "stream",
     "text": [
      "hai@hello@how are you\n"
     ]
    }
   ],
   "source": [
    "print('hai','hello','how are you',sep='@')"
   ]
  },
  {
   "cell_type": "code",
   "execution_count": 91,
   "id": "f37c23ea-9b5c-4e19-a232-3174a6596e3b",
   "metadata": {},
   "outputs": [
    {
     "name": "stdout",
     "output_type": "stream",
     "text": [
      "hai hello how are you\n"
     ]
    }
   ],
   "source": [
    "print('hai','hello','how are you',sep=' ')"
   ]
  },
  {
   "cell_type": "code",
   "execution_count": 93,
   "id": "c7d2f148-fd26-4c17-8767-dcf99a64c516",
   "metadata": {},
   "outputs": [
    {
     "name": "stdout",
     "output_type": "stream",
     "text": [
      "3 .\n"
     ]
    }
   ],
   "source": [
    "print(3,'.') # .is far from 3 so here we will use sep method"
   ]
  },
  {
   "cell_type": "code",
   "execution_count": 95,
   "id": "b211db0a-bb88-4cf4-9802-c5cc225c56fe",
   "metadata": {},
   "outputs": [
    {
     "name": "stdout",
     "output_type": "stream",
     "text": [
      "3.\n"
     ]
    }
   ],
   "source": [
    "print(3,'.',sep='') # see now space settled(also use to remove space B/W words)"
   ]
  },
  {
   "cell_type": "code",
   "execution_count": 97,
   "id": "c50d628f-aadd-4682-94c4-58e8bd775ab3",
   "metadata": {},
   "outputs": [
    {
     "name": "stdout",
     "output_type": "stream",
     "text": [
      "1 2 3.\n"
     ]
    }
   ],
   "source": [
    "print(1,2,end=' ')\n",
    "print(3,'.',sep='')\n",
    "# will print 1 2 3."
   ]
  }
 ],
 "metadata": {
  "kernelspec": {
   "display_name": "Python 3 (ipykernel)",
   "language": "python",
   "name": "python3"
  },
  "language_info": {
   "codemirror_mode": {
    "name": "ipython",
    "version": 3
   },
   "file_extension": ".py",
   "mimetype": "text/x-python",
   "name": "python",
   "nbconvert_exporter": "python",
   "pygments_lexer": "ipython3",
   "version": "3.12.4"
  }
 },
 "nbformat": 4,
 "nbformat_minor": 5
}
