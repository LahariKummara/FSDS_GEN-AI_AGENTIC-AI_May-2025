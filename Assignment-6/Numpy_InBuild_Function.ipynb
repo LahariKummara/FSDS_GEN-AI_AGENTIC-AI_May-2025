{
 "cells": [
  {
   "cell_type": "code",
   "execution_count": 1,
   "id": "42d4d57d-725c-4775-ac52-170840506fc4",
   "metadata": {},
   "outputs": [],
   "source": [
    "import numpy as np"
   ]
  },
  {
   "cell_type": "code",
   "execution_count": 5,
   "id": "7ebcd6b7-0b71-4ba9-a86d-66fcff39a993",
   "metadata": {},
   "outputs": [
    {
     "name": "stdout",
     "output_type": "stream",
     "text": [
      "Array a: [1 2 3]\n"
     ]
    }
   ],
   "source": [
    "# create an array from a list\n",
    "a=np.array([1,2,3])\n",
    "print(\"Array a:\",a)"
   ]
  },
  {
   "cell_type": "code",
   "execution_count": 13,
   "id": "1cbf7765-989d-4b58-8d70-001f03735d87",
   "metadata": {},
   "outputs": [
    {
     "name": "stdout",
     "output_type": "stream",
     "text": [
      "Array b: [0 2 4 6 8]\n"
     ]
    }
   ],
   "source": [
    "# create an array with evenly spaced values\n",
    "b=np.arange(0,10,2) # Values from 0 to 10 with step 2\n",
    "print(\"Array b:\",b)"
   ]
  },
  {
   "cell_type": "code",
   "execution_count": 17,
   "id": "71c762a6-a621-466b-a018-6460c49d12ee",
   "metadata": {},
   "outputs": [
    {
     "name": "stdout",
     "output_type": "stream",
     "text": [
      "Array c: [0.   0.25 0.5  0.75 1.  ]\n"
     ]
    }
   ],
   "source": [
    "# create an array with linearly spaced values\n",
    "c=np.linspace(0,1,5) # 5 values evenly spaced between 0 and 1\n",
    "print(\"Array c:\",c)"
   ]
  },
  {
   "cell_type": "code",
   "execution_count": 25,
   "id": "5d94b24b-99e2-4585-b285-85b5cb9c0d11",
   "metadata": {},
   "outputs": [
    {
     "name": "stdout",
     "output_type": "stream",
     "text": [
      "Array d:\n",
      " [[0. 0. 0.]\n",
      " [0. 0. 0.]]\n"
     ]
    }
   ],
   "source": [
    "# create an array filled with zeros\n",
    "d=np.zeros((2,3)) #2*3 array of zeros\n",
    "print(\"Array d:\\n\",d)"
   ]
  },
  {
   "cell_type": "code",
   "execution_count": 27,
   "id": "c89c06fd-c20d-4dd3-82c5-984ba9b4f633",
   "metadata": {},
   "outputs": [
    {
     "name": "stdout",
     "output_type": "stream",
     "text": [
      "Array e:\n",
      " [[1. 1. 1. 1.]\n",
      " [1. 1. 1. 1.]\n",
      " [1. 1. 1. 1.]]\n"
     ]
    }
   ],
   "source": [
    "# create an array filled with ones\n",
    "e=np.ones((3,4)) # 3*4 array of ones\n",
    "print('Array e:\\n',e)"
   ]
  },
  {
   "cell_type": "code",
   "execution_count": 31,
   "id": "f4da35d1-89cd-485b-8f80-6599f393ed82",
   "metadata": {},
   "outputs": [
    {
     "name": "stdout",
     "output_type": "stream",
     "text": [
      "Array f:\n",
      " [[1. 0. 0. 0.]\n",
      " [0. 1. 0. 0.]\n",
      " [0. 0. 1. 0.]\n",
      " [0. 0. 0. 1.]]\n"
     ]
    }
   ],
   "source": [
    "# create an identity matrix\n",
    "f=np.eye(4) # 4*4 identity matrix\n",
    "print('Array f:\\n',f)"
   ]
  },
  {
   "cell_type": "markdown",
   "id": "cb4783ac-a5dc-4b25-bf5b-12d026b480c4",
   "metadata": {},
   "source": [
    "# 2. Array Manipulation Functions"
   ]
  },
  {
   "cell_type": "code",
   "execution_count": 37,
   "id": "8493ed26-2345-474b-ab16-1f42373e9271",
   "metadata": {},
   "outputs": [
    {
     "name": "stdout",
     "output_type": "stream",
     "text": [
      "Reshaped Array: [[1 2 3]]\n"
     ]
    }
   ],
   "source": [
    "# Reshape an array\n",
    "a1=np.array([1,2,3])\n",
    "reshaped=np.reshape(a1,(1,3)) # Reshape to 1*3\n",
    "print('Reshaped Array:',reshaped)"
   ]
  },
  {
   "cell_type": "code",
   "execution_count": 41,
   "id": "24cb031c-0880-4aa7-9b36-860544a02375",
   "metadata": {},
   "outputs": [
    {
     "name": "stdout",
     "output_type": "stream",
     "text": [
      "Flattened array: [1 2 3 4]\n"
     ]
    }
   ],
   "source": [
    "# Flatten an array\n",
    "b1=np.array([[1,2],[3,4]])\n",
    "flattened=np.ravel(b1) # Flatten to 1D array\n",
    "print('Flattened array:',flattened)"
   ]
  },
  {
   "cell_type": "code",
   "execution_count": 43,
   "id": "36ff8d19-be23-4f42-a6cc-81e69ec32758",
   "metadata": {},
   "outputs": [
    {
     "name": "stdout",
     "output_type": "stream",
     "text": [
      "Transpose Array: [[1 3]\n",
      " [2 4]]\n"
     ]
    }
   ],
   "source": [
    "# Transpose an Array\n",
    "c1=np.array([[1,2],[3,4]])\n",
    "transposed=np.transpose(c1) # Transpose the array \n",
    "print('Transpose Array:',transposed)"
   ]
  },
  {
   "cell_type": "code",
   "execution_count": 45,
   "id": "8f79928c-865d-4757-b3c7-b905250c26e7",
   "metadata": {},
   "outputs": [
    {
     "name": "stdout",
     "output_type": "stream",
     "text": [
      "Stacked arrays:\n",
      " [[1 2]\n",
      " [3 4]]\n"
     ]
    }
   ],
   "source": [
    "# Stack arrays vertically\n",
    "d1=np.array([1,2])\n",
    "d2=np.array([3,4])\n",
    "stacked=np.vstack([d1,d2])\n",
    "print('Stacked arrays:\\n',stacked)"
   ]
  },
  {
   "cell_type": "markdown",
   "id": "b8153953-822b-4fcb-8164-32864e979438",
   "metadata": {},
   "source": [
    "# 3. Mathematical Functions"
   ]
  },
  {
   "cell_type": "code",
   "execution_count": 48,
   "id": "36db485a-3c67-4513-a555-c013693affe4",
   "metadata": {},
   "outputs": [
    {
     "name": "stdout",
     "output_type": "stream",
     "text": [
      "Added 2 to g: [3 4 5 6]\n"
     ]
    }
   ],
   "source": [
    "# Add two arrays\n",
    "g=np.array([1,2,3,4])\n",
    "added=np.add(g,2) # Add 2 to each other\n",
    "print('Added 2 to g:',added)"
   ]
  },
  {
   "cell_type": "code",
   "execution_count": 52,
   "id": "0418fe80-d999-4df8-b8fc-0f1706cdcf38",
   "metadata": {},
   "outputs": [
    {
     "name": "stdout",
     "output_type": "stream",
     "text": [
      "Square root of g: [1.         1.41421356 1.73205081 2.        ]\n"
     ]
    }
   ],
   "source": [
    "# square each element\n",
    "sqrt_val=np.sqrt(g) # Square root of each element\n",
    "print('Square root of g:',sqrt_val)"
   ]
  },
  {
   "cell_type": "code",
   "execution_count": 54,
   "id": "34af9ea9-f2df-4f74-956d-be8ede5ec188",
   "metadata": {},
   "outputs": [
    {
     "name": "stdout",
     "output_type": "stream",
     "text": [
      "[1 2 3]\n",
      "[1 2 3 4]\n"
     ]
    }
   ],
   "source": [
    "print(a1)\n",
    "print(g)"
   ]
  },
  {
   "cell_type": "code",
   "execution_count": 56,
   "id": "299df002-bd0f-4343-98d2-e5173d8ffe44",
   "metadata": {},
   "outputs": [
    {
     "ename": "ValueError",
     "evalue": "shapes (3,) and (4,) not aligned: 3 (dim 0) != 4 (dim 0)",
     "output_type": "error",
     "traceback": [
      "\u001b[1;31m---------------------------------------------------------------------------\u001b[0m",
      "\u001b[1;31mValueError\u001b[0m                                Traceback (most recent call last)",
      "Cell \u001b[1;32mIn[56], line 3\u001b[0m\n\u001b[0;32m      1\u001b[0m \u001b[38;5;66;03m# Dot product of two arrays\u001b[39;00m\n\u001b[0;32m      2\u001b[0m a2\u001b[38;5;241m=\u001b[39mnp\u001b[38;5;241m.\u001b[39marray([\u001b[38;5;241m1\u001b[39m,\u001b[38;5;241m2\u001b[39m,\u001b[38;5;241m3\u001b[39m])\n\u001b[1;32m----> 3\u001b[0m dot_product\u001b[38;5;241m=\u001b[39mnp\u001b[38;5;241m.\u001b[39mdot(a2,g) \u001b[38;5;66;03m# Dot product of a and g\u001b[39;00m\n\u001b[0;32m      4\u001b[0m \u001b[38;5;28mprint\u001b[39m(\u001b[38;5;124m'\u001b[39m\u001b[38;5;124mDot product of a and g:\u001b[39m\u001b[38;5;124m'\u001b[39m,dot_product)\n",
      "\u001b[1;31mValueError\u001b[0m: shapes (3,) and (4,) not aligned: 3 (dim 0) != 4 (dim 0)"
     ]
    }
   ],
   "source": [
    "# Dot product of two arrays\n",
    "a2=np.array([1,2,3])\n",
    "dot_product=np.dot(a2,g) # Dot product of a and g\n",
    "print('Dot product of a and g:',dot_product)"
   ]
  },
  {
   "cell_type": "code",
   "execution_count": 58,
   "id": "63fc1b25-4f2c-4a40-bc8d-59c395074b0b",
   "metadata": {},
   "outputs": [
    {
     "name": "stdout",
     "output_type": "stream",
     "text": [
      "[1 2 3]\n",
      "[1 2 3]\n"
     ]
    }
   ],
   "source": [
    "print(a)\n",
    "print(a1)"
   ]
  },
  {
   "cell_type": "code",
   "execution_count": 60,
   "id": "d72c23df-0767-42d4-bddc-38810f223371",
   "metadata": {},
   "outputs": [
    {
     "name": "stdout",
     "output_type": "stream",
     "text": [
      "Dot product of a1 and a: 14\n"
     ]
    }
   ],
   "source": [
    "a3=np.array([1,2,3])\n",
    "dot_product=np.dot(a1,a) # Dot product of a and g\n",
    "print('Dot product of a1 and a:',dot_product)"
   ]
  },
  {
   "cell_type": "markdown",
   "id": "9ef522cb-a997-48cb-8f67-316a23c484ab",
   "metadata": {},
   "source": [
    "# 4. Statistical Functions"
   ]
  },
  {
   "cell_type": "code",
   "execution_count": 63,
   "id": "ec7ef31f-d6e1-434a-b130-726f029ed219",
   "metadata": {},
   "outputs": [
    {
     "name": "stdout",
     "output_type": "stream",
     "text": [
      "Mean of s: 2.5\n"
     ]
    }
   ],
   "source": [
    "s=np.array([1,2,3,4])\n",
    "mean=np.mean(s)\n",
    "print('Mean of s:',mean)"
   ]
  },
  {
   "cell_type": "code",
   "execution_count": 65,
   "id": "641c4a0f-76b4-4850-b85d-f240bdf73952",
   "metadata": {},
   "outputs": [
    {
     "name": "stdout",
     "output_type": "stream",
     "text": [
      "Standard deviation of s: 1.118033988749895\n"
     ]
    }
   ],
   "source": [
    "# Standard deviation of an array\n",
    "std_dev=np.std(s)\n",
    "print('Standard deviation of s:',std_dev)"
   ]
  },
  {
   "cell_type": "code",
   "execution_count": 67,
   "id": "f75a9909-58d5-406b-92b8-82aad56dc684",
   "metadata": {},
   "outputs": [
    {
     "name": "stdout",
     "output_type": "stream",
     "text": [
      "Max of s: 4\n"
     ]
    }
   ],
   "source": [
    "# Minimum element of an array\n",
    "maximum=np.max(s)\n",
    "print('Max of s:',maximum)"
   ]
  },
  {
   "cell_type": "code",
   "execution_count": 69,
   "id": "4180ce1e-577a-4a96-8694-e4aa28ef3724",
   "metadata": {},
   "outputs": [
    {
     "name": "stdout",
     "output_type": "stream",
     "text": [
      "Min of s: 1\n"
     ]
    }
   ],
   "source": [
    "# Minimum of elements of an array\n",
    "minimum=np.min(s)\n",
    "print('Min of s:',minimum)"
   ]
  },
  {
   "cell_type": "markdown",
   "id": "9311fb56-1038-4357-814c-3081197f1449",
   "metadata": {},
   "source": [
    "# 5. Linear Algebra Functions"
   ]
  },
  {
   "cell_type": "code",
   "execution_count": 74,
   "id": "a826f412-3f33-4f53-9003-404d75febb64",
   "metadata": {},
   "outputs": [],
   "source": [
    "# create a matrix\n",
    "matrix=np.array([[1,2],[3,4]])"
   ]
  },
  {
   "cell_type": "code",
   "execution_count": 76,
   "id": "72872634-7613-426a-9932-aeff98660564",
   "metadata": {},
   "outputs": [
    {
     "name": "stdout",
     "output_type": "stream",
     "text": [
      "Determination of matrix: -2.0000000000000004\n"
     ]
    }
   ],
   "source": [
    "# Determinant of matrix\n",
    "determinant =np.linalg.det(matrix)\n",
    "print('Determination of matrix:',determinant)"
   ]
  },
  {
   "cell_type": "code",
   "execution_count": 80,
   "id": "74477813-53fc-46ef-85a9-ff2d92f68b03",
   "metadata": {},
   "outputs": [
    {
     "name": "stdout",
     "output_type": "stream",
     "text": [
      "Inverse of matrix:\n",
      " [[-2.   1. ]\n",
      " [ 1.5 -0.5]]\n"
     ]
    }
   ],
   "source": [
    "# Inverse of a matrix\n",
    "inverse=np.linalg.inv(matrix)\n",
    "print('Inverse of matrix:\\n',inverse)\n",
    "      "
   ]
  },
  {
   "cell_type": "markdown",
   "id": "20446b4f-8289-407d-988b-5ea2c36a7c80",
   "metadata": {},
   "source": [
    "# 6. Random Sampling Functions"
   ]
  },
  {
   "cell_type": "code",
   "execution_count": 84,
   "id": "109b70b4-6b0c-48aa-b28b-7ac25c8f3dcd",
   "metadata": {},
   "outputs": [
    {
     "name": "stdout",
     "output_type": "stream",
     "text": [
      "Random values; [0.17905636 0.93610393 0.06852704]\n"
     ]
    }
   ],
   "source": [
    "# Generate random values between 0 and 1\n",
    "random_vals=np.random.rand(3) # Array of 3 random values between 0 and 1\n",
    "print('Random values:',random_vals)"
   ]
  },
  {
   "cell_type": "code",
   "execution_count": 86,
   "id": "350a79ee-cd2d-4042-bcb9-810839abba93",
   "metadata": {},
   "outputs": [
    {
     "name": "stdout",
     "output_type": "stream",
     "text": [
      "random values: [0.46847661 0.057656  ]\n"
     ]
    }
   ],
   "source": [
    "random_vals=np.random.rand(2)\n",
    "print('random values:',random_vals)"
   ]
  },
  {
   "cell_type": "code",
   "execution_count": 91,
   "id": "0779c762-1f5b-4dbf-924c-72e2b7f00c82",
   "metadata": {},
   "outputs": [
    {
     "name": "stdout",
     "output_type": "stream",
     "text": [
      "Random values: [0.5488135  0.71518937 0.60276338]\n"
     ]
    }
   ],
   "source": [
    "# Set speed for reproducibility\n",
    "np.random.seed(0)\n",
    "# Generate random values between 0 and 1\n",
    "random_vals=np.random.rand(3) # Array of 3 random values between 0 and 1\n",
    "print('Random values:',random_vals)"
   ]
  },
  {
   "cell_type": "code",
   "execution_count": 101,
   "id": "4ddc4669-8539-4019-95ee-695c6c2083f8",
   "metadata": {},
   "outputs": [
    {
     "name": "stdout",
     "output_type": "stream",
     "text": [
      "Random integers: [8 1 6 7 7]\n"
     ]
    }
   ],
   "source": [
    "# Generate Random Integers\n",
    "rand_ints=np.random.randint(0,10,size=5) # random integers between 0 and 1\n",
    "print('Random integers:',rand_ints)"
   ]
  },
  {
   "cell_type": "code",
   "execution_count": 110,
   "id": "f767d436-6398-4914-8acc-9dc0ffb9841c",
   "metadata": {},
   "outputs": [
    {
     "name": "stdout",
     "output_type": "stream",
     "text": [
      "random integers : [5 0 3 3 7]\n"
     ]
    }
   ],
   "source": [
    "# Set seed for reproducibility\n",
    "np.random.seed(0)\n",
    "# Generate random integers\n",
    "rand_ints=np.random.randint(0,10,size=5) # Random integers between 0 and 10\n",
    "print('random integers :',rand_ints)"
   ]
  },
  {
   "cell_type": "markdown",
   "id": "322f75fc-442f-4746-82bd-1da31f7c02ba",
   "metadata": {},
   "source": [
    "# 7. Boolean & Logical Functions"
   ]
  },
  {
   "cell_type": "code",
   "execution_count": 113,
   "id": "5cc4d81f-eecb-4a93-921d-7760a6f15b6e",
   "metadata": {},
   "outputs": [
    {
     "name": "stdout",
     "output_type": "stream",
     "text": [
      "All elements True: False\n"
     ]
    }
   ],
   "source": [
    "# check if all elements are true\n",
    "# all\n",
    "logical_test=np.array([True,False,True])\n",
    "all_true=np.all(logical_test) # chack if all are True\n",
    "print('All elements True:',all_true)"
   ]
  },
  {
   "cell_type": "code",
   "execution_count": 115,
   "id": "c6047570-1e96-4646-b65e-62fb8de7773b",
   "metadata": {},
   "outputs": [
    {
     "name": "stdout",
     "output_type": "stream",
     "text": [
      "All elements True: False\n"
     ]
    }
   ],
   "source": [
    "# check if all elements are true\n",
    "\n",
    "logical_test=np.array([True,False,True])\n",
    "all_true=np.all(logical_test) # chack if all are True\n",
    "print('All elements True:',all_true)"
   ]
  },
  {
   "cell_type": "code",
   "execution_count": 117,
   "id": "33ea132e-0f88-4ee0-8dd8-d163083c778f",
   "metadata": {},
   "outputs": [
    {
     "name": "stdout",
     "output_type": "stream",
     "text": [
      "All elements True: False\n"
     ]
    }
   ],
   "source": [
    "# check if all elements are true\n",
    "# all\n",
    "logical_test=np.array([False,False,False])\n",
    "all_true=np.all(logical_test) # chack if all are True\n",
    "print('All elements True:',all_true)"
   ]
  },
  {
   "cell_type": "code",
   "execution_count": 119,
   "id": "4e09147f-2328-475e-ad5f-8f5a31146fd7",
   "metadata": {},
   "outputs": [
    {
     "name": "stdout",
     "output_type": "stream",
     "text": [
      "Any elements True: False\n"
     ]
    }
   ],
   "source": [
    "# check if any elements are True\n",
    "# any\n",
    "any_true=np.any(logical_test) # check if any are True\n",
    "print('Any elements True:',any_true)"
   ]
  },
  {
   "cell_type": "markdown",
   "id": "8145983e-b483-4f22-b499-28a75d7d1c98",
   "metadata": {},
   "source": [
    "# 8. Set Operations"
   ]
  },
  {
   "cell_type": "code",
   "execution_count": 122,
   "id": "2c6f5fc2-108e-4380-bb2d-2320d0d6569c",
   "metadata": {},
   "outputs": [
    {
     "name": "stdout",
     "output_type": "stream",
     "text": [
      "Intersection of a and b: [3 4]\n"
     ]
    }
   ],
   "source": [
    "# Intersection of two arrays\n",
    "set_a=np.array([1,2,3,4])\n",
    "set_b=np.array([3,4,5,6])\n",
    "intersection=np.intersect1d(set_a,set_b)\n",
    "print('Intersection of a and b:',intersection)"
   ]
  },
  {
   "cell_type": "code",
   "execution_count": 124,
   "id": "43fcf297-db85-4b96-88fc-a2fdd76c70cb",
   "metadata": {},
   "outputs": [
    {
     "name": "stdout",
     "output_type": "stream",
     "text": [
      "union of a and b: [1 2 3 4 5 6]\n"
     ]
    }
   ],
   "source": [
    "# Union of two arrays\n",
    "union=np.union1d(set_a,set_b)\n",
    "print('union of a and b:',union)"
   ]
  },
  {
   "cell_type": "markdown",
   "id": "22f4efb8-d2a1-49ad-a865-b8289648ed66",
   "metadata": {},
   "source": [
    "#  9. Array Attribute Functions"
   ]
  },
  {
   "cell_type": "code",
   "execution_count": 128,
   "id": "d3af0c4f-b21c-4f85-a470-2b2029bab4aa",
   "metadata": {},
   "outputs": [
    {
     "name": "stdout",
     "output_type": "stream",
     "text": [
      "shape of a: (3,)\n",
      "size of a: 3\n",
      "Number of dimensions of a: 1\n",
      "data type of a: int32\n"
     ]
    }
   ],
   "source": [
    "# Array attributes\n",
    "a=np.array([1,2,3])\n",
    "shape=a.shape # shape of the array\n",
    "size=a.size # Number of elements\n",
    "dimensions=a.ndim # Number of dimensions\n",
    "dtype=a.dtype # data type of the array\n",
    "\n",
    "\n",
    "print('shape of a:',shape)\n",
    "print('size of a:',size)\n",
    "print('Number of dimensions of a:',dimensions)\n",
    "print('data type of a:',dtype)"
   ]
  },
  {
   "cell_type": "markdown",
   "id": "6f2c50e8-3dc7-49d6-9102-eed84f6a2a3d",
   "metadata": {},
   "source": [
    "# 10.Other Functions"
   ]
  },
  {
   "cell_type": "code",
   "execution_count": 131,
   "id": "94b9468f-e7d3-4a7f-b677-069e084ff24d",
   "metadata": {},
   "outputs": [
    {
     "name": "stdout",
     "output_type": "stream",
     "text": [
      "Copied array: [1 2 3]\n"
     ]
    }
   ],
   "source": [
    "# create a copy of an array\n",
    "a=np.array([1,2,3])\n",
    "copied_array=np.copy(a) # create a copy of array a\n",
    "print('Copied array:',copied_array)"
   ]
  },
  {
   "cell_type": "code",
   "execution_count": 133,
   "id": "40b9b830-e0e6-44b3-91db-8691873229af",
   "metadata": {},
   "outputs": [
    {
     "name": "stdout",
     "output_type": "stream",
     "text": [
      "Size of a in bytes: 12\n"
     ]
    }
   ],
   "source": [
    "# Size in bytes of an array\n",
    "array_size_in_bytes= a.nbytes # size in bytes\n",
    "print('Size of a in bytes:',array_size_in_bytes)"
   ]
  },
  {
   "cell_type": "code",
   "execution_count": 135,
   "id": "6f62f268-0d5a-4c9a-b3d6-68e4cad4e244",
   "metadata": {},
   "outputs": [
    {
     "name": "stdout",
     "output_type": "stream",
     "text": [
      "Do a and copied_array share memory? False\n"
     ]
    }
   ],
   "source": [
    "# Check if two arrays share memory\n",
    "shared=np.shares_memory(a,copied_array) # check if arrays share memory\n",
    "print('Do a and copied_array share memory?',shared)"
   ]
  },
  {
   "cell_type": "code",
   "execution_count": null,
   "id": "18bee0e2-deae-4506-808f-5bcc5d0294b0",
   "metadata": {},
   "outputs": [],
   "source": []
  }
 ],
 "metadata": {
  "kernelspec": {
   "display_name": "Python 3 (ipykernel)",
   "language": "python",
   "name": "python3"
  },
  "language_info": {
   "codemirror_mode": {
    "name": "ipython",
    "version": 3
   },
   "file_extension": ".py",
   "mimetype": "text/x-python",
   "name": "python",
   "nbconvert_exporter": "python",
   "pygments_lexer": "ipython3",
   "version": "3.12.4"
  }
 },
 "nbformat": 4,
 "nbformat_minor": 5
}
